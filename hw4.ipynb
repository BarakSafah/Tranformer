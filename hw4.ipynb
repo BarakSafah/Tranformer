{
  "cells": [
    {
      "cell_type": "markdown",
      "metadata": {
        "id": "view-in-github",
        "colab_type": "text"
      },
      "source": [
        "<a href=\"https://colab.research.google.com/github/BarakSafah/Tranformer/blob/main/hw4.ipynb\" target=\"_parent\"><img src=\"https://colab.research.google.com/assets/colab-badge.svg\" alt=\"Open In Colab\"/></a>"
      ]
    },
    {
      "cell_type": "markdown",
      "source": [
        "## [HW4] Hush, the seagulls are purring: On generating humorous captions from scene descriptions\n",
        "\n",
        "CS 4740/CS 5740/COGST 4740/LING 4474, fall 2023\n",
        "\n",
        "<br/>\n",
        "\n",
        "<div align=\"center\">\n",
        "    <img src=\"https://media.newyorker.com/cartoons/6438b7e6a22e87ce2f4d36d5/master/w_1280,c_limit/230424_a27699.jpg\" width=\"500\"/>\n",
        "    <br/>\n",
        "    Source: <a href=\"https://www.newyorker.com/cartoons/issue-cartoons/cartoons-from-the-april-24-and-may-1-2023-issue\">\n",
        "\"<i>To think this all began with letting autocomplete finish our sentences.</i>\" by Robert Leighton</a>\n",
        "    <br/>\n",
        "    (Licensed from the New Yorker Cartoon Bank.)\n",
        "</div>\n",
        "\n",
        "<br/>\n",
        "\n",
        "No part (code, documentation, comments, etc.) of this notebook or any assignment-related artefacts were generated/created, refined, or modified using generative AI tools such as ChatGPT. Cite this notebook as:\n",
        "> Tushaar Gangavarapu, Darren Key<sup>&#129433;</sup>, Logan Kraver<sup>&#129433;</sup>, Lionel Tan<sup>&#129433;</sup>, Pun Chaixanien<sup>&#129436;</sup>, Kai Horstmann<sup>&#129436;</sup>, Dave Jung<sup>&#129436;</sup>, Aaishi Uppuluri<sup>&#129436;</sup>. 2023. [CS 4740 Fa'23 HW4] Hush, the seagulls are purring: On generating humorous captions from scene descriptions. GitHub. https://github.coecis.cornell.edu/cs4740-fa23-public/hw4-fa23/. <br/>\n",
        "> &nbsp;&nbsp;&nbsp;&nbsp;<sup>&#129433;</sup>equal contribution, software creators, ordered alphabetically<br/>\n",
        "> &nbsp;&nbsp;&nbsp;&nbsp;<sup>&#129436;</sup>equal contribution, software testers, ordered alphabetically<br/>\n",
        "\n",
        "__Acknowledgments.__ This assignment was inspired from the award-winning work: [Do Androids Laugh at Electric Sheep? Humor \"Understanding\" Benchmarks from The New Yorker Caption Contest](https://aclanthology.org/2023.acl-long.41/) by Jack Hessel, Ana Marasović, Jena D. Hwang, <u>Lillian Lee</u>, Jeff Da, Rowan Zellers, Robert Mankoff, and Yejin Choi."
      ],
      "metadata": {
        "id": "o2PCim9NBE0Q"
      },
      "id": "o2PCim9NBE0Q"
    },
    {
      "cell_type": "markdown",
      "id": "8c67f7b6-1992-41d1-a747-b9c9504b4102",
      "metadata": {
        "id": "8c67f7b6-1992-41d1-a747-b9c9504b4102"
      },
      "source": [
        "---\n",
        "\n",
        "__Deadlines__\n",
        "\n",
        "Follow [Ed #804](https://edstem.org/us/courses/42759/discussion/3862763) for all updates on the assignment; the submission and grouping instructions will be posted there. It can be misleading to just follow the \"git commit\" trail.\n",
        "* Milestone deadline: <font color=\"red\">November 20, 2023</font> (Monday), 11.59pm on the submission site(s), with free \"extension\" (late deadline) till November 27, 2023 (Monday) 11.59pm. (Expect reduced support from the course staff over the break.)\n",
        "* Assignment submission deadline: <font color=\"red\">December 03, 2023</font> (Sunday), 11.59pm on the submission site(s).\n",
        "\n",
        "The milestone submission _is_ graded on correctness<a name=\"footnote1\"></a>[<sup>[1]</sup>](#milestone-note) and not just completion: we want to be able to give early feedback on possible conceptual misalignment, code efficiency concerns, etc. You are expected to complete up to (and including) [multi-head attention (section 4)](#sec4) for the milestone submission.\n",
        "\n",
        "> <a name=\"milestone-note\"></a><sup>[1] </sup>Passing the milestone doesn't guarantee full correctness of the tested components (you should be writing your own test cases to assure that!); to understand how to test your code, in the code files not edited by you, you can see several tests under `if __name__ == \"__main__\"`. Upon final submission, your code will be tested on several additional test cases. [↩︎](#footnote1)"
      ]
    },
    {
      "cell_type": "markdown",
      "source": [
        "__Documentation.__ For your convenience, we're maintaining a documentation of all the modules and scripts used in HW4 assignment at: https://pages.github.coecis.cornell.edu/cs4740/hw4-fa23/."
      ],
      "metadata": {
        "id": "hAc884XneAlk"
      },
      "id": "hAc884XneAlk"
    },
    {
      "cell_type": "markdown",
      "source": [
        "__Learning outcomes__\n",
        "\n",
        "The goal of this assignment is to finetune _Seagull_, a large language transformer model to generate humorous captions, given a scene and associated uncanny description. To this end, you will:\n",
        "* understand and process data as needed (tokenization, padding, truncation, etc.),\n",
        "* generate learnable latent representations for tokens (embeddings),\n",
        "* implement multi-head attention to capture \"context\" and feed-forward to enable pointwise transformations,\n",
        "* assemble a transformer layer using the implemented multi-head attention and feed-forward modules,\n",
        "* attach a language modeling head to the transformer, and\n",
        "* finetune your Seagull from a pretrained model, to generate humorous captions.\n",
        "\n",
        "With these goals in mind, the evaluation metric in this assignment is designed to evaluate your finetuned Seagull's alignment with ours (we'll explain this [later](#sec73)!)."
      ],
      "metadata": {
        "id": "DPFlNXi5xb9P"
      },
      "id": "DPFlNXi5xb9P"
    },
    {
      "cell_type": "markdown",
      "source": [
        "__Policies.__ All the policies described on the course website are applicable as is (including the policy on academic integrity and the use of generative AI tools), for more information, see: https://www.cs.cornell.edu/courses/cs4740/2023fa/."
      ],
      "metadata": {
        "id": "TJjsn9E6xfIk"
      },
      "id": "TJjsn9E6xfIk"
    },
    {
      "cell_type": "markdown",
      "id": "614c9d2c-cd32-48bc-ae49-c0b4ab5aee0f",
      "metadata": {
        "id": "614c9d2c-cd32-48bc-ae49-c0b4ab5aee0f"
      },
      "source": [
        "---\n",
        "\n",
        "<a name=\"outline\"></a>__Assignment outline__\n",
        "\n",
        "* [[$\\ast$] Attributions](#attr)\n",
        "* [[0] Imports and installs!](#sec0)\n",
        "* [[1] Seagull humor: Task overview](#sec1)\n",
        "* [[2] Data processing](#sec2)\n",
        "  * [[2.1] Preprocessing for autoregressive modeling](#sec21)\n",
        "  * [[2.2] Tokenization and padding](#sec22)\n",
        "  * [[2.3] Inputs and labels](#sec23)\n",
        "* [[3] Token (and positional) embeddings](#sec3)\n",
        "* [[4] Are \"Seagulls\" multi-headed beasts?](#sec4) ← up next: milestone submission\n",
        "* [[$\\ast$] Milestone submission](#milestone)\n",
        "* [[5] Pointwise feed-forward network](#sec5)\n",
        "* [[6] Assembling the Seagull!](#sec6)\n",
        "  * [[6.1] Building a single transformer layer](#sec61)\n",
        "  * [[6.2] Final touches: Adding a language modeling head](#sec62)\n",
        "* [[7] Hey Seagull, tell me a joke!](#sec7) ← the fun part!\n",
        "  * [[7.1] Random Seagulls vs. pretrained Seagulls](#sec71)\n",
        "  * [[7.2] Finetuning the Seagull to \"understand\" humor](#sec72)\n",
        "  * [[7.3] Notes on model evaluation](#sec73)\n",
        "* [[$\\ast$] Final/leaderboard submission](#final) ← leaderboard: optional <a name=\"footnote2\"></a>[<sup>[2]</sup>](#optional)\n",
        "\n",
        "> <a name=\"optional\"></a><sup>[2] </sup>The leaderboard submission is private (your scores are not visible to other students) and using the leaderboard is optional.\n",
        ">\n",
        "> That said, we _will_ run your submitted model ([from your final submission](#final)), and you will be graded on the generative abilities of your model. <font color=\"red\">To receive full credit, your model must achieve an alignment score below 0.70 (yes, lower is better!).</font> If the model scores above the set baseline, the associated performance points will be a binned linear function of the score [= being close to the baseline guarantees majority of the credit]. [↩︎](#footnote2)"
      ]
    },
    {
      "cell_type": "markdown",
      "id": "c33c83ae-b60f-47bc-ade0-edc3c2a2c2b4",
      "metadata": {
        "id": "c33c83ae-b60f-47bc-ade0-edc3c2a2c2b4"
      },
      "source": [
        "---\n",
        "<a name=\"attr\"></a>\n",
        "### [$\\ast$] Attributions [↩︎](#outline)\n",
        "Please use the space provided below to acknowledge (by name/source) all help you received (this includes generative AI tools); you're welcome to cite references in line when answering the \"written\" questions. If you wish to submit answers to the written questions in a separate file, please be sure to note your attributions there.\n"
      ]
    },
    {
      "cell_type": "markdown",
      "source": [
        "_Attributions (if any) go here._"
      ],
      "metadata": {
        "id": "o1onuJowYyBk"
      },
      "id": "o1onuJowYyBk"
    },
    {
      "cell_type": "markdown",
      "id": "7202fd73-d1ea-4c7a-a136-a9e75c6bc0ab",
      "metadata": {
        "id": "7202fd73-d1ea-4c7a-a136-a9e75c6bc0ab"
      },
      "source": [
        "---\n",
        "<a name=\"sec0\"></a>\n",
        "### [0] Imports and installs! [↩︎](#outline)\n",
        "\n",
        "Assuming that you've followed [setup.ipynb](https://github.coecis.cornell.edu/cs4740-fa23-public/hw4-fa23/blob/main/notebooks/setup.ipynb) and successfully setup (or added a shortcut to) the `hw4-fa23` folder, the following code will install any external libraries and needed packages to run HW4 assignment and takes ~5mins. Before proceeding, be sure to run the second code cell to ensure that the installation is successful.\n",
        "\n",
        "> __Tip__. It is possible to run out of GPU cycles on Colab by keeping the GPU connected when being unused; we strongly recommend using CPU while experimenting and developing your code, then transition to using a GPU to run the finetuning and inference."
      ]
    },
    {
      "cell_type": "code",
      "source": [
        "from google.colab import drive\n",
        "drive.mount(\"/content/drive\")\n",
        "\n",
        "%cd -q \"/content/drive/MyDrive\"\n",
        "!if [ ! -d \"CS4740\" ]; then mkdir \"CS4740\"; fi\n",
        "%cd \"CS4740\""
      ],
      "metadata": {
        "colab": {
          "base_uri": "https://localhost:8080/"
        },
        "id": "2G_QIrcfmLU1",
        "outputId": "684f0559-75d1-4e32-b4f7-86eea60e641e"
      },
      "id": "2G_QIrcfmLU1",
      "execution_count": 8,
      "outputs": [
        {
          "output_type": "stream",
          "name": "stdout",
          "text": [
            "Drive already mounted at /content/drive; to attempt to forcibly remount, call drive.mount(\"/content/drive\", force_remount=True).\n",
            "/content/drive/MyDrive/CS4740\n"
          ]
        }
      ]
    },
    {
      "cell_type": "code",
      "source": [
        "\n",
        "%%shell\n",
        "read -rsp \"Enter your personal access token: \" PERSONAL_ACCESS_TOKEN\n",
        "echo\n",
        "\n",
        "if [[ -z $PERSONAL_ACCESS_TOKEN ]]; then\n",
        "    echo -e \"\\033[91mPERSONAL_ACCESS_TOKEN not set\"\n",
        "else\n",
        "    echo \"export PERSONAL_ACCESS_TOKEN=\\\"$PERSONAL_ACCESS_TOKEN\\\"\" > environment_variables.sh\n",
        "    echo -e \"\\033[92mPERSONAL_ACCESS_TOKEN registered!\"\n",
        "fi\n",
        ""
      ],
      "metadata": {
        "colab": {
          "base_uri": "https://localhost:8080/"
        },
        "id": "QtcsI1KlputT",
        "outputId": "6bc95688-9d6e-4eb7-d475-9650775c85ee"
      },
      "id": "QtcsI1KlputT",
      "execution_count": 25,
      "outputs": [
        {
          "output_type": "stream",
          "name": "stdout",
          "text": [
            "Enter your personal access token: \n",
            "\u001b[92mPERSONAL_ACCESS_TOKEN registered!\n"
          ]
        },
        {
          "output_type": "execute_result",
          "data": {
            "text/plain": []
          },
          "metadata": {},
          "execution_count": 25
        }
      ]
    },
    {
      "cell_type": "code",
      "source": [
        "%%bash\n",
        "source ./environment_variables.sh\n",
        "if [[ -z $PERSONAL_ACCESS_TOKEN ]]; then\n",
        "    echo -e \"\\033[91mPERSONAL_ACCESS_TOKEN not set\"\n",
        "else\n",
        "    org=\"cs4740-fa23-public\"\n",
        "    repo=\"hw4-fa23\"\n",
        "    if [ ! -d $repo ]; then\n",
        "        GIT_LFS_SKIP_SMUDGE=1 git clone https://\"$PERSONAL_ACCESS_TOKEN\"@github.coecis.cornell.edu/$org/$repo.git \\\n",
        "            2> ~/error_log.txt || chmod +x $repo/.git/hooks/post-checkout\n",
        "        echo -e \"\\033[92mSuccessfully cloned $org/$repo\"\n",
        "    fi\n",
        "fi"
      ],
      "metadata": {
        "colab": {
          "base_uri": "https://localhost:8080/"
        },
        "id": "zBFBsdQBmbEI",
        "outputId": "65645265-51b7-4c1a-998f-30fd169aaadc"
      },
      "id": "zBFBsdQBmbEI",
      "execution_count": 35,
      "outputs": [
        {
          "output_type": "stream",
          "name": "stdout",
          "text": [
            "\u001b[92mSuccessfully cloned cs4740-fa23-public/hw4-fa23\n"
          ]
        }
      ]
    },
    {
      "cell_type": "code",
      "execution_count": 36,
      "id": "397e2602-d003-4528-8223-04a00ddbeb8a",
      "metadata": {
        "id": "397e2602-d003-4528-8223-04a00ddbeb8a",
        "colab": {
          "base_uri": "https://localhost:8080/",
          "height": 1000
        },
        "outputId": "9564435a-d4f1-44f8-97ff-bbd207e7aa6b"
      },
      "outputs": [
        {
          "output_type": "stream",
          "name": "stdout",
          "text": [
            "Drive already mounted at /content/drive; to attempt to forcibly remount, call drive.mount(\"/content/drive\", force_remount=True).\n",
            "/content/drive/MyDrive/CS4740/hw4-fa23\n"
          ]
        },
        {
          "output_type": "stream",
          "name": "stderr",
          "text": [
            "ERROR:root:Internal Python error in the inspect module.\n",
            "Below is the traceback from this internal error.\n",
            "\n"
          ]
        },
        {
          "output_type": "stream",
          "name": "stdout",
          "text": [
            "Traceback (most recent call last):\n",
            "  File \"/usr/local/lib/python3.10/dist-packages/setuptools/command/easy_install.py\", line 750, in process_distribution\n",
            "    distros = WorkingSet([]).resolve(\n",
            "  File \"/usr/local/lib/python3.10/dist-packages/pkg_resources/__init__.py\", line 827, in resolve\n",
            "    dist = self._resolve_dist(\n",
            "  File \"/usr/local/lib/python3.10/dist-packages/pkg_resources/__init__.py\", line 873, in _resolve_dist\n",
            "    raise VersionConflict(dist, req).with_context(dependent_req)\n",
            "pkg_resources.ContextualVersionConflict: (pyzmq 23.2.1 (/usr/local/lib/python3.10/dist-packages), Requirement.parse('pyzmq>=24'), {'ipykernel'})\n",
            "\n",
            "The above exception was the direct cause of the following exception:\n",
            "\n",
            "Traceback (most recent call last):\n",
            "  File \"/usr/local/lib/python3.10/dist-packages/setuptools/_distutils/core.py\", line 201, in run_commands\n",
            "    dist.run_commands()\n",
            "  File \"/usr/local/lib/python3.10/dist-packages/setuptools/_distutils/dist.py\", line 969, in run_commands\n",
            "    self.run_command(cmd)\n",
            "  File \"/usr/local/lib/python3.10/dist-packages/setuptools/dist.py\", line 1244, in run_command\n",
            "    super().run_command(command)\n",
            "  File \"/usr/local/lib/python3.10/dist-packages/setuptools/_distutils/dist.py\", line 988, in run_command\n",
            "    cmd_obj.run()\n",
            "  File \"/usr/local/lib/python3.10/dist-packages/setuptools/command/develop.py\", line 34, in run\n",
            "    self.install_for_development()\n",
            "  File \"/usr/local/lib/python3.10/dist-packages/setuptools/command/develop.py\", line 130, in install_for_development\n",
            "    self.process_distribution(None, self.dist, not self.no_deps)\n",
            "  File \"/usr/local/lib/python3.10/dist-packages/setuptools/command/easy_install.py\", line 756, in process_distribution\n",
            "    raise DistutilsError(e.report()) from e\n",
            "distutils.errors.DistutilsError: pyzmq 23.2.1 is installed but pyzmq>=24 is required by {'ipykernel'}\n",
            "\n",
            "During handling of the above exception, another exception occurred:\n",
            "\n",
            "Traceback (most recent call last):\n",
            "  File \"/usr/local/lib/python3.10/dist-packages/IPython/core/interactiveshell.py\", line 2831, in safe_execfile\n",
            "    py3compat.execfile(\n",
            "  File \"/usr/local/lib/python3.10/dist-packages/IPython/utils/py3compat.py\", line 168, in execfile\n",
            "    exec(compiler(f.read(), fname, 'exec'), glob, loc)\n",
            "  File \"/content/drive/MyDrive/CS4740/hw4-fa23/setup.py\", line 8, in <module>\n",
            "    setup(\n",
            "  File \"/usr/local/lib/python3.10/dist-packages/setuptools/__init__.py\", line 107, in setup\n",
            "    return distutils.core.setup(**attrs)\n",
            "  File \"/usr/local/lib/python3.10/dist-packages/setuptools/_distutils/core.py\", line 185, in setup\n",
            "    return run_commands(dist)\n",
            "  File \"/usr/local/lib/python3.10/dist-packages/setuptools/_distutils/core.py\", line 215, in run_commands\n",
            "    raise SystemExit(\"error: \" + str(msg))\n",
            "SystemExit: error: pyzmq 23.2.1 is installed but pyzmq>=24 is required by {'ipykernel'}\n",
            "\n",
            "During handling of the above exception, another exception occurred:\n",
            "\n",
            "Traceback (most recent call last):\n",
            "  File \"/usr/local/lib/python3.10/dist-packages/IPython/core/ultratb.py\", line 1101, in get_records\n",
            "    return _fixed_getinnerframes(etb, number_of_lines_of_context, tb_offset)\n",
            "  File \"/usr/local/lib/python3.10/dist-packages/IPython/core/ultratb.py\", line 248, in wrapped\n",
            "    return f(*args, **kwargs)\n",
            "  File \"/usr/local/lib/python3.10/dist-packages/IPython/core/ultratb.py\", line 281, in _fixed_getinnerframes\n",
            "    records = fix_frame_records_filenames(inspect.getinnerframes(etb, context))\n",
            "  File \"/usr/lib/python3.10/inspect.py\", line 1662, in getinnerframes\n",
            "    frameinfo = (tb.tb_frame,) + getframeinfo(tb, context)\n",
            "AttributeError: 'tuple' object has no attribute 'tb_frame'\n"
          ]
        },
        {
          "output_type": "error",
          "ename": "TypeError",
          "evalue": "object of type 'NoneType' has no len()",
          "traceback": [
            "\u001b[0;31m---------------------------------------------------------------------------\u001b[0m",
            "\u001b[0;31mContextualVersionConflict\u001b[0m                 Traceback (most recent call last)",
            "\u001b[0;32m/usr/local/lib/python3.10/dist-packages/setuptools/command/easy_install.py\u001b[0m in \u001b[0;36mprocess_distribution\u001b[0;34m(self, requirement, dist, deps, *info)\u001b[0m\n\u001b[1;32m    749\u001b[0m         \u001b[0;32mtry\u001b[0m\u001b[0;34m:\u001b[0m\u001b[0;34m\u001b[0m\u001b[0;34m\u001b[0m\u001b[0m\n\u001b[0;32m--> 750\u001b[0;31m             distros = WorkingSet([]).resolve(\n\u001b[0m\u001b[1;32m    751\u001b[0m                 \u001b[0;34m[\u001b[0m\u001b[0mrequirement\u001b[0m\u001b[0;34m]\u001b[0m\u001b[0;34m,\u001b[0m \u001b[0mself\u001b[0m\u001b[0;34m.\u001b[0m\u001b[0mlocal_index\u001b[0m\u001b[0;34m,\u001b[0m \u001b[0mself\u001b[0m\u001b[0;34m.\u001b[0m\u001b[0measy_install\u001b[0m\u001b[0;34m\u001b[0m\u001b[0;34m\u001b[0m\u001b[0m\n",
            "\u001b[0;32m/usr/local/lib/python3.10/dist-packages/pkg_resources/__init__.py\u001b[0m in \u001b[0;36mresolve\u001b[0;34m(self, requirements, env, installer, replace_conflicting, extras)\u001b[0m\n\u001b[1;32m    826\u001b[0m \u001b[0;34m\u001b[0m\u001b[0m\n\u001b[0;32m--> 827\u001b[0;31m             dist = self._resolve_dist(\n\u001b[0m\u001b[1;32m    828\u001b[0m                 \u001b[0mreq\u001b[0m\u001b[0;34m,\u001b[0m \u001b[0mbest\u001b[0m\u001b[0;34m,\u001b[0m \u001b[0mreplace_conflicting\u001b[0m\u001b[0;34m,\u001b[0m \u001b[0menv\u001b[0m\u001b[0;34m,\u001b[0m \u001b[0minstaller\u001b[0m\u001b[0;34m,\u001b[0m \u001b[0mrequired_by\u001b[0m\u001b[0;34m,\u001b[0m \u001b[0mto_activate\u001b[0m\u001b[0;34m\u001b[0m\u001b[0;34m\u001b[0m\u001b[0m\n",
            "\u001b[0;32m/usr/local/lib/python3.10/dist-packages/pkg_resources/__init__.py\u001b[0m in \u001b[0;36m_resolve_dist\u001b[0;34m(self, req, best, replace_conflicting, env, installer, required_by, to_activate)\u001b[0m\n\u001b[1;32m    872\u001b[0m             \u001b[0mdependent_req\u001b[0m \u001b[0;34m=\u001b[0m \u001b[0mrequired_by\u001b[0m\u001b[0;34m[\u001b[0m\u001b[0mreq\u001b[0m\u001b[0;34m]\u001b[0m\u001b[0;34m\u001b[0m\u001b[0;34m\u001b[0m\u001b[0m\n\u001b[0;32m--> 873\u001b[0;31m             \u001b[0;32mraise\u001b[0m \u001b[0mVersionConflict\u001b[0m\u001b[0;34m(\u001b[0m\u001b[0mdist\u001b[0m\u001b[0;34m,\u001b[0m \u001b[0mreq\u001b[0m\u001b[0;34m)\u001b[0m\u001b[0;34m.\u001b[0m\u001b[0mwith_context\u001b[0m\u001b[0;34m(\u001b[0m\u001b[0mdependent_req\u001b[0m\u001b[0;34m)\u001b[0m\u001b[0;34m\u001b[0m\u001b[0;34m\u001b[0m\u001b[0m\n\u001b[0m\u001b[1;32m    874\u001b[0m         \u001b[0;32mreturn\u001b[0m \u001b[0mdist\u001b[0m\u001b[0;34m\u001b[0m\u001b[0;34m\u001b[0m\u001b[0m\n",
            "\u001b[0;31mContextualVersionConflict\u001b[0m: (pyzmq 23.2.1 (/usr/local/lib/python3.10/dist-packages), Requirement.parse('pyzmq>=24'), {'ipykernel'})",
            "\nThe above exception was the direct cause of the following exception:\n",
            "\u001b[0;31mDistutilsError\u001b[0m                            Traceback (most recent call last)",
            "\u001b[0;32m/usr/local/lib/python3.10/dist-packages/setuptools/_distutils/core.py\u001b[0m in \u001b[0;36mrun_commands\u001b[0;34m(dist)\u001b[0m\n\u001b[1;32m    200\u001b[0m     \u001b[0;32mtry\u001b[0m\u001b[0;34m:\u001b[0m\u001b[0;34m\u001b[0m\u001b[0;34m\u001b[0m\u001b[0m\n\u001b[0;32m--> 201\u001b[0;31m         \u001b[0mdist\u001b[0m\u001b[0;34m.\u001b[0m\u001b[0mrun_commands\u001b[0m\u001b[0;34m(\u001b[0m\u001b[0;34m)\u001b[0m\u001b[0;34m\u001b[0m\u001b[0;34m\u001b[0m\u001b[0m\n\u001b[0m\u001b[1;32m    202\u001b[0m     \u001b[0;32mexcept\u001b[0m \u001b[0mKeyboardInterrupt\u001b[0m\u001b[0;34m:\u001b[0m\u001b[0;34m\u001b[0m\u001b[0;34m\u001b[0m\u001b[0m\n",
            "\u001b[0;32m/usr/local/lib/python3.10/dist-packages/setuptools/_distutils/dist.py\u001b[0m in \u001b[0;36mrun_commands\u001b[0;34m(self)\u001b[0m\n\u001b[1;32m    968\u001b[0m         \u001b[0;32mfor\u001b[0m \u001b[0mcmd\u001b[0m \u001b[0;32min\u001b[0m \u001b[0mself\u001b[0m\u001b[0;34m.\u001b[0m\u001b[0mcommands\u001b[0m\u001b[0;34m:\u001b[0m\u001b[0;34m\u001b[0m\u001b[0;34m\u001b[0m\u001b[0m\n\u001b[0;32m--> 969\u001b[0;31m             \u001b[0mself\u001b[0m\u001b[0;34m.\u001b[0m\u001b[0mrun_command\u001b[0m\u001b[0;34m(\u001b[0m\u001b[0mcmd\u001b[0m\u001b[0;34m)\u001b[0m\u001b[0;34m\u001b[0m\u001b[0;34m\u001b[0m\u001b[0m\n\u001b[0m\u001b[1;32m    970\u001b[0m \u001b[0;34m\u001b[0m\u001b[0m\n",
            "\u001b[0;32m/usr/local/lib/python3.10/dist-packages/setuptools/dist.py\u001b[0m in \u001b[0;36mrun_command\u001b[0;34m(self, command)\u001b[0m\n\u001b[1;32m   1243\u001b[0m \u001b[0;34m\u001b[0m\u001b[0m\n\u001b[0;32m-> 1244\u001b[0;31m         \u001b[0msuper\u001b[0m\u001b[0;34m(\u001b[0m\u001b[0;34m)\u001b[0m\u001b[0;34m.\u001b[0m\u001b[0mrun_command\u001b[0m\u001b[0;34m(\u001b[0m\u001b[0mcommand\u001b[0m\u001b[0;34m)\u001b[0m\u001b[0;34m\u001b[0m\u001b[0;34m\u001b[0m\u001b[0m\n\u001b[0m\u001b[1;32m   1245\u001b[0m \u001b[0;34m\u001b[0m\u001b[0m\n",
            "\u001b[0;32m/usr/local/lib/python3.10/dist-packages/setuptools/_distutils/dist.py\u001b[0m in \u001b[0;36mrun_command\u001b[0;34m(self, command)\u001b[0m\n\u001b[1;32m    987\u001b[0m         \u001b[0mcmd_obj\u001b[0m\u001b[0;34m.\u001b[0m\u001b[0mensure_finalized\u001b[0m\u001b[0;34m(\u001b[0m\u001b[0;34m)\u001b[0m\u001b[0;34m\u001b[0m\u001b[0;34m\u001b[0m\u001b[0m\n\u001b[0;32m--> 988\u001b[0;31m         \u001b[0mcmd_obj\u001b[0m\u001b[0;34m.\u001b[0m\u001b[0mrun\u001b[0m\u001b[0;34m(\u001b[0m\u001b[0;34m)\u001b[0m\u001b[0;34m\u001b[0m\u001b[0;34m\u001b[0m\u001b[0m\n\u001b[0m\u001b[1;32m    989\u001b[0m         \u001b[0mself\u001b[0m\u001b[0;34m.\u001b[0m\u001b[0mhave_run\u001b[0m\u001b[0;34m[\u001b[0m\u001b[0mcommand\u001b[0m\u001b[0;34m]\u001b[0m \u001b[0;34m=\u001b[0m \u001b[0;36m1\u001b[0m\u001b[0;34m\u001b[0m\u001b[0;34m\u001b[0m\u001b[0m\n",
            "\u001b[0;32m/usr/local/lib/python3.10/dist-packages/setuptools/command/develop.py\u001b[0m in \u001b[0;36mrun\u001b[0;34m(self)\u001b[0m\n\u001b[1;32m     33\u001b[0m         \u001b[0;32melse\u001b[0m\u001b[0;34m:\u001b[0m\u001b[0;34m\u001b[0m\u001b[0;34m\u001b[0m\u001b[0m\n\u001b[0;32m---> 34\u001b[0;31m             \u001b[0mself\u001b[0m\u001b[0;34m.\u001b[0m\u001b[0minstall_for_development\u001b[0m\u001b[0;34m(\u001b[0m\u001b[0;34m)\u001b[0m\u001b[0;34m\u001b[0m\u001b[0;34m\u001b[0m\u001b[0m\n\u001b[0m\u001b[1;32m     35\u001b[0m         \u001b[0mself\u001b[0m\u001b[0;34m.\u001b[0m\u001b[0mwarn_deprecated_options\u001b[0m\u001b[0;34m(\u001b[0m\u001b[0;34m)\u001b[0m\u001b[0;34m\u001b[0m\u001b[0;34m\u001b[0m\u001b[0m\n",
            "\u001b[0;32m/usr/local/lib/python3.10/dist-packages/setuptools/command/develop.py\u001b[0m in \u001b[0;36minstall_for_development\u001b[0;34m(self)\u001b[0m\n\u001b[1;32m    129\u001b[0m         \u001b[0;31m# and handling requirements\u001b[0m\u001b[0;34m\u001b[0m\u001b[0;34m\u001b[0m\u001b[0m\n\u001b[0;32m--> 130\u001b[0;31m         \u001b[0mself\u001b[0m\u001b[0;34m.\u001b[0m\u001b[0mprocess_distribution\u001b[0m\u001b[0;34m(\u001b[0m\u001b[0;32mNone\u001b[0m\u001b[0;34m,\u001b[0m \u001b[0mself\u001b[0m\u001b[0;34m.\u001b[0m\u001b[0mdist\u001b[0m\u001b[0;34m,\u001b[0m \u001b[0;32mnot\u001b[0m \u001b[0mself\u001b[0m\u001b[0;34m.\u001b[0m\u001b[0mno_deps\u001b[0m\u001b[0;34m)\u001b[0m\u001b[0;34m\u001b[0m\u001b[0;34m\u001b[0m\u001b[0m\n\u001b[0m\u001b[1;32m    131\u001b[0m \u001b[0;34m\u001b[0m\u001b[0m\n",
            "\u001b[0;32m/usr/local/lib/python3.10/dist-packages/setuptools/command/easy_install.py\u001b[0m in \u001b[0;36mprocess_distribution\u001b[0;34m(self, requirement, dist, deps, *info)\u001b[0m\n\u001b[1;32m    755\u001b[0m         \u001b[0;32mexcept\u001b[0m \u001b[0mVersionConflict\u001b[0m \u001b[0;32mas\u001b[0m \u001b[0me\u001b[0m\u001b[0;34m:\u001b[0m\u001b[0;34m\u001b[0m\u001b[0;34m\u001b[0m\u001b[0m\n\u001b[0;32m--> 756\u001b[0;31m             \u001b[0;32mraise\u001b[0m \u001b[0mDistutilsError\u001b[0m\u001b[0;34m(\u001b[0m\u001b[0me\u001b[0m\u001b[0;34m.\u001b[0m\u001b[0mreport\u001b[0m\u001b[0;34m(\u001b[0m\u001b[0;34m)\u001b[0m\u001b[0;34m)\u001b[0m \u001b[0;32mfrom\u001b[0m \u001b[0me\u001b[0m\u001b[0;34m\u001b[0m\u001b[0;34m\u001b[0m\u001b[0m\n\u001b[0m\u001b[1;32m    757\u001b[0m         \u001b[0;32mif\u001b[0m \u001b[0mself\u001b[0m\u001b[0;34m.\u001b[0m\u001b[0malways_copy\u001b[0m \u001b[0;32mor\u001b[0m \u001b[0mself\u001b[0m\u001b[0;34m.\u001b[0m\u001b[0malways_copy_from\u001b[0m\u001b[0;34m:\u001b[0m\u001b[0;34m\u001b[0m\u001b[0;34m\u001b[0m\u001b[0m\n",
            "\u001b[0;31mDistutilsError\u001b[0m: pyzmq 23.2.1 is installed but pyzmq>=24 is required by {'ipykernel'}",
            "\nDuring handling of the above exception, another exception occurred:\n",
            "\u001b[0;31mSystemExit\u001b[0m                                Traceback (most recent call last)",
            "\u001b[0;32m/usr/local/lib/python3.10/dist-packages/IPython/core/interactiveshell.py\u001b[0m in \u001b[0;36msafe_execfile\u001b[0;34m(self, fname, exit_ignore, raise_exceptions, shell_futures, *where)\u001b[0m\n\u001b[1;32m   2830\u001b[0m                 \u001b[0mglob\u001b[0m\u001b[0;34m,\u001b[0m \u001b[0mloc\u001b[0m \u001b[0;34m=\u001b[0m \u001b[0;34m(\u001b[0m\u001b[0mwhere\u001b[0m \u001b[0;34m+\u001b[0m \u001b[0;34m(\u001b[0m\u001b[0;32mNone\u001b[0m\u001b[0;34m,\u001b[0m \u001b[0;34m)\u001b[0m\u001b[0;34m)\u001b[0m\u001b[0;34m[\u001b[0m\u001b[0;34m:\u001b[0m\u001b[0;36m2\u001b[0m\u001b[0;34m]\u001b[0m\u001b[0;34m\u001b[0m\u001b[0;34m\u001b[0m\u001b[0m\n\u001b[0;32m-> 2831\u001b[0;31m                 py3compat.execfile(\n\u001b[0m\u001b[1;32m   2832\u001b[0m                     \u001b[0mfname\u001b[0m\u001b[0;34m,\u001b[0m \u001b[0mglob\u001b[0m\u001b[0;34m,\u001b[0m \u001b[0mloc\u001b[0m\u001b[0;34m,\u001b[0m\u001b[0;34m\u001b[0m\u001b[0;34m\u001b[0m\u001b[0m\n",
            "\u001b[0;32m/usr/local/lib/python3.10/dist-packages/IPython/utils/py3compat.py\u001b[0m in \u001b[0;36mexecfile\u001b[0;34m(fname, glob, loc, compiler)\u001b[0m\n\u001b[1;32m    167\u001b[0m         \u001b[0mcompiler\u001b[0m \u001b[0;34m=\u001b[0m \u001b[0mcompiler\u001b[0m \u001b[0;32mor\u001b[0m \u001b[0mcompile\u001b[0m\u001b[0;34m\u001b[0m\u001b[0;34m\u001b[0m\u001b[0m\n\u001b[0;32m--> 168\u001b[0;31m         \u001b[0mexec\u001b[0m\u001b[0;34m(\u001b[0m\u001b[0mcompiler\u001b[0m\u001b[0;34m(\u001b[0m\u001b[0mf\u001b[0m\u001b[0;34m.\u001b[0m\u001b[0mread\u001b[0m\u001b[0;34m(\u001b[0m\u001b[0;34m)\u001b[0m\u001b[0;34m,\u001b[0m \u001b[0mfname\u001b[0m\u001b[0;34m,\u001b[0m \u001b[0;34m'exec'\u001b[0m\u001b[0;34m)\u001b[0m\u001b[0;34m,\u001b[0m \u001b[0mglob\u001b[0m\u001b[0;34m,\u001b[0m \u001b[0mloc\u001b[0m\u001b[0;34m)\u001b[0m\u001b[0;34m\u001b[0m\u001b[0;34m\u001b[0m\u001b[0m\n\u001b[0m\u001b[1;32m    169\u001b[0m \u001b[0;34m\u001b[0m\u001b[0m\n",
            "\u001b[0;32m/content/drive/MyDrive/CS4740/hw4-fa23/setup.py\u001b[0m in \u001b[0;36m<module>\u001b[0;34m\u001b[0m\n\u001b[1;32m      7\u001b[0m \u001b[0;34m\u001b[0m\u001b[0m\n\u001b[0;32m----> 8\u001b[0;31m setup(\n\u001b[0m\u001b[1;32m      9\u001b[0m     \u001b[0mname\u001b[0m\u001b[0;34m=\u001b[0m\u001b[0;34m\"seagull\"\u001b[0m\u001b[0;34m,\u001b[0m\u001b[0;34m\u001b[0m\u001b[0;34m\u001b[0m\u001b[0m\n",
            "\u001b[0;32m/usr/local/lib/python3.10/dist-packages/setuptools/__init__.py\u001b[0m in \u001b[0;36msetup\u001b[0;34m(**attrs)\u001b[0m\n\u001b[1;32m    106\u001b[0m     \u001b[0m_install_setup_requires\u001b[0m\u001b[0;34m(\u001b[0m\u001b[0mattrs\u001b[0m\u001b[0;34m)\u001b[0m\u001b[0;34m\u001b[0m\u001b[0;34m\u001b[0m\u001b[0m\n\u001b[0;32m--> 107\u001b[0;31m     \u001b[0;32mreturn\u001b[0m \u001b[0mdistutils\u001b[0m\u001b[0;34m.\u001b[0m\u001b[0mcore\u001b[0m\u001b[0;34m.\u001b[0m\u001b[0msetup\u001b[0m\u001b[0;34m(\u001b[0m\u001b[0;34m**\u001b[0m\u001b[0mattrs\u001b[0m\u001b[0;34m)\u001b[0m\u001b[0;34m\u001b[0m\u001b[0;34m\u001b[0m\u001b[0m\n\u001b[0m\u001b[1;32m    108\u001b[0m \u001b[0;34m\u001b[0m\u001b[0m\n",
            "\u001b[0;32m/usr/local/lib/python3.10/dist-packages/setuptools/_distutils/core.py\u001b[0m in \u001b[0;36msetup\u001b[0;34m(**attrs)\u001b[0m\n\u001b[1;32m    184\u001b[0m     \u001b[0;32mif\u001b[0m \u001b[0mok\u001b[0m\u001b[0;34m:\u001b[0m\u001b[0;34m\u001b[0m\u001b[0;34m\u001b[0m\u001b[0m\n\u001b[0;32m--> 185\u001b[0;31m         \u001b[0;32mreturn\u001b[0m \u001b[0mrun_commands\u001b[0m\u001b[0;34m(\u001b[0m\u001b[0mdist\u001b[0m\u001b[0;34m)\u001b[0m\u001b[0;34m\u001b[0m\u001b[0;34m\u001b[0m\u001b[0m\n\u001b[0m\u001b[1;32m    186\u001b[0m \u001b[0;34m\u001b[0m\u001b[0m\n",
            "\u001b[0;32m/usr/local/lib/python3.10/dist-packages/setuptools/_distutils/core.py\u001b[0m in \u001b[0;36mrun_commands\u001b[0;34m(dist)\u001b[0m\n\u001b[1;32m    214\u001b[0m         \u001b[0;32melse\u001b[0m\u001b[0;34m:\u001b[0m\u001b[0;34m\u001b[0m\u001b[0;34m\u001b[0m\u001b[0m\n\u001b[0;32m--> 215\u001b[0;31m             \u001b[0;32mraise\u001b[0m \u001b[0mSystemExit\u001b[0m\u001b[0;34m(\u001b[0m\u001b[0;34m\"error: \"\u001b[0m \u001b[0;34m+\u001b[0m \u001b[0mstr\u001b[0m\u001b[0;34m(\u001b[0m\u001b[0mmsg\u001b[0m\u001b[0;34m)\u001b[0m\u001b[0;34m)\u001b[0m\u001b[0;34m\u001b[0m\u001b[0;34m\u001b[0m\u001b[0m\n\u001b[0m\u001b[1;32m    216\u001b[0m \u001b[0;34m\u001b[0m\u001b[0m\n",
            "\u001b[0;31mSystemExit\u001b[0m: error: pyzmq 23.2.1 is installed but pyzmq>=24 is required by {'ipykernel'}",
            "\nDuring handling of the above exception, another exception occurred:\n",
            "\u001b[0;31mTypeError\u001b[0m                                 Traceback (most recent call last)",
            "\u001b[0;32m<ipython-input-36-f66f9e09dff3>\u001b[0m in \u001b[0;36m<cell line: 7>\u001b[0;34m()\u001b[0m\n\u001b[1;32m      5\u001b[0m \u001b[0;34m\u001b[0m\u001b[0m\n\u001b[1;32m      6\u001b[0m \u001b[0;32mfrom\u001b[0m \u001b[0mcolab\u001b[0m\u001b[0;34m.\u001b[0m\u001b[0mfile_utils\u001b[0m \u001b[0;32mimport\u001b[0m \u001b[0mload_required\u001b[0m\u001b[0;34m\u001b[0m\u001b[0;34m\u001b[0m\u001b[0m\n\u001b[0;32m----> 7\u001b[0;31m \u001b[0mload_required\u001b[0m\u001b[0;34m(\u001b[0m\u001b[0mforce_reinstall_pytorch\u001b[0m\u001b[0;34m=\u001b[0m\u001b[0;32mTrue\u001b[0m\u001b[0;34m)\u001b[0m\u001b[0;34m\u001b[0m\u001b[0;34m\u001b[0m\u001b[0m\n\u001b[0m",
            "\u001b[0;32m/content/drive/MyDrive/CS4740/hw4-fa23/colab/file_utils.py\u001b[0m in \u001b[0;36mload_required\u001b[0;34m(load_dir, environment_variables_filepath, install_packages, force_reinstall_pytorch)\u001b[0m\n\u001b[1;32m     76\u001b[0m         \u001b[0m_needed_packages\u001b[0m\u001b[0;34m.\u001b[0m\u001b[0mextend\u001b[0m\u001b[0;34m(\u001b[0m\u001b[0minstall_packages\u001b[0m\u001b[0;34m)\u001b[0m\u001b[0;34m\u001b[0m\u001b[0;34m\u001b[0m\u001b[0m\n\u001b[1;32m     77\u001b[0m     \u001b[0mipython\u001b[0m\u001b[0;34m.\u001b[0m\u001b[0mrun_line_magic\u001b[0m\u001b[0;34m(\u001b[0m\u001b[0;34m\"sx\"\u001b[0m\u001b[0;34m,\u001b[0m \u001b[0;34mf\"pip install -qqq --progress-bar off {' '.join(_needed_packages)}\"\u001b[0m\u001b[0;34m)\u001b[0m\u001b[0;34m\u001b[0m\u001b[0;34m\u001b[0m\u001b[0m\n\u001b[0;32m---> 78\u001b[0;31m     \u001b[0minstall_seagull\u001b[0m\u001b[0;34m(\u001b[0m\u001b[0;34m)\u001b[0m\u001b[0;34m\u001b[0m\u001b[0;34m\u001b[0m\u001b[0m\n\u001b[0m\u001b[1;32m     79\u001b[0m     \u001b[0mipython\u001b[0m\u001b[0;34m.\u001b[0m\u001b[0mrun_line_magic\u001b[0m\u001b[0;34m(\u001b[0m\u001b[0;34m\"sx\"\u001b[0m\u001b[0;34m,\u001b[0m \u001b[0;34mf\"chmod +x scripts/*.py\"\u001b[0m\u001b[0;34m)\u001b[0m\u001b[0;34m\u001b[0m\u001b[0;34m\u001b[0m\u001b[0m\n\u001b[1;32m     80\u001b[0m \u001b[0;34m\u001b[0m\u001b[0m\n",
            "\u001b[0;32m/content/drive/MyDrive/CS4740/hw4-fa23/colab/file_utils.py\u001b[0m in \u001b[0;36minstall_seagull\u001b[0;34m()\u001b[0m\n\u001b[1;32m     35\u001b[0m \u001b[0;34m\u001b[0m\u001b[0m\n\u001b[1;32m     36\u001b[0m     \u001b[0mwarnings\u001b[0m\u001b[0;34m.\u001b[0m\u001b[0mfilterwarnings\u001b[0m\u001b[0;34m(\u001b[0m\u001b[0;34m\"ignore\"\u001b[0m\u001b[0;34m)\u001b[0m\u001b[0;34m\u001b[0m\u001b[0;34m\u001b[0m\u001b[0m\n\u001b[0;32m---> 37\u001b[0;31m     \u001b[0mipython\u001b[0m\u001b[0;34m.\u001b[0m\u001b[0mrun_line_magic\u001b[0m\u001b[0;34m(\u001b[0m\u001b[0;34m\"run\"\u001b[0m\u001b[0;34m,\u001b[0m \u001b[0;34m\"setup.py -qqq develop\"\u001b[0m\u001b[0;34m)\u001b[0m\u001b[0;34m\u001b[0m\u001b[0;34m\u001b[0m\u001b[0m\n\u001b[0m\u001b[1;32m     38\u001b[0m     \u001b[0msys\u001b[0m\u001b[0;34m.\u001b[0m\u001b[0mpath\u001b[0m\u001b[0;34m.\u001b[0m\u001b[0mappend\u001b[0m\u001b[0;34m(\u001b[0m\u001b[0mos\u001b[0m\u001b[0;34m.\u001b[0m\u001b[0mgetcwd\u001b[0m\u001b[0;34m(\u001b[0m\u001b[0;34m)\u001b[0m\u001b[0;34m)\u001b[0m\u001b[0;34m\u001b[0m\u001b[0;34m\u001b[0m\u001b[0m\n\u001b[1;32m     39\u001b[0m \u001b[0;34m\u001b[0m\u001b[0m\n",
            "\u001b[0;32m/usr/local/lib/python3.10/dist-packages/IPython/core/interactiveshell.py\u001b[0m in \u001b[0;36mrun_line_magic\u001b[0;34m(self, magic_name, line, _stack_depth)\u001b[0m\n\u001b[1;32m   2416\u001b[0m                 \u001b[0mkwargs\u001b[0m\u001b[0;34m[\u001b[0m\u001b[0;34m'local_ns'\u001b[0m\u001b[0;34m]\u001b[0m \u001b[0;34m=\u001b[0m \u001b[0mself\u001b[0m\u001b[0;34m.\u001b[0m\u001b[0mget_local_scope\u001b[0m\u001b[0;34m(\u001b[0m\u001b[0mstack_depth\u001b[0m\u001b[0;34m)\u001b[0m\u001b[0;34m\u001b[0m\u001b[0;34m\u001b[0m\u001b[0m\n\u001b[1;32m   2417\u001b[0m             \u001b[0;32mwith\u001b[0m \u001b[0mself\u001b[0m\u001b[0;34m.\u001b[0m\u001b[0mbuiltin_trap\u001b[0m\u001b[0;34m:\u001b[0m\u001b[0;34m\u001b[0m\u001b[0;34m\u001b[0m\u001b[0m\n\u001b[0;32m-> 2418\u001b[0;31m                 \u001b[0mresult\u001b[0m \u001b[0;34m=\u001b[0m \u001b[0mfn\u001b[0m\u001b[0;34m(\u001b[0m\u001b[0;34m*\u001b[0m\u001b[0margs\u001b[0m\u001b[0;34m,\u001b[0m \u001b[0;34m**\u001b[0m\u001b[0mkwargs\u001b[0m\u001b[0;34m)\u001b[0m\u001b[0;34m\u001b[0m\u001b[0;34m\u001b[0m\u001b[0m\n\u001b[0m\u001b[1;32m   2419\u001b[0m             \u001b[0;32mreturn\u001b[0m \u001b[0mresult\u001b[0m\u001b[0;34m\u001b[0m\u001b[0;34m\u001b[0m\u001b[0m\n\u001b[1;32m   2420\u001b[0m \u001b[0;34m\u001b[0m\u001b[0m\n",
            "\u001b[0;32m<decorator-gen-52>\u001b[0m in \u001b[0;36mrun\u001b[0;34m(self, parameter_s, runner, file_finder)\u001b[0m\n",
            "\u001b[0;32m/usr/local/lib/python3.10/dist-packages/IPython/core/magic.py\u001b[0m in \u001b[0;36m<lambda>\u001b[0;34m(f, *a, **k)\u001b[0m\n\u001b[1;32m    185\u001b[0m     \u001b[0;31m# but it's overkill for just that one bit of state.\u001b[0m\u001b[0;34m\u001b[0m\u001b[0;34m\u001b[0m\u001b[0m\n\u001b[1;32m    186\u001b[0m     \u001b[0;32mdef\u001b[0m \u001b[0mmagic_deco\u001b[0m\u001b[0;34m(\u001b[0m\u001b[0marg\u001b[0m\u001b[0;34m)\u001b[0m\u001b[0;34m:\u001b[0m\u001b[0;34m\u001b[0m\u001b[0;34m\u001b[0m\u001b[0m\n\u001b[0;32m--> 187\u001b[0;31m         \u001b[0mcall\u001b[0m \u001b[0;34m=\u001b[0m \u001b[0;32mlambda\u001b[0m \u001b[0mf\u001b[0m\u001b[0;34m,\u001b[0m \u001b[0;34m*\u001b[0m\u001b[0ma\u001b[0m\u001b[0;34m,\u001b[0m \u001b[0;34m**\u001b[0m\u001b[0mk\u001b[0m\u001b[0;34m:\u001b[0m \u001b[0mf\u001b[0m\u001b[0;34m(\u001b[0m\u001b[0;34m*\u001b[0m\u001b[0ma\u001b[0m\u001b[0;34m,\u001b[0m \u001b[0;34m**\u001b[0m\u001b[0mk\u001b[0m\u001b[0;34m)\u001b[0m\u001b[0;34m\u001b[0m\u001b[0;34m\u001b[0m\u001b[0m\n\u001b[0m\u001b[1;32m    188\u001b[0m \u001b[0;34m\u001b[0m\u001b[0m\n\u001b[1;32m    189\u001b[0m         \u001b[0;32mif\u001b[0m \u001b[0mcallable\u001b[0m\u001b[0;34m(\u001b[0m\u001b[0marg\u001b[0m\u001b[0;34m)\u001b[0m\u001b[0;34m:\u001b[0m\u001b[0;34m\u001b[0m\u001b[0;34m\u001b[0m\u001b[0m\n",
            "\u001b[0;32m/usr/local/lib/python3.10/dist-packages/IPython/core/magics/execution.py\u001b[0m in \u001b[0;36mrun\u001b[0;34m(self, parameter_s, runner, file_finder)\u001b[0m\n\u001b[1;32m    845\u001b[0m                     \u001b[0;32melse\u001b[0m\u001b[0;34m:\u001b[0m\u001b[0;34m\u001b[0m\u001b[0;34m\u001b[0m\u001b[0m\n\u001b[1;32m    846\u001b[0m                         \u001b[0;31m# regular execution\u001b[0m\u001b[0;34m\u001b[0m\u001b[0;34m\u001b[0m\u001b[0m\n\u001b[0;32m--> 847\u001b[0;31m                         \u001b[0mrun\u001b[0m\u001b[0;34m(\u001b[0m\u001b[0;34m)\u001b[0m\u001b[0;34m\u001b[0m\u001b[0;34m\u001b[0m\u001b[0m\n\u001b[0m\u001b[1;32m    848\u001b[0m \u001b[0;34m\u001b[0m\u001b[0m\n\u001b[1;32m    849\u001b[0m             \u001b[0;32mif\u001b[0m \u001b[0;34m'i'\u001b[0m \u001b[0;32min\u001b[0m \u001b[0mopts\u001b[0m\u001b[0;34m:\u001b[0m\u001b[0;34m\u001b[0m\u001b[0;34m\u001b[0m\u001b[0m\n",
            "\u001b[0;32m/usr/local/lib/python3.10/dist-packages/IPython/core/magics/execution.py\u001b[0m in \u001b[0;36mrun\u001b[0;34m()\u001b[0m\n\u001b[1;32m    830\u001b[0m \u001b[0;34m\u001b[0m\u001b[0m\n\u001b[1;32m    831\u001b[0m                         \u001b[0;32mdef\u001b[0m \u001b[0mrun\u001b[0m\u001b[0;34m(\u001b[0m\u001b[0;34m)\u001b[0m\u001b[0;34m:\u001b[0m\u001b[0;34m\u001b[0m\u001b[0;34m\u001b[0m\u001b[0m\n\u001b[0;32m--> 832\u001b[0;31m                             runner(filename, prog_ns, prog_ns,\n\u001b[0m\u001b[1;32m    833\u001b[0m                                     exit_ignore=exit_ignore)\n\u001b[1;32m    834\u001b[0m \u001b[0;34m\u001b[0m\u001b[0m\n",
            "\u001b[0;32m/usr/local/lib/python3.10/dist-packages/IPython/core/pylabtools.py\u001b[0m in \u001b[0;36mmpl_execfile\u001b[0;34m(fname, *where, **kw)\u001b[0m\n\u001b[1;32m    210\u001b[0m         \u001b[0mis_interactive\u001b[0m \u001b[0;34m=\u001b[0m \u001b[0mmatplotlib\u001b[0m\u001b[0;34m.\u001b[0m\u001b[0mrcParams\u001b[0m\u001b[0;34m[\u001b[0m\u001b[0;34m'interactive'\u001b[0m\u001b[0;34m]\u001b[0m\u001b[0;34m\u001b[0m\u001b[0;34m\u001b[0m\u001b[0m\n\u001b[1;32m    211\u001b[0m         \u001b[0mmatplotlib\u001b[0m\u001b[0;34m.\u001b[0m\u001b[0minteractive\u001b[0m\u001b[0;34m(\u001b[0m\u001b[0;32mFalse\u001b[0m\u001b[0;34m)\u001b[0m\u001b[0;34m\u001b[0m\u001b[0;34m\u001b[0m\u001b[0m\n\u001b[0;32m--> 212\u001b[0;31m         \u001b[0msafe_execfile\u001b[0m\u001b[0;34m(\u001b[0m\u001b[0mfname\u001b[0m\u001b[0;34m,\u001b[0m\u001b[0;34m*\u001b[0m\u001b[0mwhere\u001b[0m\u001b[0;34m,\u001b[0m\u001b[0;34m**\u001b[0m\u001b[0mkw\u001b[0m\u001b[0;34m)\u001b[0m\u001b[0;34m\u001b[0m\u001b[0;34m\u001b[0m\u001b[0m\n\u001b[0m\u001b[1;32m    213\u001b[0m         \u001b[0mmatplotlib\u001b[0m\u001b[0;34m.\u001b[0m\u001b[0minteractive\u001b[0m\u001b[0;34m(\u001b[0m\u001b[0mis_interactive\u001b[0m\u001b[0;34m)\u001b[0m\u001b[0;34m\u001b[0m\u001b[0;34m\u001b[0m\u001b[0m\n\u001b[1;32m    214\u001b[0m         \u001b[0;31m# make rendering call now, if the user tried to do it\u001b[0m\u001b[0;34m\u001b[0m\u001b[0;34m\u001b[0m\u001b[0m\n",
            "\u001b[0;32m/usr/local/lib/python3.10/dist-packages/IPython/core/interactiveshell.py\u001b[0m in \u001b[0;36msafe_execfile\u001b[0;34m(self, fname, exit_ignore, raise_exceptions, shell_futures, *where)\u001b[0m\n\u001b[1;32m   2846\u001b[0m                         \u001b[0;32mraise\u001b[0m\u001b[0;34m\u001b[0m\u001b[0;34m\u001b[0m\u001b[0m\n\u001b[1;32m   2847\u001b[0m                     \u001b[0;32mif\u001b[0m \u001b[0;32mnot\u001b[0m \u001b[0mexit_ignore\u001b[0m\u001b[0;34m:\u001b[0m\u001b[0;34m\u001b[0m\u001b[0;34m\u001b[0m\u001b[0m\n\u001b[0;32m-> 2848\u001b[0;31m                         \u001b[0mself\u001b[0m\u001b[0;34m.\u001b[0m\u001b[0mshowtraceback\u001b[0m\u001b[0;34m(\u001b[0m\u001b[0mexception_only\u001b[0m\u001b[0;34m=\u001b[0m\u001b[0;32mTrue\u001b[0m\u001b[0;34m)\u001b[0m\u001b[0;34m\u001b[0m\u001b[0;34m\u001b[0m\u001b[0m\n\u001b[0m\u001b[1;32m   2849\u001b[0m             \u001b[0;32mexcept\u001b[0m\u001b[0;34m:\u001b[0m\u001b[0;34m\u001b[0m\u001b[0;34m\u001b[0m\u001b[0m\n\u001b[1;32m   2850\u001b[0m                 \u001b[0;32mif\u001b[0m \u001b[0mraise_exceptions\u001b[0m\u001b[0;34m:\u001b[0m\u001b[0;34m\u001b[0m\u001b[0;34m\u001b[0m\u001b[0m\n",
            "\u001b[0;32m/usr/local/lib/python3.10/dist-packages/IPython/core/interactiveshell.py\u001b[0m in \u001b[0;36mshowtraceback\u001b[0;34m(self, exc_tuple, filename, tb_offset, exception_only, running_compiled_code)\u001b[0m\n\u001b[1;32m   2090\u001b[0m                     stb = ['An exception has occurred, use %tb to see '\n\u001b[1;32m   2091\u001b[0m                            'the full traceback.\\n']\n\u001b[0;32m-> 2092\u001b[0;31m                     stb.extend(self.InteractiveTB.get_exception_only(etype,\n\u001b[0m\u001b[1;32m   2093\u001b[0m                                                                      value))\n\u001b[1;32m   2094\u001b[0m                 \u001b[0;32melse\u001b[0m\u001b[0;34m:\u001b[0m\u001b[0;34m\u001b[0m\u001b[0;34m\u001b[0m\u001b[0m\n",
            "\u001b[0;32m/usr/local/lib/python3.10/dist-packages/IPython/core/ultratb.py\u001b[0m in \u001b[0;36mget_exception_only\u001b[0;34m(self, etype, value)\u001b[0m\n\u001b[1;32m    752\u001b[0m         \u001b[0mvalue\u001b[0m \u001b[0;34m:\u001b[0m \u001b[0mexception\u001b[0m \u001b[0mvalue\u001b[0m\u001b[0;34m\u001b[0m\u001b[0;34m\u001b[0m\u001b[0m\n\u001b[1;32m    753\u001b[0m         \"\"\"\n\u001b[0;32m--> 754\u001b[0;31m         \u001b[0;32mreturn\u001b[0m \u001b[0mListTB\u001b[0m\u001b[0;34m.\u001b[0m\u001b[0mstructured_traceback\u001b[0m\u001b[0;34m(\u001b[0m\u001b[0mself\u001b[0m\u001b[0;34m,\u001b[0m \u001b[0metype\u001b[0m\u001b[0;34m,\u001b[0m \u001b[0mvalue\u001b[0m\u001b[0;34m)\u001b[0m\u001b[0;34m\u001b[0m\u001b[0;34m\u001b[0m\u001b[0m\n\u001b[0m\u001b[1;32m    755\u001b[0m \u001b[0;34m\u001b[0m\u001b[0m\n\u001b[1;32m    756\u001b[0m     \u001b[0;32mdef\u001b[0m \u001b[0mshow_exception_only\u001b[0m\u001b[0;34m(\u001b[0m\u001b[0mself\u001b[0m\u001b[0;34m,\u001b[0m \u001b[0metype\u001b[0m\u001b[0;34m,\u001b[0m \u001b[0mevalue\u001b[0m\u001b[0;34m)\u001b[0m\u001b[0;34m:\u001b[0m\u001b[0;34m\u001b[0m\u001b[0;34m\u001b[0m\u001b[0m\n",
            "\u001b[0;32m/usr/local/lib/python3.10/dist-packages/IPython/core/ultratb.py\u001b[0m in \u001b[0;36mstructured_traceback\u001b[0;34m(self, etype, evalue, etb, tb_offset, context)\u001b[0m\n\u001b[1;32m    627\u001b[0m             \u001b[0mchained_exceptions_tb_offset\u001b[0m \u001b[0;34m=\u001b[0m \u001b[0;36m0\u001b[0m\u001b[0;34m\u001b[0m\u001b[0;34m\u001b[0m\u001b[0m\n\u001b[1;32m    628\u001b[0m             out_list = (\n\u001b[0;32m--> 629\u001b[0;31m                 self.structured_traceback(\n\u001b[0m\u001b[1;32m    630\u001b[0m                     \u001b[0metype\u001b[0m\u001b[0;34m,\u001b[0m \u001b[0mevalue\u001b[0m\u001b[0;34m,\u001b[0m \u001b[0;34m(\u001b[0m\u001b[0metb\u001b[0m\u001b[0;34m,\u001b[0m \u001b[0mchained_exc_ids\u001b[0m\u001b[0;34m)\u001b[0m\u001b[0;34m,\u001b[0m\u001b[0;34m\u001b[0m\u001b[0;34m\u001b[0m\u001b[0m\n\u001b[1;32m    631\u001b[0m                     chained_exceptions_tb_offset, context)\n",
            "\u001b[0;32m/usr/local/lib/python3.10/dist-packages/IPython/core/ultratb.py\u001b[0m in \u001b[0;36mstructured_traceback\u001b[0;34m(self, etype, value, tb, tb_offset, number_of_lines_of_context)\u001b[0m\n\u001b[1;32m   1365\u001b[0m         \u001b[0;32melse\u001b[0m\u001b[0;34m:\u001b[0m\u001b[0;34m\u001b[0m\u001b[0;34m\u001b[0m\u001b[0m\n\u001b[1;32m   1366\u001b[0m             \u001b[0mself\u001b[0m\u001b[0;34m.\u001b[0m\u001b[0mtb\u001b[0m \u001b[0;34m=\u001b[0m \u001b[0mtb\u001b[0m\u001b[0;34m\u001b[0m\u001b[0;34m\u001b[0m\u001b[0m\n\u001b[0;32m-> 1367\u001b[0;31m         return FormattedTB.structured_traceback(\n\u001b[0m\u001b[1;32m   1368\u001b[0m             self, etype, value, tb, tb_offset, number_of_lines_of_context)\n\u001b[1;32m   1369\u001b[0m \u001b[0;34m\u001b[0m\u001b[0m\n",
            "\u001b[0;32m/usr/local/lib/python3.10/dist-packages/IPython/core/ultratb.py\u001b[0m in \u001b[0;36mstructured_traceback\u001b[0;34m(self, etype, value, tb, tb_offset, number_of_lines_of_context)\u001b[0m\n\u001b[1;32m   1265\u001b[0m         \u001b[0;32mif\u001b[0m \u001b[0mmode\u001b[0m \u001b[0;32min\u001b[0m \u001b[0mself\u001b[0m\u001b[0;34m.\u001b[0m\u001b[0mverbose_modes\u001b[0m\u001b[0;34m:\u001b[0m\u001b[0;34m\u001b[0m\u001b[0;34m\u001b[0m\u001b[0m\n\u001b[1;32m   1266\u001b[0m             \u001b[0;31m# Verbose modes need a full traceback\u001b[0m\u001b[0;34m\u001b[0m\u001b[0;34m\u001b[0m\u001b[0m\n\u001b[0;32m-> 1267\u001b[0;31m             return VerboseTB.structured_traceback(\n\u001b[0m\u001b[1;32m   1268\u001b[0m                 \u001b[0mself\u001b[0m\u001b[0;34m,\u001b[0m \u001b[0metype\u001b[0m\u001b[0;34m,\u001b[0m \u001b[0mvalue\u001b[0m\u001b[0;34m,\u001b[0m \u001b[0mtb\u001b[0m\u001b[0;34m,\u001b[0m \u001b[0mtb_offset\u001b[0m\u001b[0;34m,\u001b[0m \u001b[0mnumber_of_lines_of_context\u001b[0m\u001b[0;34m\u001b[0m\u001b[0;34m\u001b[0m\u001b[0m\n\u001b[1;32m   1269\u001b[0m             )\n",
            "\u001b[0;32m/usr/local/lib/python3.10/dist-packages/IPython/core/ultratb.py\u001b[0m in \u001b[0;36mstructured_traceback\u001b[0;34m(self, etype, evalue, etb, tb_offset, number_of_lines_of_context)\u001b[0m\n\u001b[1;32m   1122\u001b[0m         \u001b[0;34m\"\"\"Return a nice text document describing the traceback.\"\"\"\u001b[0m\u001b[0;34m\u001b[0m\u001b[0;34m\u001b[0m\u001b[0m\n\u001b[1;32m   1123\u001b[0m \u001b[0;34m\u001b[0m\u001b[0m\n\u001b[0;32m-> 1124\u001b[0;31m         formatted_exception = self.format_exception_as_a_whole(etype, evalue, etb, number_of_lines_of_context,\n\u001b[0m\u001b[1;32m   1125\u001b[0m                                                                tb_offset)\n\u001b[1;32m   1126\u001b[0m \u001b[0;34m\u001b[0m\u001b[0m\n",
            "\u001b[0;32m/usr/local/lib/python3.10/dist-packages/IPython/core/ultratb.py\u001b[0m in \u001b[0;36mformat_exception_as_a_whole\u001b[0;34m(self, etype, evalue, etb, number_of_lines_of_context, tb_offset)\u001b[0m\n\u001b[1;32m   1080\u001b[0m \u001b[0;34m\u001b[0m\u001b[0m\n\u001b[1;32m   1081\u001b[0m \u001b[0;34m\u001b[0m\u001b[0m\n\u001b[0;32m-> 1082\u001b[0;31m         \u001b[0mlast_unique\u001b[0m\u001b[0;34m,\u001b[0m \u001b[0mrecursion_repeat\u001b[0m \u001b[0;34m=\u001b[0m \u001b[0mfind_recursion\u001b[0m\u001b[0;34m(\u001b[0m\u001b[0morig_etype\u001b[0m\u001b[0;34m,\u001b[0m \u001b[0mevalue\u001b[0m\u001b[0;34m,\u001b[0m \u001b[0mrecords\u001b[0m\u001b[0;34m)\u001b[0m\u001b[0;34m\u001b[0m\u001b[0;34m\u001b[0m\u001b[0m\n\u001b[0m\u001b[1;32m   1083\u001b[0m \u001b[0;34m\u001b[0m\u001b[0m\n\u001b[1;32m   1084\u001b[0m         \u001b[0mframes\u001b[0m \u001b[0;34m=\u001b[0m \u001b[0mself\u001b[0m\u001b[0;34m.\u001b[0m\u001b[0mformat_records\u001b[0m\u001b[0;34m(\u001b[0m\u001b[0mrecords\u001b[0m\u001b[0;34m,\u001b[0m \u001b[0mlast_unique\u001b[0m\u001b[0;34m,\u001b[0m \u001b[0mrecursion_repeat\u001b[0m\u001b[0;34m)\u001b[0m\u001b[0;34m\u001b[0m\u001b[0;34m\u001b[0m\u001b[0m\n",
            "\u001b[0;32m/usr/local/lib/python3.10/dist-packages/IPython/core/ultratb.py\u001b[0m in \u001b[0;36mfind_recursion\u001b[0;34m(etype, value, records)\u001b[0m\n\u001b[1;32m    380\u001b[0m     \u001b[0;31m# first frame (from in to out) that looks different.\u001b[0m\u001b[0;34m\u001b[0m\u001b[0;34m\u001b[0m\u001b[0m\n\u001b[1;32m    381\u001b[0m     \u001b[0;32mif\u001b[0m \u001b[0;32mnot\u001b[0m \u001b[0mis_recursion_error\u001b[0m\u001b[0;34m(\u001b[0m\u001b[0metype\u001b[0m\u001b[0;34m,\u001b[0m \u001b[0mvalue\u001b[0m\u001b[0;34m,\u001b[0m \u001b[0mrecords\u001b[0m\u001b[0;34m)\u001b[0m\u001b[0;34m:\u001b[0m\u001b[0;34m\u001b[0m\u001b[0;34m\u001b[0m\u001b[0m\n\u001b[0;32m--> 382\u001b[0;31m         \u001b[0;32mreturn\u001b[0m \u001b[0mlen\u001b[0m\u001b[0;34m(\u001b[0m\u001b[0mrecords\u001b[0m\u001b[0;34m)\u001b[0m\u001b[0;34m,\u001b[0m \u001b[0;36m0\u001b[0m\u001b[0;34m\u001b[0m\u001b[0;34m\u001b[0m\u001b[0m\n\u001b[0m\u001b[1;32m    383\u001b[0m \u001b[0;34m\u001b[0m\u001b[0m\n\u001b[1;32m    384\u001b[0m     \u001b[0;31m# Select filename, lineno, func_name to track frames with\u001b[0m\u001b[0;34m\u001b[0m\u001b[0;34m\u001b[0m\u001b[0m\n",
            "\u001b[0;31mTypeError\u001b[0m: object of type 'NoneType' has no len()"
          ]
        }
      ],
      "source": [
        "from google.colab import drive\n",
        "drive.mount(\"/content/drive\")\n",
        "\n",
        "%cd \"/content/drive/MyDrive/CS4740/hw4-fa23\"\n",
        "\n",
        "from colab.file_utils import load_required\n",
        "load_required(force_reinstall_pytorch=True)"
      ]
    },
    {
      "cell_type": "code",
      "source": [
        "from IPython.display import display\n",
        "\n",
        "try:\n",
        "    from seagull.utils.utils import success, colored\n",
        "    display(success())\n",
        "except ImportError:\n",
        "    print(\"\\033[31mInstallation failed, please retrace your steps ...\")"
      ],
      "metadata": {
        "id": "4cv1iDDe33zW"
      },
      "id": "4cv1iDDe33zW",
      "execution_count": null,
      "outputs": []
    },
    {
      "cell_type": "markdown",
      "source": [
        "Let's import a few packages and methods that are used throughout this notebook; in this notebook, you are free to import and/or install packages (a lot of the packages you may need should already be available) as you see fit. <font color=\"red\">That said, you are __not__ allowed to modify the imports in any of the Python source files; further, please do not modify (delete lines, change method signatures, etc.) above or below the `TODO` placeholders within the Python source files.</font>"
      ],
      "metadata": {
        "id": "9fAOFM8UB5-1"
      },
      "id": "9fAOFM8UB5-1"
    },
    {
      "cell_type": "code",
      "source": [
        "import os\n",
        "import random\n",
        "import textwrap\n",
        "from collections import Counter\n",
        "from itertools import chain\n",
        "from time import process_time\n",
        "\n",
        "import datasets\n",
        "import matplotlib.pyplot as plt\n",
        "import numpy as np\n",
        "import pandas as pd\n",
        "import seaborn as sns\n",
        "import torch\n",
        "import torch.nn.functional as F\n",
        "import yaml\n",
        "from IPython.display import display\n",
        "\n",
        "from colab.file_utils import pip_install\n",
        "from colab.git_utils import get_lfs_files\n",
        "from seagull.data_processing.bbpe import BBPETokenizer\n",
        "from seagull.data_processing.constants import SCENE_TOKEN, UNCANNY_TOKEN, CAPTION_TOKEN, END_OF_CAPTION_TOKEN\n",
        "from seagull.data_processing.sequence_sampler import SequenceSamplingDataset\n",
        "from seagull.model.components.embedding import Embedding\n",
        "from seagull.model.components.transformer_layer import TransformerLayer\n",
        "from seagull.model.heads.lm_utils import make_seagull_talk\n",
        "from seagull.model.heads.seagull_lm import SeagullLM\n",
        "from seagull.model.seagull_transformer import Seagull\n",
        "from seagull.nn.transformer.ffn import FFN\n",
        "from seagull.nn.transformer.mha import MultiHeadAttention\n",
        "from seagull.utils.utils import colored, success\n",
        "\n",
        "%matplotlib inline\n",
        "%config InlineBackend.figure_format=\"retina\"\n",
        "plt.rcParams[\"font.size\"] = 8\n",
        "\n",
        "text_wrapper = textwrap.TextWrapper(width=120)"
      ],
      "metadata": {
        "id": "nXlqoSiZ4Xmo"
      },
      "id": "nXlqoSiZ4Xmo",
      "execution_count": null,
      "outputs": []
    },
    {
      "cell_type": "markdown",
      "source": [
        "Next, let's set up a few filepaths: for convenience, we will redirect all the output artefacts to `CS4740/hw4-fa23/artefacts` folder—this includes the processed/tokenized datasets, experimental artefacts (e.g., model checkpoints, configs, etc.), submission .zip files, and others."
      ],
      "metadata": {
        "id": "LtXDn6yzZ1zg"
      },
      "id": "LtXDn6yzZ1zg"
    },
    {
      "cell_type": "code",
      "source": [
        "BASE_DIR = os.path.abspath(\".\")\n",
        "\n",
        "PRETRAINED_ARTEFACTS_DIR = os.path.join(BASE_DIR, \"pretrained_artefacts\")\n",
        "ARTEFACTS_DIR = os.path.join(BASE_DIR, \"artefacts\")\n",
        "SCRIPTS_DIR = os.path.join(BASE_DIR, \"scripts\")\n",
        "CONFIGS_DIR = os.path.join(BASE_DIR, \"scripts/configs\")"
      ],
      "metadata": {
        "id": "OA8hYWt7Z0e_"
      },
      "id": "OA8hYWt7Z0e_",
      "execution_count": null,
      "outputs": []
    },
    {
      "cell_type": "markdown",
      "source": [
        "Finally, set your and your partner's net IDs as a comma-separated string (e.g., \"`tg352,ljl2`\"); we'll use the `net_ids` variable to auto-populate any required information while making the submission. Please __don't__ include any spaces or special characters (e.g., \"`<tg352>`\" or \"`tg352, ljl2`\" will result in processing errors)."
      ],
      "metadata": {
        "id": "vlpXBGpwb501"
      },
      "id": "vlpXBGpwb501"
    },
    {
      "cell_type": "code",
      "source": [
        "# Add your net IDs as a comma-separated string (e.g., \"<net-id-1>,<net-id-2>\").\n",
        "net_ids = ('sz663,sb2589')\n",
        "\n",
        "if net_ids is None:\n",
        "    raise ValueError(\"net-IDs not set; set them above\")\n",
        "print(f\"{net_ids=} set\")"
      ],
      "metadata": {
        "id": "C4efW6odcv-B",
        "colab": {
          "base_uri": "https://localhost:8080/"
        },
        "outputId": "a1d35622-2bbb-4ebd-b03b-d68b8d549680"
      },
      "id": "C4efW6odcv-B",
      "execution_count": null,
      "outputs": [
        {
          "output_type": "stream",
          "name": "stdout",
          "text": [
            "net_ids='sz663,sb2589' set\n"
          ]
        }
      ]
    },
    {
      "cell_type": "markdown",
      "source": [
        "---\n",
        "\n",
        "<a name=\"sec1\"></a>\n",
        "### [1] Seagull humor: Task and model overview <small>[↩︎](#outline)</small>\n",
        "\n",
        "In this assignment, we will attempt to train \"Seagull,\" a transformer-based large language model, to generate humorous captions for a given scene and uncanny description; inspired from what can be described as a natural language adaptation of the New Yorker Cartoon Caption Contest: https://www.newyorker.com/cartoons/contest. Here's an example (taken from the validation data):\n",
        "\n",
        "> __Scene__: Two explorers are hiking through nature. They come across two subway cars in the brush. <font color=\"blue\">← input to the model</font> <br/>\n",
        "> __Uncanny description__: Subway cars wouldn't be way out in the middle of nowhere. <font color=\"blue\">← input to the model</font> <br/>\n",
        "> __Caption__: Of all the things we packed, I didn't think to bring my MetroCard. <font color=\"green\">← to be generated by the model!</font>\n",
        "\n",
        "Our objective is to train our Seagull to generate the caption text, hopefully a humorous one; two key things to note here: we want the model to 1) \"generate\" and 2) utilize the given scene and uncanny description to generate a suitable caption. For the \"generate\" part, let's formulate the task as an autoregressive problem: for the given sequence, predict the next token; use the predicted token to predict the next one, and so on.\n",
        "\n",
        "> A famous example of an autoregressive transformer model (and the one whose architecture is similar to that of what we'll build) is the [OpenAI GPT (Generative Pre-Trained)](https://arxiv.org/pdf/2005.14165.pdf) model.\n",
        "\n",
        "You may recall that most of what is being described feels like a recurrent net modeled in HW2. While recurrent nets could be trained to generate text, (as noted in HW2) they are quite slow to train. With the need for speed, let us see what a unidirectional recurrent net offers different from a feed-forward net:\n",
        "* a hidden state that evolves with time, capturing the interactions between tokens seen so far, and\n",
        "* ability to effortlessly handle dynamic sequence lengths.\n",
        "\n",
        "A not-so-obvious (but very useful to us!) side benefit of using unidirectional RNN is that the model is autoregressive by default due to its sequential nature. Now, to employ a parallel processor that provides benefits of recurrent nets, while achieving high training speeds at scale, we need to:\n",
        "* capture interactions between tokens: we'll use dot-product similarity between token embeddings as a way of measuring token interactions,\n",
        "* simulate the hidden state evolution; for example, in the sequence \"the _bank_ teller at the river _bank_\", the word _bank_ in \"bank teller\" should interact more with \"teller\" than with \"river\"—we'll simulate this behavior by embedding the token positions,\n",
        "* given that we need positional embeddings, we'll trade off the \"dynamic sequence lengths\" property for a suitably long sequence length: if we wish to generate longer sequences, we will use a sliding window, and finally\n",
        "* we need to ensure the autoregressive property holds in training/validation: interactions of a token with a future token must be removed (e.g., while processing \"teller\" in the bank teller example, our model should have no knowledge of a future \"river\" token).\n",
        "\n",
        "A standard (decoder-only) transformer model as introduced in [Attention Is All You Need](https://arxiv.org/pdf/1706.03762.pdf) implements the above through: multi-head attention, positional embeddings, setting a maximum sequence length, and a causal attention mask. We will explain these in their respective sections. For now, here's the Seagull model architecture that we'll be working with (heavily inspired from the [Meta LLaMA-2 model](https://arxiv.org/pdf/2307.09288.pdf)):\n",
        "\n",
        "<div align=\"center\"><br/>\n",
        "    <img src=\"https://i.imgur.com/3K75QZG.png\" width=780px/>\n",
        "<br/></div>\n",
        "\n",
        "What a beast!—we'll implement this architecture piece-by-piece in the following sections; but take a moment to appreciate the scale at which we're operating—Seagull has 12 transformer layers, resulting in over 110 million trainable parameters! For comparison, a two-layered recurrent developed in HW2 had over 11 million trainable parameters (scale: 10x smaller than Seagull)."
      ],
      "metadata": {
        "id": "JsUwZ7LBdJMI"
      },
      "id": "JsUwZ7LBdJMI"
    },
    {
      "cell_type": "markdown",
      "source": [
        "#### Aside: Computational efficiency of your Seagull\n",
        "\n",
        "Given that we're pretraining/finetuning at a large scale, it is important to write efficient code; this means no unnecessary for-loops, unused computations, moving to and from devices without need (e.g., GPU to CPU for a single computation), etc. To this end, we encourage the use of [`einops`](https://einops.rocks/) and [`torch.einsum`](https://pytorch.org/docs/stable/generated/torch.einsum.html) as applicable.\n",
        "\n",
        "This assignment has functionality that supports state-of-the-art CUDA optimizations, distributed training, and lightning-fast inferencing abilities. The following are some of the optimizations provided:\n",
        "* use of `bfloat16` and `float16` automatic mixed precision training and validation,\n",
        "* ability to compile models via [`torch.compile`](https://pytorch.org/tutorials/intermediate/torch_compile_tutorial.html#basic-usage) for significant speedups,\n",
        "* custom layers that provide hardware-aware implementations of various PyTorch modules (see modules under `seagull.nn.modules`),\n",
        "* effective learning rate schedulers to anneal the learning rate with time,\n",
        "* model hyperparameters chosen in a way that optimizes the use of available tensor cores, thereby [reducing/avoiding possible wave quantization](https://developer.nvidia.com/blog/optimizing-gpu-performance-tensor-cores/),\n",
        "* use of key-value cache in decoding at inference to avoid redundant computations, and\n",
        "* distributed training functionality for fast pretraining/finetuning.\n",
        "\n",
        "Beyond the \"awesomeness\" of what's going on, the main take here is to use modules from `seagull.nn.modules` as much as possible. Please note that our custom modules are slightly different from those offered by PyTorch; for example, `seagull.nn.modules.linear.Linear` lets you specify an activation function and a dropout probability, and is equivalent to: `dropout(activation(linear(...)))` in PyTorch.\n",
        "\n",
        "Finally, our extensive experimentation indicated that you should be able to finetune your Seagull on a T4 GPU (Colab-default) without running out of GPU cycles. However, if you do run out of Colab GPU cycles, we do have course credit to access GPUs via Google Compute Engine; instructions on enabling Google Compute Engine to use those resources will be posted on Ed.\n",
        "\n",
        "> __Note.__ Unfortunately, we don't offer support for MPS backends at this time; hopefully in the future, we'll be able to write custom MPS kernels that facilitate this. Our current optimizations are included for both CPU and GPU."
      ],
      "metadata": {
        "id": "I7Svp9Jeh5JN"
      },
      "id": "I7Svp9Jeh5JN"
    },
    {
      "cell_type": "markdown",
      "source": [
        "---\n",
        "\n",
        "<a name=\"sec2\"></a>\n",
        "### [2] Data processing <small>[↩︎](#outline)</small>\n",
        "\n",
        "The dataset for the task of generating humorous captions from scene descriptions is located at `hw4-fa23/dataset` and is processed in an [arrow format](https://huggingface.co/docs/datasets/about_arrow) (same as what was used in HW2). Let's load the dataset and see what the dataset looks like:"
      ],
      "metadata": {
        "id": "vTsAoW3YQ1nd"
      },
      "id": "vTsAoW3YQ1nd"
    },
    {
      "cell_type": "code",
      "source": [
        "dataset = datasets.load_from_disk(\"dataset\")\n",
        "print(dataset)"
      ],
      "metadata": {
        "id": "SY4s4xXReIcz",
        "colab": {
          "base_uri": "https://localhost:8080/"
        },
        "outputId": "dffd2cbc-b2bb-4c9a-a2b8-29166b0ce25d"
      },
      "id": "SY4s4xXReIcz",
      "execution_count": null,
      "outputs": [
        {
          "output_type": "stream",
          "name": "stdout",
          "text": [
            "DatasetDict({\n",
            "    train: Dataset({\n",
            "        features: ['scene', 'uncanny', 'caption'],\n",
            "        num_rows: 79180\n",
            "    })\n",
            "    val: Dataset({\n",
            "        features: ['scene', 'uncanny', 'caption'],\n",
            "        num_rows: 10783\n",
            "    })\n",
            "    test: Dataset({\n",
            "        features: ['scene', 'uncanny', 'id'],\n",
            "        num_rows: 986\n",
            "    })\n",
            "})\n"
          ]
        }
      ]
    },
    {
      "cell_type": "markdown",
      "source": [
        "The dataset has three fields for train/val splits—scene, uncanny, and caption; while, the test split lacks the caption entry. Our objective is to use our Seagull to caption those.\n",
        "\n",
        "Run the cell below to inspect a few train/test instances. Upon running the cell, you'll note that in the train/val set, there are cases where one scene and uncanny description can be captioned in multiple ways. This adds to the task complexity; not only does the model have to learn to understand humor, but also that there's no one \"right\" answer!"
      ],
      "metadata": {
        "id": "Af1mnAz8iWKL"
      },
      "id": "Af1mnAz8iWKL"
    },
    {
      "cell_type": "code",
      "source": [
        "split, sample_idxs = \"train\", [10, 11, 12]\n",
        "print(colored(f\"{split=}\", attrs=[\"underline\", \"bold\"]))\n",
        "for sample_idx in sample_idxs:\n",
        "    print(f\"[{sample_idx}] scene: {dataset[split][sample_idx]['scene']}\")\n",
        "    print(f\"[{sample_idx}] uncanny: {dataset[split][sample_idx]['uncanny']}\")\n",
        "    print(f\"[{sample_idx}] caption: {colored(dataset[split][sample_idx]['caption'], color='blue')}\\n\")\n",
        "\n",
        "split, sample_idxs = \"test\", [104, 105]\n",
        "print(colored(f\"\\n{split=}\", attrs=[\"underline\", \"bold\"]))\n",
        "for sample_idx in sample_idxs:\n",
        "    print(f\"[{sample_idx}] scene: {dataset[split][sample_idx]['scene']}\")\n",
        "    print(f\"[{sample_idx}] uncanny: {dataset[split][sample_idx]['uncanny']}\\n\")"
      ],
      "metadata": {
        "id": "Wf1VCZ6wiJ7g",
        "colab": {
          "base_uri": "https://localhost:8080/"
        },
        "outputId": "3454c0d1-2891-4469-d738-bc0adf37e300"
      },
      "id": "Wf1VCZ6wiJ7g",
      "execution_count": null,
      "outputs": [
        {
          "output_type": "stream",
          "name": "stdout",
          "text": [
            "\u001b[1m\u001b[4msplit='train'\u001b[0m\u001b[0m\u001b[0m\n",
            "[10] scene: An alligator is coming out of the floor. Two people stare at it. A waiter points at it.\n",
            "[10] uncanny: There is an alligator coming out of the floor.\n",
            "[10] caption: \u001b[94mIt's our way of encouraging social distancing.\u001b[0m\n",
            "\n",
            "[11] scene: An alligator is coming out of the floor. Two people stare at it. A waiter points at it.\n",
            "[11] uncanny: There is an alligator coming out of the floor.\n",
            "[11] caption: \u001b[94m... Technically, yes, but he identifies as a crocodile.\u001b[0m\n",
            "\n",
            "[12] scene: An alligator is coming out of the floor. Two people stare at it. A waiter points at it.\n",
            "[12] uncanny: There is an alligator coming out of the floor.\n",
            "[12] caption: \u001b[94mComplaints go in the box behind the alligator.\u001b[0m\n",
            "\n",
            "\u001b[1m\u001b[4m\n",
            "split='test'\u001b[0m\u001b[0m\u001b[0m\n",
            "[104] scene: People are at a table playing games, reading, and working on the computer. A woman is reading a book and talking to a man.\n",
            "[104] uncanny: People are doing many things at a table and are very busy.\n",
            "\n",
            "[105] scene: Men have captured a giant. The giant is in a wide net. There is a castle in the background.\n",
            "[105] uncanny: Giants do not exist. Giants are hard to capture.\n",
            "\n"
          ]
        }
      ]
    },
    {
      "cell_type": "markdown",
      "source": [
        "<a name=\"sec21\"></a>\n",
        "#### [2.1] Preprocessing for autoregressive modeling <small>[↩︎](#outline)</small>\n",
        "\n",
        "> <font color=\"orange\">File to be modified: `seagull/data_processing/utils.py`.</font>\n",
        "\n",
        "Now that we have a concrete idea of what our dataset looks like, let's preprocess the dataset to suit our autoregressive language modeling task: predict the next token. Specifically, we need our model to generate captions, token-by-token, using the scene and uncanny description. A simple way of doing this to perform template processing via control codes to facilitate in-context learning.\n",
        "\n",
        "We will use the following template:\n",
        "```text\n",
        "<|scene|> ... <|uncanny|> ... <|caption|> ... <|endofcaption|>\n",
        "```\n",
        "where, `<|scene|>`, `<|uncanny|>`, `<|caption|>`, and `<|endofcaption|>` are special tokens used to facilitate controlled text generation. Don't worry if whatever is noted here seems alien; in simple words, we want the model to associate that the tokens between `<|caption|> ... <|endofcaption|>` correspond to humorous captions, associated with preceding scene tokens and uncanny tokens.\n",
        "\n",
        "Consider the following example (taken from the training data):\n",
        "> __Scene__: An alligator is coming out of the floor. Two people stare at it. A waiter points at it. <br/>\n",
        "> __Uncanny__: There is an alligator coming out of the floor. <br/>\n",
        "> __Caption__: It's our way of encouraging social distancing.\n",
        "\n",
        "The corresponding template-filled text is:\n",
        "\n",
        "> `<|scene|>` An alligator is coming out of the floor. Two people stare at it. A waiter points at it. `<|uncanny|>` There is an alligator coming out of the floor. `<|caption|>` It's our way of encouraging social distancing. `<|endofcaption|>`\n",
        "\n",
        "We will use the template-filled text to finetune our model on next token prediction. The above template holds for train/val splits where caption text is available. For test split, we will use the following template instead:\n",
        "```text\n",
        "<|scene|> ... <|uncanny|> ... <|caption|>\n",
        "```\n",
        "Do you see what we're doing?—we're forcing the model to associate tokens after `<|caption|>` as associated captions, and at test/inference time, we hope that the model will start generating caption-like text after seeing the `<|caption|>` special token.\n",
        "\n",
        "Use the cell below to view the template-filled text for any data instance:"
      ],
      "metadata": {
        "id": "_HP1zaynm0Tg"
      },
      "id": "_HP1zaynm0Tg"
    },
    {
      "cell_type": "code",
      "source": [
        "# Change the `split` and `sample_idx` below to view the associated template-processed text.\n",
        "#split, sample_idx = \"test\", 10\n",
        "split, sample_idx = \"train\", 100\n",
        "\n",
        "if split in [\"train\", \"val\"]:\n",
        "    print(\n",
        "        f\"{colored(SCENE_TOKEN, 'blue')} {dataset[split][sample_idx]['scene']} \"\n",
        "        f\"{colored(UNCANNY_TOKEN, 'blue')} {dataset[split][sample_idx]['uncanny']} \"\n",
        "        f\"{colored(CAPTION_TOKEN, 'blue')} {dataset[split][sample_idx]['caption']} {colored(END_OF_CAPTION_TOKEN, 'blue')}\"\n",
        "    )\n",
        "else:\n",
        "    print(\n",
        "        f\"{colored(SCENE_TOKEN, 'blue')} {dataset[split][sample_idx]['scene']} \"\n",
        "        f\"{colored(UNCANNY_TOKEN, 'blue')} {dataset[split][sample_idx]['uncanny']} \"\n",
        "        f\"{colored(CAPTION_TOKEN, 'blue')}\"\n",
        "    )"
      ],
      "metadata": {
        "id": "UCwnzy_4r5c9",
        "colab": {
          "base_uri": "https://localhost:8080/"
        },
        "outputId": "04fb461b-bfad-46f6-9657-66e63428de71"
      },
      "id": "UCwnzy_4r5c9",
      "execution_count": null,
      "outputs": [
        {
          "output_type": "stream",
          "name": "stdout",
          "text": [
            "\u001b[94m<|scene|>\u001b[0m Two giraffes are in a house. One is on the couch watching TV. \u001b[94m<|uncanny|>\u001b[0m Giraffes are doing human things. \u001b[94m<|caption|>\u001b[0m If he wins, we're going back to Africa, honey. \u001b[94m<|endofcaption|>\u001b[0m\n"
          ]
        }
      ]
    },
    {
      "cell_type": "markdown",
      "source": [
        "Before proceeding, please familiarize yourself with [batched mapping via map() function](https://huggingface.co/docs/datasets/about_map_batch); we will be using Huggingface batched mapping (with a batch size of 4,000) to preprocess the dataset to store the associated template-filled text for train/val/test splits.\n",
        "\n",
        "> __Time saving tip.__ If you find yourself struggling with batched mapping, write-out a naive implementation that runs for a batch size of one [= `data_instances` is now a dictionary of string key mapping to a list of one item]; run the `process_dataset.py` script below with `--batch-size=1`.\n",
        ">\n",
        "> Note that this is only to temporarily unblock you; keeping in line with our \"need for speed\" motivation, we will test your code on its ability to process data in batches.\n",
        "\n",
        "Go ahead and complete <font color=\"orange\">`TODO-2.1`</font> in `_merge_scene_uncanny_caption()` method of `seagull/data_processing/utils.py`. The method takes as input, a dictionary with column names as keys (e.g., \"scene\") and associated list of column name entries as values (e.g., scenes); your objective is to add a new key `merge_colname` to this dictionary with a list of template-filled texts as associated values. As an example (let `merge_colname` be \"text\"):\n",
        "```python\n",
        "{\n",
        "    \"scene\": [\"scene-1\", \"scene-2\", \"scene-3\"],\n",
        "    \"uncanny\": [\"uncanny-1\", \"uncanny-2\", \"uncanny-3\"],\n",
        "    \"caption\": [\"caption-1\", \"caption-2\", \"caption-3\"],\n",
        "}\n",
        "```\n",
        "\n",
        "gets processed as:\n",
        "```python\n",
        "{\n",
        "    \"scene\": [\"scene-1\", \"scene-2\", \"scene-3\"],\n",
        "    \"uncanny\": [\"uncanny-1\", \"uncanny-2\", \"uncanny-3\"],\n",
        "    \"caption\": [\"caption-1\", \"caption-2\", \"caption-3\"],\n",
        "    \"text\": [\n",
        "        \"<|scene|> scene-1 <|uncanny|> uncanny-1 <|caption|> caption-1 <|endofcaption|>\",\n",
        "        \"<|scene|> scene-2 <|uncanny|> uncanny-2 <|caption|> caption-2 <|endofcaption|>\",\n",
        "        \"<|scene|> scene-3 <|uncanny|> uncanny-3 <|caption|> caption-3 <|endofcaption|>\",\n",
        "    ],\n",
        "}\n",
        "```\n",
        "\n",
        "> __Note.__ Pay special attention because `_merge_scene_uncanny_caption()` handles both train/val and test splits, and the test split doesn't have a \"caption\" column. Use this information to handle test split data instances different from train/val splits.\n",
        "\n",
        "Once you've completed the function, we can preprocess our dataset to include associated template-filled text by running the `process_dataset.py` script:"
      ],
      "metadata": {
        "id": "KkegDniYq-qP"
      },
      "id": "KkegDniYq-qP"
    },
    {
      "cell_type": "code",
      "source": [
        "!process_dataset.py \\\n",
        "    --basepath-to-newyorker-dataset=\"dataset\" \\\n",
        "    --path-to-store-processed-dataset={os.path.join(ARTEFACTS_DIR, \"dataset/processed_dataset\")} \\\n",
        "    --batch-size=4000"
      ],
      "metadata": {
        "id": "gv219PPixeuO",
        "colab": {
          "base_uri": "https://localhost:8080/"
        },
        "outputId": "7b1b18e7-6bad-40c6-d9a1-e00cd6a82f5c"
      },
      "id": "gv219PPixeuO",
      "execution_count": null,
      "outputs": [
        {
          "output_type": "stream",
          "name": "stdout",
          "text": [
            "Saving the dataset (1/1 shards): 100% 79180/79180 [00:01<00:00, 44954.72 examples/s]\n",
            "Saving the dataset (1/1 shards): 100% 10783/10783 [00:00<00:00, 12015.30 examples/s]\n",
            "Saving the dataset (1/1 shards): 100% 986/986 [00:00<00:00, 1033.02 examples/s]\n"
          ]
        }
      ]
    },
    {
      "cell_type": "code",
      "source": [
        "scene_colname_and_special_token = (\"scene\", \"<|scene|>\")\n",
        "uncanny_colname_and_special_token = (\"uncanny\", \"<|uncanny|>\")\n",
        "caption_colname_and_special_token = (\"caption\", \"<|caption|>\")\n",
        "end_of_caption_special_token = \"<|endofcaption|>\"\n",
        "merge_colname = \"text\"\n",
        "\n",
        "def _merge_scene_uncanny_caption(\n",
        "    data_instances,\n",
        "    scene_colname_and_special_token=scene_colname_and_special_token,\n",
        "    uncanny_colname_and_special_token=uncanny_colname_and_special_token,\n",
        "    caption_colname_and_special_token=caption_colname_and_special_token,\n",
        "    end_of_caption_special_token=end_of_caption_special_token,\n",
        "    merge_colname=merge_colname,\n",
        "):\n",
        "    # Paste your function body below.\n",
        "    merged_texts = []\n",
        "    for i in range(len(data_instances[scene_colname_and_special_token[0]])):\n",
        "        scene_text = scene_colname_and_special_token[1] + \" \" + data_instances[scene_colname_and_special_token[0]][i]\n",
        "        uncanny_text =  uncanny_colname_and_special_token[1] + \" \" + data_instances[uncanny_colname_and_special_token[0]][i]\n",
        "\n",
        "        if caption_colname_and_special_token[0] in data_instances:\n",
        "            caption_text = caption_colname_and_special_token[1] + \" \" + data_instances[caption_colname_and_special_token[0]][i] + \" \" + end_of_caption_special_token\n",
        "        else:\n",
        "            caption_text = caption_colname_and_special_token[1]\n",
        "\n",
        "        merged_text = f\"{scene_text} {uncanny_text} {caption_text}\"\n",
        "        merged_texts.append(merged_text)\n",
        "\n",
        "    data_instances[merge_colname] = merged_texts\n",
        "    return data_instances\n",
        "\n",
        "test_data = dataset[\"test\"].map(_merge_scene_uncanny_caption, batched=True)\n",
        "print(test_data[0])"
      ],
      "metadata": {
        "colab": {
          "base_uri": "https://localhost:8080/"
        },
        "id": "JwdrO-K5smL9",
        "outputId": "4ce8dbe1-54e1-46aa-900c-1e148d22f3fa"
      },
      "id": "JwdrO-K5smL9",
      "execution_count": null,
      "outputs": [
        {
          "output_type": "stream",
          "name": "stdout",
          "text": [
            "{'scene': 'Two priests and a rabbi are walking into a bar, as the bartender and another patron look on. The bartender talks on the phone while looking skeptically at the incoming crew.', 'uncanny': 'The scene depicts a very stereotypical \"bar joke\" that would be unlikely to be encountered in real life; the skepticism of the bartender suggests that he is aware he is seeing this trope, and is explaining it to someone on the phone.', 'id': 0, 'text': '<|scene|> Two priests and a rabbi are walking into a bar, as the bartender and another patron look on. The bartender talks on the phone while looking skeptically at the incoming crew. <|uncanny|> The scene depicts a very stereotypical \"bar joke\" that would be unlikely to be encountered in real life; the skepticism of the bartender suggests that he is aware he is seeing this trope, and is explaining it to someone on the phone. <|caption|>'}\n"
          ]
        }
      ]
    },
    {
      "cell_type": "code",
      "source": [
        "processed_dataset = dataset.map(_merge_scene_uncanny_caption, batched=True)\n",
        "processed_dataset.save_to_disk(os.path.join(ARTEFACTS_DIR, \"dataset/processed_dataset\"))"
      ],
      "metadata": {
        "colab": {
          "base_uri": "https://localhost:8080/",
          "height": 197,
          "referenced_widgets": [
            "7ab01c61b8034f1d9e123f98c6b66944",
            "232247d6ea8d4bac9825a92affa48b4e",
            "093365d6ee134bc2bcc265725a974617",
            "f608f2f06b4e46c8ad633466f28beae7",
            "da23d22818254ce1baf1e4befb47d8d0",
            "e5fa7917d6894107a1aea8797eb4ee1e",
            "adb985c00680401990d034606cf72cc7",
            "a4bd09b42ab245e3b2a5447a67ed46ad",
            "d0b6905c4c2f4c1db8edc7f476c55e0f",
            "f31df5c6c8b14cb79694cb69826a2733",
            "1f018815f526423eb6218624c0096acb",
            "8991d31d2ac8483e8e3a875482d5fb52",
            "c29bdde6d9964411b6181088ca64d8dd",
            "9b373e743fd148acab1380cbf037955d",
            "9509247a839b4aa8b501e920463e8ec5",
            "c2aebb74fc4c4a7aad338672ea6c3d58",
            "cd8d2829b9a644efa66e4cce303572e8",
            "4de8db59241c439e947cafa28503bd71",
            "153f74bb89a84aaebe0cbbcf7e3eb107",
            "06f2a82cdfc5464a8939399a303091ab",
            "28532d80c2d54243928578752cee1829",
            "50e3acc5ef7a4bf78355bc5ce131bc74",
            "0d3a066f204b4c768aec1924b1857f5f",
            "067234cc004c49699e2f0c1b0f14f55d",
            "f186a98918fe4d4fbb8eaf4eeec518b8",
            "3e3c54c263af417c9c1d4bf5eed59f48",
            "b75ecb34c60641f2af7a8ec4bdf602e6",
            "4a4985702f0c484caba105972b3f6539",
            "7a2029da7ff84618a5a1a5461d56b06f",
            "8f5124aa7b944f92984d0871ddb9df55",
            "7dac64b63771492bb27b8885ade5d585",
            "ac0a9a49d99c430a8ed5d6320628dc98",
            "3a4cdaa47cd443f6aed3ec6321012841"
          ]
        },
        "id": "rOrFFFhwsEE0",
        "outputId": "c1bdc53a-4cf0-433b-a503-36b8bc7b1bea"
      },
      "id": "rOrFFFhwsEE0",
      "execution_count": null,
      "outputs": [
        {
          "output_type": "display_data",
          "data": {
            "text/plain": [
              "Saving the dataset (0/1 shards):   0%|          | 0/79180 [00:00<?, ? examples/s]"
            ],
            "application/vnd.jupyter.widget-view+json": {
              "version_major": 2,
              "version_minor": 0,
              "model_id": "7ab01c61b8034f1d9e123f98c6b66944"
            }
          },
          "metadata": {}
        },
        {
          "output_type": "display_data",
          "data": {
            "text/plain": [
              "Saving the dataset (0/1 shards):   0%|          | 0/10783 [00:00<?, ? examples/s]"
            ],
            "application/vnd.jupyter.widget-view+json": {
              "version_major": 2,
              "version_minor": 0,
              "model_id": "8991d31d2ac8483e8e3a875482d5fb52"
            }
          },
          "metadata": {}
        },
        {
          "output_type": "display_data",
          "data": {
            "text/plain": [
              "Saving the dataset (0/1 shards):   0%|          | 0/986 [00:00<?, ? examples/s]"
            ],
            "application/vnd.jupyter.widget-view+json": {
              "version_major": 2,
              "version_minor": 0,
              "model_id": "0d3a066f204b4c768aec1924b1857f5f"
            }
          },
          "metadata": {}
        }
      ]
    },
    {
      "cell_type": "markdown",
      "source": [
        "The above cell saves the preprocessed dataset to `hw4-fa23/artefacts/dataset/processed_dataset`. Let's inspect our dataset and a few samples to be sure that the data processing ran as expected."
      ],
      "metadata": {
        "id": "jpWaVs3nx6sQ"
      },
      "id": "jpWaVs3nx6sQ"
    },
    {
      "cell_type": "code",
      "source": [
        "processed_dataset = datasets.load_from_disk(os.path.join(ARTEFACTS_DIR, \"dataset/processed_dataset\"))\n",
        "print(processed_dataset, \"\\n\")\n",
        "\n",
        "sample_idx = 3  # change to view other samples\n",
        "for split in [\"train\", \"val\", \"test\"]:\n",
        "    print(colored(f\"{split=}\", attrs=[\"bold\", \"underline\"]))\n",
        "    print(\"text:\", processed_dataset[split][sample_idx][\"text\"], \"\\n\")"
      ],
      "metadata": {
        "id": "jYCgeyTEx6Kw",
        "colab": {
          "base_uri": "https://localhost:8080/"
        },
        "outputId": "2699224e-3380-4dd7-8196-69659622b127"
      },
      "id": "jYCgeyTEx6Kw",
      "execution_count": null,
      "outputs": [
        {
          "output_type": "stream",
          "name": "stdout",
          "text": [
            "DatasetDict({\n",
            "    train: Dataset({\n",
            "        features: ['scene', 'uncanny', 'caption', 'text'],\n",
            "        num_rows: 79180\n",
            "    })\n",
            "    val: Dataset({\n",
            "        features: ['scene', 'uncanny', 'caption', 'text'],\n",
            "        num_rows: 10783\n",
            "    })\n",
            "    test: Dataset({\n",
            "        features: ['scene', 'uncanny', 'id', 'text'],\n",
            "        num_rows: 986\n",
            "    })\n",
            "}) \n",
            "\n",
            "\u001b[4m\u001b[1msplit='train'\u001b[0m\u001b[0m\u001b[0m\n",
            "text: <|scene|> An alligator is coming out of the floor. Two people stare at it. A waiter points at it. <|uncanny|> There is an alligator coming out of the floor. <|caption|> You can tell whether it's an alligator or a crocodile by whether you see it later or after a while. <|endofcaption|> \n",
            "\n",
            "\u001b[4m\u001b[1msplit='val'\u001b[0m\u001b[0m\u001b[0m\n",
            "text: <|scene|> Two explorers are hiking through nature. They come across two subway cars in the brush. <|uncanny|> Subway cars wouldn't be way out in the middle of nowhere. <|caption|> And to think, this was Times Square a month ago. <|endofcaption|> \n",
            "\n",
            "\u001b[4m\u001b[1msplit='test'\u001b[0m\u001b[0m\u001b[0m\n",
            "text: <|scene|> There is a bedroom with a table in front of the bed. It looks like two routers are on the table. There are six people in the bed staring at it. <|uncanny|> There are a lot of people in one bed. They are also fully dressed. <|caption|> \n",
            "\n"
          ]
        }
      ]
    },
    {
      "cell_type": "markdown",
      "source": [
        "<a name=\"sec22\"></a>\n",
        "#### [2.2] Tokenization and padding <small>[↩︎](#outline)</small>\n",
        "\n",
        "Now that we've preprocessed our dataset in a format suited to our task of next token prediction, we can proceed to tokenize the template-filled text. In this assignment, we will be using a Byte-level Byte-Pair Encoding (BBPE) tokenizer: a BBPE tokenizer starts with a set of base vocabulary and learns _merges_, i.e., rules to merge two elements of the base vocabulary to create a new token. The order of merging is by picking the most-frequent pair. For those of you familiar with [Byte-Pair Encoding compression](https://en.wikipedia.org/wiki/Byte_pair_encoding), this is the exact BPE algorithm, but used to find vocabulary tokens.\n",
        "\n",
        "Now the question is how to pick the initial base vocabulary such that we don't end up with several unknown tokens? For instance, if the initial vocabulary is just the letter \"t\"; the only possible tokens in the vocabulary (if any) would be: {\"t\", \" t\"} (the \" t\" has a space). A clever way of dealing with picking the initial vocabulary is to view tokens as bytes, instead of as Unicode characters—hence, \"byte-level\" BPE. Read more about BBPE tokenization here: https://huggingface.co/learn/nlp-course/chapter6/5.\n",
        "\n",
        "We already trained a BBPE tokenizer using the processed dataset; provided in `pretrained_artefacts/tokenizer`. Let's load the tokenizer; pay attention to the `special_tokens` in the tokenizer:"
      ],
      "metadata": {
        "id": "0qCYK9GL08fp"
      },
      "id": "0qCYK9GL08fp"
    },
    {
      "cell_type": "code",
      "source": [
        "bbpe_tokenizer = BBPETokenizer()\n",
        "bbpe_tokenizer.from_file(os.path.join(PRETRAINED_ARTEFACTS_DIR, \"tokenizer\"))\n",
        "bbpe_tokenizer"
      ],
      "metadata": {
        "id": "MyvTO9Ik5tSS",
        "colab": {
          "base_uri": "https://localhost:8080/"
        },
        "outputId": "011fa090-d6d0-458e-ca1c-f826ac472b0d"
      },
      "id": "MyvTO9Ik5tSS",
      "execution_count": null,
      "outputs": [
        {
          "output_type": "execute_result",
          "data": {
            "text/plain": [
              "BBPETokenizer(name=seagull-bbpe, vocab_size=33264, lowercase=False, punct_behavior=contiguous, special_tokens={'<|pad|>': 0, '<|unk|>': 1, '<|endoftext|>': 2, '<|scene|>': 3, '<|uncanny|>': 4, '<|caption|>': 5, '<|endofcaption|>': 6})"
            ]
          },
          "metadata": {},
          "execution_count": 15
        }
      ]
    },
    {
      "cell_type": "markdown",
      "source": [
        "We've already noted `<|scene|>`, `<|uncanny|>`, `<|caption|>`, `<|endofcaption|>` special tokens; other special tokens include: `<|pad|>` for padding token, `<|unk|>` for unknown token, and `<|endoftext|>` to indicate the end of text, i.e., the model has completed the ongoing chain of thought.\n",
        "\n",
        "> __Aside.__ BBPE tokenizers map \" \" (space) to \"Ġ\"; hence, a token \"Ġdrive\" is actually \" drive\". This is true for GPT models and even our tokenizer!"
      ],
      "metadata": {
        "id": "cSJt_-hY8Mq8"
      },
      "id": "cSJt_-hY8Mq8"
    },
    {
      "cell_type": "code",
      "source": [
        "sample_text = \"Google Drive\"\n",
        "print([bbpe_tokenizer.id2token(_) for _ in bbpe_tokenizer.encode(sample_text)])"
      ],
      "metadata": {
        "id": "IVXw2e9A8ClX",
        "colab": {
          "base_uri": "https://localhost:8080/"
        },
        "outputId": "a9093c0b-2391-4fcc-bfec-903ee5c6db51"
      },
      "id": "IVXw2e9A8ClX",
      "execution_count": null,
      "outputs": [
        {
          "output_type": "stream",
          "name": "stdout",
          "text": [
            "['Goo', 'gle', 'ĠDrive', '<|endoftext|>']\n"
          ]
        }
      ]
    },
    {
      "cell_type": "markdown",
      "source": [
        "---\n",
        "<font color=\"orange\">__Q2.2__ We've seen the functionality of `<|endofcaption|>` before; what do you think is the use of an additional `<|endoftext|>` special token? What bearing does the `<|endofcaption|>` token have while pretraining? (Present your views in under three sentences.) <br/>\n",
        "\n",
        "_Hint. Recall that due to the use of positional embeddings, we've limited our model to a set maximum sequence length._\n",
        "</font>"
      ],
      "metadata": {
        "id": "a5-Z6NYq8xkR"
      },
      "id": "a5-Z6NYq8xkR"
    },
    {
      "cell_type": "markdown",
      "source": [
        "__Answer.__\n",
        "##### The additional special token, such as <eos\\>, serves to signify the end of a sequence. During pretraining, it is crucial for predicting and understanding sequence boundaries, especially when faced with positional embedding constraints that limit the maximum sequence length. This token aids in handling variable-length sequences and maintaining meaningful context within the specified positional embedding limits.\n",
        "---"
      ],
      "metadata": {
        "id": "h9P56Xpy7Jf5"
      },
      "id": "h9P56Xpy7Jf5"
    },
    {
      "cell_type": "markdown",
      "source": [
        "The BBPE tokenizer class is in `seagull.data_processing.bbpe.py`; we'll use the `tokenize()` method in the file to tokenize our processed dataset. Given that you understand how to tokenize data from HW2, we've implemented the `tokenize()` function in `BBPETokenizer` for you (no `TODO`s here)—yay! Before proceeding, please familiarize yourself with the methods offered by this class.\n",
        "\n",
        "One important distinction between this `BBPETokenizer.tokenize()` and the one you wrote in HW2 is that `BBPETokenizer.tokenize()` doesn't allow for truncation. If `max_length` is specified, the function facilitates padding, but never truncation. Rationale: note that the same code was used in pretraining the Seagull, and the pretraining data (e.g., [OpenWebText](https://huggingface.co/datasets/Skylion007/openwebtext)) have much longer sequences and truncation would mean significant information loss; instead of truncation, we facilitate sampling the tokens a random start index; see `seagull.data_processing.sequence_sampler.py`.\n",
        "\n",
        "We've chosen the maximum sequence length processable by Seagull to be 128; why?—run the cell below to see the distribution of sequence length across data splits. Given that the captions occur to the end of the sequence, for sequences slightly longer than 128, we choose the last 128 tokens in training/validation."
      ],
      "metadata": {
        "id": "lhDe8R1K6MIS"
      },
      "id": "lhDe8R1K6MIS"
    },
    {
      "cell_type": "code",
      "source": [
        "_data = processed_dataset.map(lambda data_instance: {\"seq_length\": len(data_instance[\"text\"].split())}, batched=False)\n",
        "\n",
        "fig, ax = plt.subplots(1, 1, figsize=(4.5, 2))\n",
        "for split, color in zip([\"train\", \"val\", \"test\"], [\"lime\", \"b\", \"red\"]):\n",
        "    sns.kdeplot(_data[split][\"seq_length\"], ax=ax, label=split, color=color)\n",
        "    ax.set(xlabel=\"num tokens\")\n",
        "    ax.legend()\n",
        "plt.tight_layout()\n",
        "plt.show()"
      ],
      "metadata": {
        "id": "cieVCdJymoWY",
        "colab": {
          "base_uri": "https://localhost:8080/",
          "height": 213
        },
        "outputId": "77a58f16-72f1-4039-c7f3-3bd782cf98a2"
      },
      "id": "cieVCdJymoWY",
      "execution_count": null,
      "outputs": [
        {
          "output_type": "display_data",
          "data": {
            "text/plain": [
              "<Figure size 450x200 with 1 Axes>"
            ],
            "image/png": "[encoded data removed]"
          },
          "metadata": {
            "image/png": {
              "width": 446,
              "height": 196
            }
          }
        }
      ]
    },
    {
      "cell_type": "markdown",
      "source": [
        "You can run the `generate_tokenized_dataset.py` command to generate the tokenized dataset (from the processed dataset) using the pretrained tokenizer."
      ],
      "metadata": {
        "id": "op6ZqPYrmPPW"
      },
      "id": "op6ZqPYrmPPW"
    },
    {
      "cell_type": "code",
      "source": [
        "!generate_tokenized_dataset.py \\\n",
        "    --config-path={os.path.join(CONFIGS_DIR, \"generate_tokenized_dataset.yml\")} \\\n",
        "    --basepath-to-processed-dataset={os.path.join(ARTEFACTS_DIR, \"dataset/processed_dataset\")} \\\n",
        "    --tokenizer-basepath={os.path.join(PRETRAINED_ARTEFACTS_DIR, \"tokenizer\")} \\\n",
        "    --path-to-store-tokenized-dataset={os.path.join(ARTEFACTS_DIR, \"dataset/tokenized_dataset\")}"
      ],
      "metadata": {
        "id": "HFu2sm7fA_6y",
        "colab": {
          "base_uri": "https://localhost:8080/"
        },
        "outputId": "07caea2d-b4f8-4593-e603-2e331f253760"
      },
      "id": "HFu2sm7fA_6y",
      "execution_count": null,
      "outputs": [
        {
          "output_type": "stream",
          "name": "stdout",
          "text": [
            "Saving the dataset (1/1 shards): 100% 79180/79180 [00:02<00:00, 38380.10 examples/s]\n",
            "Saving the dataset (1/1 shards): 100% 10783/10783 [00:01<00:00, 6854.66 examples/s]\n",
            "Saving the dataset (1/1 shards): 100% 986/986 [00:00<00:00, 1232.38 examples/s]\n"
          ]
        }
      ]
    },
    {
      "cell_type": "markdown",
      "source": [
        "Let's inspect the dataset"
      ],
      "metadata": {
        "id": "UW4tqOonTTVy"
      },
      "id": "UW4tqOonTTVy"
    },
    {
      "cell_type": "code",
      "source": [
        "tokenized_dataset = datasets.load_from_disk(os.path.join(ARTEFACTS_DIR, \"dataset/tokenized_dataset\"))\n",
        "print(tokenized_dataset, \"\\n\")\n",
        "\n",
        "sample_idx = 1  # change to view other samples\n",
        "for split in [\"train\", \"val\", \"test\"]:\n",
        "    print(colored(f\"{split=}\", attrs=[\"bold\", \"underline\"]))\n",
        "    print(\"input_ids:\", tokenized_dataset[split][sample_idx][\"input_ids\"])\n",
        "    print(\"attention_mask:\", tokenized_dataset[split][sample_idx][\"attention_mask\"], \"\\n\")"
      ],
      "metadata": {
        "id": "uL6JKSwABk2E",
        "colab": {
          "base_uri": "https://localhost:8080/"
        },
        "outputId": "0d05686c-0057-4391-d798-59b1e600f711"
      },
      "id": "uL6JKSwABk2E",
      "execution_count": null,
      "outputs": [
        {
          "output_type": "stream",
          "name": "stdout",
          "text": [
            "DatasetDict({\n",
            "    train: Dataset({\n",
            "        features: ['scene', 'uncanny', 'caption', 'text', 'input_ids', 'attention_mask'],\n",
            "        num_rows: 79180\n",
            "    })\n",
            "    val: Dataset({\n",
            "        features: ['scene', 'uncanny', 'caption', 'text', 'input_ids', 'attention_mask'],\n",
            "        num_rows: 10783\n",
            "    })\n",
            "    test: Dataset({\n",
            "        features: ['scene', 'uncanny', 'id', 'text', 'input_ids', 'attention_mask'],\n",
            "        num_rows: 986\n",
            "    })\n",
            "}) \n",
            "\n",
            "\u001b[4m\u001b[1msplit='train'\u001b[0m\u001b[0m\u001b[0m\n",
            "input_ids: [3, 704, 2712, 293, 1513, 436, 302, 279, 1922, 20, 580, 560, 1536, 355, 396, 20, 306, 1262, 4204, 355, 396, 20, 227, 4, 479, 293, 304, 2712, 1513, 436, 302, 279, 1922, 20, 227, 5, 799, 405, 541, 1682, 549, 3538, 18, 396, 23802, 3089, 9481, 20, 227, 6, 2, 0, 0, 0, 0, 0, 0, 0, 0, 0, 0, 0, 0, 0, 0, 0, 0, 0, 0, 0, 0, 0, 0, 0, 0, 0, 0, 0, 0, 0, 0, 0, 0, 0, 0, 0, 0, 0, 0, 0, 0, 0, 0, 0, 0, 0, 0, 0, 0, 0, 0, 0, 0, 0, 0, 0, 0, 0, 0, 0, 0, 0, 0, 0, 0, 0, 0, 0, 0, 0, 0, 0, 0, 0, 0, 0, 0, 0, 0]\n",
            "attention_mask: [1, 1, 1, 1, 1, 1, 1, 1, 1, 1, 1, 1, 1, 1, 1, 1, 1, 1, 1, 1, 1, 1, 1, 1, 1, 1, 1, 1, 1, 1, 1, 1, 1, 1, 1, 1, 1, 1, 1, 1, 1, 1, 1, 1, 1, 1, 1, 1, 1, 1, 1, 0, 0, 0, 0, 0, 0, 0, 0, 0, 0, 0, 0, 0, 0, 0, 0, 0, 0, 0, 0, 0, 0, 0, 0, 0, 0, 0, 0, 0, 0, 0, 0, 0, 0, 0, 0, 0, 0, 0, 0, 0, 0, 0, 0, 0, 0, 0, 0, 0, 0, 0, 0, 0, 0, 0, 0, 0, 0, 0, 0, 0, 0, 0, 0, 0, 0, 0, 0, 0, 0, 0, 0, 0, 0, 0, 0, 0, 0] \n",
            "\n",
            "\u001b[4m\u001b[1msplit='val'\u001b[0m\u001b[0m\u001b[0m\n",
            "input_ids: [3, 580, 15847, 319, 2688, 748, 2920, 20, 438, 1487, 1934, 846, 1572, 1818, 298, 279, 4445, 20, 227, 4, 16550, 1818, 1636, 13, 90, 338, 997, 436, 298, 279, 931, 302, 3885, 20, 227, 5, 1488, 18, 47, 939, 1128, 612, 19322, 646, 1278, 3582, 723, 407, 20, 227, 6, 2, 0, 0, 0, 0, 0, 0, 0, 0, 0, 0, 0, 0, 0, 0, 0, 0, 0, 0, 0, 0, 0, 0, 0, 0, 0, 0, 0, 0, 0, 0, 0, 0, 0, 0, 0, 0, 0, 0, 0, 0, 0, 0, 0, 0, 0, 0, 0, 0, 0, 0, 0, 0, 0, 0, 0, 0, 0, 0, 0, 0, 0, 0, 0, 0, 0, 0, 0, 0, 0, 0, 0, 0, 0, 0, 0, 0, 0]\n",
            "attention_mask: [1, 1, 1, 1, 1, 1, 1, 1, 1, 1, 1, 1, 1, 1, 1, 1, 1, 1, 1, 1, 1, 1, 1, 1, 1, 1, 1, 1, 1, 1, 1, 1, 1, 1, 1, 1, 1, 1, 1, 1, 1, 1, 1, 1, 1, 1, 1, 1, 1, 1, 1, 1, 0, 0, 0, 0, 0, 0, 0, 0, 0, 0, 0, 0, 0, 0, 0, 0, 0, 0, 0, 0, 0, 0, 0, 0, 0, 0, 0, 0, 0, 0, 0, 0, 0, 0, 0, 0, 0, 0, 0, 0, 0, 0, 0, 0, 0, 0, 0, 0, 0, 0, 0, 0, 0, 0, 0, 0, 0, 0, 0, 0, 0, 0, 0, 0, 0, 0, 0, 0, 0, 0, 0, 0, 0, 0, 0, 0, 0] \n",
            "\n",
            "\u001b[4m\u001b[1msplit='test'\u001b[0m\u001b[0m\u001b[0m\n",
            "input_ids: [3, 580, 757, 319, 611, 323, 2134, 18, 569, 293, 932, 298, 263, 1026, 321, 279, 654, 263, 3575, 20, 438, 319, 1264, 529, 9024, 6903, 18, 508, 279, 377, 298, 279, 1026, 728, 309, 338, 797, 309, 3667, 547, 321, 279, 377, 298, 279, 3575, 293, 14553, 695, 323, 499, 529, 547, 537, 547, 6310, 20, 227, 4, 5126, 846, 757, 611, 323, 2134, 321, 529, 21, 23416, 9024, 6903, 293, 577, 20, 3898, 18, 493, 569, 302, 279, 757, 932, 298, 263, 1026, 321, 279, 654, 263, 3575, 293, 1112, 2613, 20, 330, 4615, 16416, 10296, 537, 569, 302, 279, 757, 1877, 279, 654, 1855, 279, 4023, 21, 333, 3795, 293, 1112, 5176, 20, 227, 5, 2, 0, 0, 0, 0, 0, 0, 0, 0, 0, 0]\n",
            "attention_mask: [1, 1, 1, 1, 1, 1, 1, 1, 1, 1, 1, 1, 1, 1, 1, 1, 1, 1, 1, 1, 1, 1, 1, 1, 1, 1, 1, 1, 1, 1, 1, 1, 1, 1, 1, 1, 1, 1, 1, 1, 1, 1, 1, 1, 1, 1, 1, 1, 1, 1, 1, 1, 1, 1, 1, 1, 1, 1, 1, 1, 1, 1, 1, 1, 1, 1, 1, 1, 1, 1, 1, 1, 1, 1, 1, 1, 1, 1, 1, 1, 1, 1, 1, 1, 1, 1, 1, 1, 1, 1, 1, 1, 1, 1, 1, 1, 1, 1, 1, 1, 1, 1, 1, 1, 1, 1, 1, 1, 1, 1, 1, 1, 1, 1, 1, 1, 1, 1, 1, 0, 0, 0, 0, 0, 0, 0, 0, 0, 0] \n",
            "\n"
          ]
        }
      ]
    },
    {
      "cell_type": "markdown",
      "source": [
        "One final note before proceeding: there is a subtle distinction between `attention_mask` and `padding_mask`. The attention mask indicates which tokens the multi-head attention has to operate on, i.e., 1 = attend and 0 = don't attend. On the other hand, padding mask indicates which tokens are padded, i.e., 1 = pad token and 0 = non-pad token. Consequentially, `attention_mask = padding_mask.logical_not()` and vice versa."
      ],
      "metadata": {
        "id": "Jar_zsUvTNhc"
      },
      "id": "Jar_zsUvTNhc"
    },
    {
      "cell_type": "markdown",
      "source": [
        "<a name=\"sec23\"></a>\n",
        "#### [2.3] Inputs and labels <small>[↩︎](#outline)</small>\n",
        "\n",
        "> <font color=\"orange\">File to be modified: `seagull/data_processing/sequence_sampler.py`.</font>\n",
        "\n",
        "So far we've processed our dataset to enable autoregressive modeling, i.e., next token prediction. Recall from HW2 that to train our model, we need `input_ids`, `padding_mask`, and labels associated with the `input_ids`, so the model can learn to minimize some appropriate loss. Now the tokenizer already returns the `input_ids` and `attention_mask` (negating would result in `padding_mask`); however, we still need to populate labels.\n",
        "\n",
        "Let's recall our figure for autoregressive modeling, this time with `input_ids` instead:\n",
        "\n",
        "<div align=\"center\"></br>\n",
        "    <img src=\"https://i.imgur.com/kQdGO3I.png\" width=550px/>\n",
        "</br></div>\n",
        "\n",
        "Observe that in the setting of next token prediction, the labels are simply shifted inputs. Based on this, complete <font color=\"orange\">`TODO-2.3`</font> in `__getitem__` of `SequenceSamplingDataset`—we already handle the truncation of longer sequences through `_process_inputs_and_padding()` for you; all you need to do is process a given list of `input_ids` to facilitate autoregressive modeling. Return a dictionary with `\"input_ids\"`, `\"padding_mask\"`, and `\"labels\"` as keys and associated tensors as values.\n",
        "\n",
        "For the example in the above figure, `_process_inputs_and_padding()` returns the following:\n",
        "```python\n",
        "input_ids: [22197, 549, 279, 1733, 351, ..., 717, 14884, 2, 0, 0, ..., 0]\n",
        "padding_mask: [0, 0, 0, 0, 0,..., 0, 0, 0, 1, 1, ..., 1]\n",
        "```\n",
        "where the tensors associated with `input_ids` and `padding_mask` are both 129 in length (one more than maximum sequence processing length; why?).\n",
        "\n",
        "Once you've filled-in the `__getitem__` method, let's create a dataset from the train split of the `tokenized_dataset` to ensure everything runs as expected:\n"
      ],
      "metadata": {
        "id": "4A110VJ_C3N-"
      },
      "id": "4A110VJ_C3N-"
    },
    {
      "cell_type": "code",
      "source": [
        "model_max_positions = 128\n",
        "sequence_sampling_dataset = SequenceSamplingDataset(\n",
        "    dataset=tokenized_dataset[\"train\"], model_max_positions=model_max_positions, seq_start_pos=-1\n",
        ")\n",
        "print(sequence_sampling_dataset)\n",
        "\n",
        "# Check if all shapes are as expected.\n",
        "assert (\n",
        "    len(sequence_sampling_dataset[0][\"input_ids\"])\n",
        "    == len(sequence_sampling_dataset[0][\"padding_mask\"])\n",
        "    == len(sequence_sampling_dataset[0][\"labels\"])\n",
        "    == model_max_positions\n",
        ")"
      ],
      "metadata": {
        "id": "s1nURWzWPtxg",
        "colab": {
          "base_uri": "https://localhost:8080/"
        },
        "outputId": "f556ba07-2593-44af-c61e-4f11dc7da333"
      },
      "id": "s1nURWzWPtxg",
      "execution_count": null,
      "outputs": [
        {
          "output_type": "stream",
          "name": "stdout",
          "text": [
            "SequenceSamplingDataset(model_max_positions=128, seq_start_pos=-1, len=79180)\n"
          ]
        }
      ]
    },
    {
      "cell_type": "markdown",
      "source": [
        "---\n",
        "\n",
        "<a name=\"sec3\"></a>\n",
        "### [3] Token (and positional) embeddings <small>[↩︎](#outline)</small>\n",
        "\n",
        "> <font color=\"orange\">File to be modified: `seagull/model/components/embedding.py`.</font>\n",
        "\n",
        "With all the data processing and tokenization done, let's now start building our Seagull, component-by-component. The first step is to convert `input_ids` to embeddings:\n",
        "\n",
        "<div align=\"center\"><br/>\n",
        "    <img src=\"https://i.imgur.com/aDnQ9y4.png\" width=600px>\n",
        "<br/></div>\n",
        "\n",
        "Each token in the vocabulary requires a unique representation, we'll call these token embeddings: one token, one embedding. As noted earlier, we need to capture some sense of the token position in the sequence to be able to distinguish the word _bank_ between \"river _bank_\" and \"_bank_ teller\". To this end, we'll create a unique embedding for each possible position: one position, one embedding. Consequently, the position embeddings are independent of the token at the position. The position embedding is added to the token embedding to form a final embedding representation.\n",
        "\n",
        "One final thing to note: the positional embeddings described above are what is commonly known as \"absolute\" positional embeddings. Over the past few years, the need for and the way to implement positional embeddings has been studied extensively (refer: [sinusoidal encodings](https://arxiv.org/pdf/1706.03762.pdf), [learned positional embeddings](https://arxiv.org/pdf/2010.04903.pdf), [No Positional Encodings (NoPE)](https://arxiv.org/pdf/2305.19466.pdf), [Attention with Linear Biases (ALiBi)](https://arxiv.org/pdf/2108.12409.pdf), [Rotary Positional Encodings (RoPE)](https://arxiv.org/pdf/2104.09864.pdf)). In this assignment, we provide an efficient implementation of RoPE in `seagull/nn/transformer/rope.py`. RoPE encodings are _relative_ positional encodings that capture the relative distance between tokens by applying a rotation transformation to the token embeddings; this is done while performing [multi-head attention; section4](#sec4).\n",
        "> __Key takeaway.__ Positional embeddings should not be used in the `Embedding` class when `self.use_rope` is set to `True`.\n",
        "\n",
        "An example of `input_ids` and corresponding `position_ids` is as follows:\n",
        "```python\n",
        "input_ids: [22197, 549, 279, 1733, ..., 14884]  # length = 18\n",
        "position_ids: [0, 1, 2, 3, ..., 17]  # length = 18\n",
        "```\n",
        "\n",
        "With this in mind, let us implement <font color=\"orange\">`TODO-3`</font> corresponding to the `forward()` method of the `Embedding` class as follows:\n",
        "* pass the `input_ids` through the `self.token_embedding` layer,\n",
        "* if `self.rope` is `False` [= indication to use positional embeddings]:\n",
        "   * check if `position_ids` are passed in; if they are, then use `self.position_embedding` to obtain the positional embeddings for the corresponding `position_ids`;\n",
        "   * if `position_ids` are `None`, then you need to populate `position_ids` based on the input sequence length—remember, `position_ids` are independent of the token at that position; they are simply `[0, num_input_ids)`. Once you've populated the `position_ids`, you can retrieve their embeddings using `self.position_embedding`.\n",
        "* add the obtained positional embeddings (if `self.rope` is `False`) and token embeddings, and\n",
        "* depending on whether `self.apply_layer_norm` is `True` or `False`, apply `self.layer_norm` to the possibly-summed embeddings.\n",
        "\n",
        "> __Shape check.__ The shapes of `input_ids` and `position_ids` must be the same, i.e., `(batch_size, max_length)`; the final embeddings output from the method are of shape `(batch_size, max_length, embedding_dim=768)`.\n",
        "\n",
        "Upon completion, run the following cell to ensure everything is working as expected."
      ],
      "metadata": {
        "id": "YV-xSuOwPXVU"
      },
      "id": "YV-xSuOwPXVU"
    },
    {
      "cell_type": "code",
      "source": [
        "# Set a few test hyperparameters; change as needed.\n",
        "embedding_dim = 30\n",
        "batch_size, max_length = 5, 10\n",
        "\n",
        "test_embedding = Embedding(\n",
        "    vocab_size=bbpe_tokenizer.vocab_size,\n",
        "    embedding_dim=embedding_dim,\n",
        "    max_positions=20,\n",
        "    padding_idx=bbpe_tokenizer.token2id(bbpe_tokenizer.pad_token),\n",
        "    use_rope=False,\n",
        "    layer_norm_type=\"rms\",\n",
        ")\n",
        "test_embedding.print_params()  # ensure everything is as expected\n",
        "\n",
        "test_input = torch.randint(0, bbpe_tokenizer.vocab_size, size=(batch_size, max_length))\n",
        "assert test_embedding(test_input).shape == (\n",
        "    batch_size,\n",
        "    max_length,\n",
        "    embedding_dim,\n",
        "), f\"{test_embedding(test_input).shape=} incorrect shape\""
      ],
      "metadata": {
        "id": "F657w9bYRYYS",
        "colab": {
          "base_uri": "https://localhost:8080/"
        },
        "outputId": "618c84f3-f708-4d48-f04e-9ad6ca5b4683"
      },
      "id": "F657w9bYRYYS",
      "execution_count": null,
      "outputs": [
        {
          "output_type": "stream",
          "name": "stdout",
          "text": [
            "+---------------------------+------------+---------------+\n",
            "|           module          | num_params | requires_grad |\n",
            "+---------------------------+------------+---------------+\n",
            "|   token_embedding.weight  |   997920   |      True     |\n",
            "| position_embedding.weight |    600     |      True     |\n",
            "|      layer_norm.gain      |     30     |      True     |\n",
            "+---------------------------+------------+---------------+\n",
            "total trainable params: 1.00M\n"
          ]
        }
      ]
    },
    {
      "cell_type": "markdown",
      "source": [
        "---\n",
        "\n",
        "<a name=\"sec4\"></a>\n",
        "### [4] Are \"Seagulls\" multi-headed beasts? <small>[↩︎](#outline)</small>\n",
        "\n",
        "> <font color=\"orange\">File to be modified: `seagull/nn/transformer/mha.py`.</font>\n",
        "\n",
        "Now that we have a way of capturing tokens and their positions, let us see how we can employ (scaled dot-product) causal self-attention mechanism to capture the interactions between tokens. Causal self-attention mechanism facilitates representation of a token at timestep $t$ as some weighted combination of preceding token representations (including itself) at or before timesteps $t$:\n",
        "\n",
        "<div align=\"center\"><br/>\n",
        "    <img src=\"https://i.imgur.com/y3zgwlJ.png\" width=550px/>\n",
        "<br/></div>\n",
        "\n",
        "A few things to unpack here: how are these \"weights\" computed, and how do we ensure only preceding tokens are part of the weighted average. As the name suggests, the weights are computed as the dot-product similarity between every pair of token representations in the sequence. To this end, the input embedding representations $\\in \\mathbb{R}^{L \\times d}$ of a length-$L$ sequence are mapped to $\\mathbb{R}^{L \\times 3d}$ using a linear transformation, which are then split into queries $Q \\in \\mathbb{R}^{L \\times d}$, keys $K \\in \\mathbb{R}^{L \\times d}$, and values $V \\in \\mathbb{R}^{L \\times d}$. Now self-attention is computed as:\n",
        "\n",
        "$$\n",
        "\\text{attention}(Q, K, V) = \\text{softmax}\\left(\\frac{QK^T}{\\sqrt{d}}\\right) V.\n",
        "$$\n",
        "\n",
        "Observe that the \"$QK^T/\\sqrt{d}$\" part is essentially the scaled (by $\\sqrt{d}$) dot-product between $Q$ and $K$, and measures the similarity between queries and keys. The $\\text{softmax}(\\cdot)$ operation enables normalization of weights in $(0, 1)$. These \"attention weights\" are then employed to form final representations as weighted combinations of values.\n",
        "\n",
        "Now that we understand how weights are obtained, we must ensure that our weighted combination doesn't include future tokens, i.e., token representation at timestep $t$ should __not__ include representations of any tokens appearing after timestep $t$. This can be achieved by simply masking out the upper triangular (excluding the main diagonal) portion of the attention matrix as shown in the figure above. (The mask is often referred to as \"causal\" mask.)\n",
        "\n",
        "One final note before we implement self-attention: in practice, transformer models employ _Multi-Head_ Attention (MHA), where the embedding is split across several heads and each head performs the above-describe attention mechanism on its part of the embedding. Simply put, at each head, the input embedding $\\in \\mathbb{R}^{d/H}$ for $H$ total heads. Once all the heads finish processing their respective portions, the final representations (also $\\in \\mathbb{R}^{d/H}$ at each head) are concatenated across all heads to form a $\\in \\mathbb{R}^{d}$ representation. The authors of the [original transformer model](https://arxiv.org/pdf/1706.03762.pdf) proposed the use of a simple linear transformation over the concatenated representation to capture long-range dependencies across heads.\n",
        "\n",
        "We've gone ahead and implemented the \"multi-head\" part of MHA; the steps detailed below instruct you on how to implement self-attention. Please note that this is one of those places where [`torch.einsum`](https://pytorch.org/docs/stable/generated/torch.einsum.html) and [`einops`](https://einops.rocks/) are extremely useful. Before proceeding, let us see how [masking](https://pytorch.org/docs/stable/generated/torch.Tensor.masked_fill_.html) and [broadcasting](https://pytorch.org/docs/stable/notes/broadcasting.html#broadcasting-semantics) apply in PyTorch—consider the case where we have an $L \\times L$ attention matrix, and we wish to mask padding tokens based a padding mask of length $L$:"
      ],
      "metadata": {
        "id": "1lo52KSpiRMZ"
      },
      "id": "1lo52KSpiRMZ"
    },
    {
      "cell_type": "code",
      "source": [
        "max_length = 5\n",
        "attention_matrix = torch.randn(max_length, max_length)\n",
        "print(f\"{colored('attention matrix:', attrs=['underline'])}\\n {attention_matrix}\\n {attention_matrix.shape}\")\n",
        "\n",
        "mask = torch.randint(0, 2, (max_length,))\n",
        "print(f\"{colored('padding mask:', attrs=['underline'])}\\n {mask}\\n {mask.shape}\")"
      ],
      "metadata": {
        "id": "pltzUSwQIEm5",
        "colab": {
          "base_uri": "https://localhost:8080/"
        },
        "outputId": "02ba4fa0-d589-4d02-ccd7-7eb5839bbe25"
      },
      "id": "pltzUSwQIEm5",
      "execution_count": null,
      "outputs": [
        {
          "output_type": "stream",
          "name": "stdout",
          "text": [
            "\u001b[4mattention matrix:\u001b[0m\u001b[0m\n",
            " tensor([[-0.7674,  0.3771,  2.0594,  0.1007, -0.3562],\n",
            "        [ 0.8446, -0.3227, -1.1394,  0.5661,  0.8841],\n",
            "        [-0.4021,  0.5379,  0.9830,  0.2618, -0.2973],\n",
            "        [ 0.4405,  0.2616, -1.2576, -0.8852, -0.5189],\n",
            "        [-0.6484,  0.4079, -0.7821,  0.8455,  0.2339]])\n",
            " torch.Size([5, 5])\n",
            "\u001b[4mpadding mask:\u001b[0m\u001b[0m\n",
            " tensor([0, 1, 0, 1, 0])\n",
            " torch.Size([5])\n"
          ]
        }
      ]
    },
    {
      "cell_type": "markdown",
      "source": [
        "Now we wish to \"[masked fill](https://pytorch.org/docs/stable/generated/torch.Tensor.masked_fill_.html)\" the attention matrix based on the padding mask. Good news is that PyTorch automatically broadcasts the mask from $L$-long tensor to $L \\times L$ by repeating the tensor along `dim=0`. Let's see this in action:"
      ],
      "metadata": {
        "id": "u31WT4c4JwUv"
      },
      "id": "u31WT4c4JwUv"
    },
    {
      "cell_type": "code",
      "source": [
        "expanded_mask = mask.unsqueeze(0).repeat((max_length, 1))\n",
        "masked_attention_matrix = attention_matrix.masked_fill(expanded_mask, float(\"-inf\"))\n",
        "print(f\"{colored('expanded padding mask:', attrs=['underline'])}\\n {expanded_mask}\\n {expanded_mask.shape}\\n\")\n",
        "print(f\"{colored('masked matrix w/ expanded mask:', attrs=['underline'])}\\n {masked_attention_matrix}\\n\")\n",
        "\n",
        "masked_attention_matrix = attention_matrix.masked_fill(mask, float(\"-inf\"))\n",
        "print(f\"{colored('masked matrix w/o expanded mask:', attrs=['underline'])}\\n {masked_attention_matrix}\")"
      ],
      "metadata": {
        "id": "-2YUedlrKYQj",
        "colab": {
          "base_uri": "https://localhost:8080/"
        },
        "outputId": "753b2428-81b8-44d4-d1b5-f2a9e5a8a7a2"
      },
      "id": "-2YUedlrKYQj",
      "execution_count": null,
      "outputs": [
        {
          "output_type": "stream",
          "name": "stdout",
          "text": [
            "\u001b[4mexpanded padding mask:\u001b[0m\u001b[0m\n",
            " tensor([[0, 1, 0, 1, 0],\n",
            "        [0, 1, 0, 1, 0],\n",
            "        [0, 1, 0, 1, 0],\n",
            "        [0, 1, 0, 1, 0],\n",
            "        [0, 1, 0, 1, 0]])\n",
            " torch.Size([5, 5])\n",
            "\n",
            "\u001b[4mmasked matrix w/ expanded mask:\u001b[0m\u001b[0m\n",
            " tensor([[-0.7674,    -inf,  2.0594,    -inf, -0.3562],\n",
            "        [ 0.8446,    -inf, -1.1394,    -inf,  0.8841],\n",
            "        [-0.4021,    -inf,  0.9830,    -inf, -0.2973],\n",
            "        [ 0.4405,    -inf, -1.2576,    -inf, -0.5189],\n",
            "        [-0.6484,    -inf, -0.7821,    -inf,  0.2339]])\n",
            "\n",
            "\u001b[4mmasked matrix w/o expanded mask:\u001b[0m\u001b[0m\n",
            " tensor([[-0.7674,    -inf,  2.0594,    -inf, -0.3562],\n",
            "        [ 0.8446,    -inf, -1.1394,    -inf,  0.8841],\n",
            "        [-0.4021,    -inf,  0.9830,    -inf, -0.2973],\n",
            "        [ 0.4405,    -inf, -1.2576,    -inf, -0.5189],\n",
            "        [-0.6484,    -inf, -0.7821,    -inf,  0.2339]])\n"
          ]
        }
      ]
    },
    {
      "cell_type": "code",
      "source": [
        "a = torch.randn(2, 5, 5)\n",
        "a.masked_fill(torch.tensor([[0, 0, 1, 1, 1], [1,1, 0, 0,0]]).unsqueeze(-2), float(\"-inf\"))"
      ],
      "metadata": {
        "id": "EMLZ9kFsOozf",
        "colab": {
          "base_uri": "https://localhost:8080/"
        },
        "outputId": "92736dcd-0069-42e0-eb02-16a92a415576"
      },
      "id": "EMLZ9kFsOozf",
      "execution_count": null,
      "outputs": [
        {
          "output_type": "execute_result",
          "data": {
            "text/plain": [
              "tensor([[[-1.5442, -1.7123,    -inf,    -inf,    -inf],\n",
              "         [-1.0514,  0.5795,    -inf,    -inf,    -inf],\n",
              "         [-0.8863,  0.4239,    -inf,    -inf,    -inf],\n",
              "         [ 0.3167, -0.5094,    -inf,    -inf,    -inf],\n",
              "         [-0.7587, -1.7571,    -inf,    -inf,    -inf]],\n",
              "\n",
              "        [[   -inf,    -inf, -0.6886, -0.9798, -0.1815],\n",
              "         [   -inf,    -inf,  0.3292, -0.8620, -1.6935],\n",
              "         [   -inf,    -inf,  0.0372,  0.4389, -1.5199],\n",
              "         [   -inf,    -inf,  1.4813,  0.2728,  0.3289],\n",
              "         [   -inf,    -inf, -1.4738,  1.5905, -0.1560]]])"
            ]
          },
          "metadata": {},
          "execution_count": 32
        }
      ]
    },
    {
      "cell_type": "markdown",
      "source": [
        "Now let's implement the self-attention part, i.e., $\\text{attention}(Q, K, V)$ function. We'll do this in two steps; first, let's compute $\\text{softmax}(QK^T/\\sqrt{d})$ in `masked_attention_probs()` corresponding to <font color=\"orange\">`TODO-4.1`</font>:\n",
        "* given queries $Q$ and keys $K$, both of shape `(batch_size, num_heads, max_length, head_dim)`, we wish to first compute `similarities` as $QK^T/\\sqrt{d}$ of shape `(batch_size, num_heads, max_length, max_length)`,\n",
        "* next, we will set the attention scores corresponding to pad tokens as indicated by padding mask to a really large negative value (e.g., `float(\"-inf\")`): the `padding_mask` is of shape `(batch_size, max_length)`; if we can _somehow_ get the padding mask into `(batch_size, 1, 1, max_length)`, then we can use [`masked_fill`](https://pytorch.org/docs/stable/generated/torch.Tensor.masked_fill.html) without worrying about broadcasting,\n",
        "* now, to enable autoregressive modeling, let us mask out the upper-triangular part (excluding the main diagonal) of the attention matrix: we provide a helper `self._apply_causal_mask()` method within `MultiHeadAttention` class to handle causal masking, and\n",
        "* finally, let's softmax the attention matrix along the keys dimension; use the `softmax` implementation provided in `seagull.nn.modules.utils.activations` (already imported): the `softmax` function takes in the `dropout_proba` and a flag to indicate if the model is being trained—you can pass `self.attn_dropout_proba` for `dropout_proba` and `self.training` as the `training` flag.\n",
        "\n",
        "> __Note.__ The output from `masked_attention_probs()` must be `(batch_size, num_heads, max_length, max_length)`—does not include any embedding dimension.\n",
        "\n",
        "Upon completion, go to the `attention()` function below and complete <font color=\"orange\">`TODO-4.2`</font>: the `attention()` function takes in the masked attention probabilities returned by `masked_attention_probs()` and (matrix-)multiplies it with $V$ of shape `(batch_size, num_heads, max_length, head_dim)`, resulting in an output of shape `(batch_size, num_heads, max_length, head_dim)`.\n",
        "\n",
        "> __Observation.__ One important observation before moving on, notice the output from the `forward()` function of `MultiHeadAttention` is a tuple of the output from the module and the masked attention probabilities from the `masked_attention_probs()` funtion.\n",
        "\n",
        "With `TODO-4.2` implemented, we've completely implemented $\\text{attention}(Q, K, V)$ function described earlier. Proceed to run the cell below to ensure that the tensor shapes line up appropriately."
      ],
      "metadata": {
        "id": "_prpXgHW_F2u"
      },
      "id": "_prpXgHW_F2u"
    },
    {
      "cell_type": "code",
      "source": [
        "batch_size, max_length, embedding_dim = 64, 128, 768\n",
        "num_heads = 12  # embedding_dim must be divisible by num_heads\n",
        "test_mha = MultiHeadAttention(embedding_dim=embedding_dim, num_heads=num_heads, attn_dropout_proba=0.1)\n",
        "test_mha.print_params()\n",
        "\n",
        "test_embeddings = torch.randn(batch_size, max_length, embedding_dim)\n",
        "start_time = process_time()\n",
        "mha_output, attn_probs = test_mha(test_embeddings)\n",
        "print(f\"MHA took: {process_time() - start_time} secs\")\n",
        "assert mha_output.shape == test_embeddings.shape"
      ],
      "metadata": {
        "id": "4rQGtJLLTQHc",
        "colab": {
          "base_uri": "https://localhost:8080/"
        },
        "outputId": "bacdccf0-2341-46b1-e63f-e5bfce3c46e3"
      },
      "id": "4rQGtJLLTQHc",
      "execution_count": null,
      "outputs": [
        {
          "output_type": "stream",
          "name": "stdout",
          "text": [
            "+-------------------------+------------+---------------+\n",
            "|          module         | num_params | requires_grad |\n",
            "+-------------------------+------------+---------------+\n",
            "|   qkv_transform.weight  |  1769472   |      True     |\n",
            "|    qkv_transform.bias   |    2304    |      True     |\n",
            "| output_transform.weight |   589824   |      True     |\n",
            "|  output_transform.bias  |    768     |      True     |\n",
            "+-------------------------+------------+---------------+\n",
            "total trainable params: 2.36M\n",
            "MHA took: 1.2262380870000023 secs\n"
          ]
        }
      ]
    },
    {
      "cell_type": "markdown",
      "source": [
        "One final test: given that we applied causal masking, the upper triangular portion of the attention matrix must be all zeros. Let's plot a random attention map and confirm that it's actually true."
      ],
      "metadata": {
        "id": "nYAThItyXiKK"
      },
      "id": "nYAThItyXiKK"
    },
    {
      "cell_type": "code",
      "source": [
        "# Plot the attention map corresponding to first head and first sequence.\n",
        "print(f\"{attn_probs.shape=}\")\n",
        "random_sample, random_head = random.randint(0, batch_size - 1), random.randint(0, num_heads - 1)\n",
        "\n",
        "heatmap = sns.heatmap(attn_probs.data[random_sample, random_head], square=True)\n",
        "plt.xlabel(\"key\")\n",
        "plt.ylabel(\"query\")\n",
        "plt.title(f\"{random_sample=}, {random_head=}\")\n",
        "plt.show()"
      ],
      "metadata": {
        "id": "hm9z_xXTXwP3",
        "colab": {
          "base_uri": "https://localhost:8080/",
          "height": 488
        },
        "outputId": "a1707ddd-1a96-4f2d-9331-b7b82a004b29"
      },
      "id": "hm9z_xXTXwP3",
      "execution_count": null,
      "outputs": [
        {
          "output_type": "stream",
          "name": "stdout",
          "text": [
            "attn_probs.shape=torch.Size([64, 12, 128, 128])\n"
          ]
        },
        {
          "output_type": "display_data",
          "data": {
            "text/plain": [
              "<Figure size 640x480 with 2 Axes>"
            ],
            "image/png": "[encoded data removed]"
          },
          "metadata": {
            "image/png": {
              "width": 506,
              "height": 454
            }
          }
        }
      ]
    },
    {
      "cell_type": "markdown",
      "source": [
        "---\n",
        "<font color=\"orange\">__Q4.__ While masking the attention matrix using the padding mask, we only mask the pad keys and not pad queries; take a moment to convince yourself that this is true. Why is it not needed to mask the pad queries? Would not padding queries have any unintended consequences? Explain in under three sentences; unclear or misleading arguments will receive no credit.<br/>\n",
        "\n",
        "_Hint. Think of how the cross-entropy loss is backpropagated from outputs to input tokens, specifically the pad token._\n",
        "</font>"
      ],
      "metadata": {
        "id": "0gLYqSFUMeBX"
      },
      "id": "0gLYqSFUMeBX"
    },
    {
      "cell_type": "markdown",
      "source": [
        "__Answer.__\n",
        "##### Masking pad queries is unnecessary because during the backpropagation of the cross-entropy loss, the gradient with respect to the pad queries will be multiplied by zero due to the masked positions. This is consistent with the fact that pad tokens in the target sequence do not contribute to the loss, and therefore, there are no unintended consequences in terms of the model's learning.\n",
        "---"
      ],
      "metadata": {
        "id": "Ht8a-nCiN67E"
      },
      "id": "Ht8a-nCiN67E"
    },
    {
      "cell_type": "markdown",
      "source": [
        "__A brief aside.__ Apart from autoregressive modeling, there is also masked language modeling, where a subset of all tokens in the sequence are masked randomly and a large language model learns to predict the masked token from the surrounding context. [Google BERT](https://arxiv.org/pdf/1810.04805.pdf) is one such model, and the employed attention is often referred to as \"bidirectional\" MHA. (The MHA we implemented is unidirectional.)"
      ],
      "metadata": {
        "id": "RWTz5PwIdRHw"
      },
      "id": "RWTz5PwIdRHw"
    },
    {
      "cell_type": "markdown",
      "source": [
        "---\n",
        "\n",
        "<a name=\"milestone\"></a>\n",
        "### [$\\ast$] Milestone submission <small>[↩︎](#outline)</small>\n",
        "\n",
        "Run the cell below to make a milestone submission. The `make_submission.py` command when run with `--milestone-submission` flag creates a `milestone_submission.zip` file in `hw4-fa23/artefacts` folder, which is to be submitted on the submission site(s).  <font color=\"red\">Caution: the script will overwrite any existing file named `milestone_submission.zip` in `hw4-fa23/artefacts` folder.</font>\n",
        "\n",
        "The `milestone_submission.zip` is all that you will need to submit for the milestone (no need to submit anything else!)."
      ],
      "metadata": {
        "id": "zXSeDVWnUrSA"
      },
      "id": "zXSeDVWnUrSA"
    },
    {
      "cell_type": "code",
      "source": [
        "submission_filepath = f\"{ARTEFACTS_DIR}\"\n",
        "\n",
        "!make_submission.py \\\n",
        "    --basepath-to-store-submission={os.path.join(ARTEFACTS_DIR, submission_filepath)} \\\n",
        "    --net-ids={net_ids} \\\n",
        "    --milestone-submission\n",
        "\n",
        "if os.path.isfile(f\"{os.path.join(ARTEFACTS_DIR, 'milestone_submission.zip')}\"):\n",
        "    display(success())\n",
        "else:\n",
        "    print(colored(\"Oops, something went wrong!\", \"red\"))"
      ],
      "metadata": {
        "id": "6qy89iBtc9Ee",
        "colab": {
          "base_uri": "https://localhost:8080/",
          "height": 316
        },
        "outputId": "59cb825d-b317-4fff-cdf0-a016d3492094"
      },
      "id": "6qy89iBtc9Ee",
      "execution_count": null,
      "outputs": [
        {
          "output_type": "stream",
          "name": "stdout",
          "text": [
            "submission stored at: /content/drive/MyDrive/CS4740/hw4-fa23/artefacts/milestone_submission.zip\n",
            "\u001b[92mSuccess!\n",
            "\u001b[0m"
          ]
        },
        {
          "output_type": "display_data",
          "data": {
            "text/plain": [
              "<IPython.core.display.HTML object>"
            ],
            "text/html": [
              "<video alt=\"success, happy puppy!\" width=\"400\" height=\"240\" controls autoplay=1>\n",
              "                <source src=\"https://openpuppies.com/mp4/bDYdPSV.mp4\" type=\"video/mp4\"/> \n",
              "            </video>"
            ]
          },
          "metadata": {}
        }
      ]
    },
    {
      "cell_type": "markdown",
      "source": [
        "---\n",
        "\n",
        "<a name=\"sec5\"></a>\n",
        "### [5] Pointwise feed-forward network <small>[↩︎](#outline)</small>\n",
        "\n",
        "> <font color=\"orange\">File to be modified: `seagull/nn/transformer/ffn.py`.</font>\n",
        "\n",
        "On the yellowbrick road to building our Seagull, the next step is to assemble the \"pointwise\" feed-forward network: pointwise because the feed-forward network is applied independently to each token in the sequence. As for why a feed-forward network is needed?: [recent research](https://arxiv.org/pdf/2305.13297.pdf) has shown that transformers without feed-forward blocks are shown to have high isometry [= all embeddings collapse to a single embedding].\n",
        "\n",
        "Following the [recent advances in modeling feed-forward nets for transformers](https://arxiv.org/pdf/2002.05202.pdf), We will implement our feed-forward net as a Gated Linear Unit with activation (usually [swish activation](https://paperswithcode.com/method/swish)), followed by a linear unit:\n",
        "\n",
        "<div align=\"center\"><br/>\n",
        "    <img src=\"https://i.imgur.com/5T73Ayn.png\" width=600px/>\n",
        "<br/></div>\n",
        "\n",
        "SwiGLU (the most-common variant of GLU) is as follows:\n",
        "$$\n",
        "\\begin{align*}\n",
        "\\text{swish}(x) &= x \\sigma(x), \\\\\n",
        "\\text{SwiGLU}(x, W, V, b, c) &= \\text{swish}(xW + b) \\otimes (xV + c),\n",
        "\\end{align*}\n",
        "$$\n",
        "\n",
        "where $W$ and $V$ are matrices of appropriate dimensions and $b$ and $c$ are the associated bias vectors. Now the complete feed-forward net is formulated as:\n",
        "\n",
        "$$\n",
        "\\text{FFN}_\\text{SwiGLU} = \\left(\\text{swish}(xW + b) \\otimes (xV + c)\\right) U + d,\n",
        "$$\n",
        "where $U$ is the weight matrix associated with the linear layer and $d$ is the corresponding bias vector. In transformers, the feed-forward layer is preceded or followed by a batch or layer normalization layer (we'll discuss the transformer stack in the [next section](#sec6)), resulting in zero-centered data; hence, it is often the case that $b$, $c$, and $d$ are set to be zero vectors, i.e., `bias = False`.\n",
        "\n",
        "GLU variants have been shown to achieve superior results on several language downstream tasks; as for why these architectures seem to work, here's a quote from the authors of GLU variants:\n",
        "> \"_We offer no explanation as to why these\n",
        "architectures seem to work; we attribute their success, as all else, to divine benevolence._\"\n",
        "\n",
        "Let's proceed to implement the `forward()` function of `FFN` class corresponding to <font color=\"orange\">`TODO-5`</font>: we have already initialized the GLU module under `self.glu` and a linear module under `self.linear`. This should be a straightforward \"forward\" implementation: pass `input_embeddings` of shape `(batch_size, max_length, embedding_dim)` through GLU, followed by the linear layer.\n",
        "\n",
        "Upon completion, run the following code cell to ensure that all the dimensions match up!"
      ],
      "metadata": {
        "id": "ajc6c0h-gapa"
      },
      "id": "ajc6c0h-gapa"
    },
    {
      "cell_type": "code",
      "source": [
        "batch_size, max_length = 64, 128  # change as needed\n",
        "embedding_dim, intermediate_dim = 768, 2048\n",
        "test_ffn = FFN(embedding_dim=embedding_dim, intermediate_dim=intermediate_dim, activation=\"swish\")\n",
        "test_ffn.print_params()\n",
        "\n",
        "test_embeddings = torch.randn(batch_size, max_length, embedding_dim)\n",
        "assert test_embeddings.shape == test_ffn(test_embeddings).shape"
      ],
      "metadata": {
        "id": "_liRk2tvgaKi"
      },
      "id": "_liRk2tvgaKi",
      "execution_count": null,
      "outputs": []
    },
    {
      "cell_type": "markdown",
      "source": [
        "---\n",
        "\n",
        "<a name=\"sec6\"></a>\n",
        "### [6] Assembling the Seagull! <small>[↩︎](#outline)</small>\n",
        "\n",
        "Okay, with the feed-forward layer implemented, we have all the components needed to assemble our Seagull. We'll build our Seagull in two stages: [assemble the transformer body, layer-by-layer](#sec61) and [add a language modeling head](#sec62).\n",
        "\n",
        "Before proceeding, let's understand what \"residual add\" means and how it's helpful. Deep neural nets often suffer from the problem of accuracy saturation, i.e., the neuron outputs move closer to the extremes of the activation function as we move through the layers. As a result, with a relatively deep [= smaller than the scale we're operating at!], the input signal to the $n$-th layer is closer to random noise. A way of handling this is via residual connections. A typical residual connection is as follows:\n",
        "\n",
        "<div align=\"center\"><br/>\n",
        "    <img src=\"https://i.imgur.com/q156hTq.png\" width=150px />\n",
        "<br/></div>\n",
        "\n",
        "Quite simple, isn't it? Residual connections have been vital in training deep neural nets, and they provide implicit regularization and shorter gradient paths [= fast runtimes]. A typical implementation of residual connection is shown below (followed by an example):"
      ],
      "metadata": {
        "id": "Uo5pNP17oQp-"
      },
      "id": "Uo5pNP17oQp-"
    },
    {
      "cell_type": "code",
      "source": [
        "def residual_add(x: torch.Tensor, module: torch.nn.Module) -> torch.Tensor:\n",
        "    return x + module(x)  # assuming `module(x)` is the same shape as `x`\n",
        "\n",
        "# Add a residual connection to the output of ReLU activation.\n",
        "x = torch.tensor([-1, -2, -3, -4, -5])\n",
        "residual_add(x, torch.nn.ReLU())"
      ],
      "metadata": {
        "id": "15e5kou44Pj6"
      },
      "id": "15e5kou44Pj6",
      "execution_count": null,
      "outputs": []
    },
    {
      "cell_type": "markdown",
      "source": [
        "<a name=\"sec61\"></a>\n",
        "#### [6.1] Building a single transformer layer <small>[↩︎](#outline)</small>\n",
        "\n",
        "> <font color=\"orange\">File to be modified: `seagull/model/components/transformer_layer.py`.</font>\n",
        "\n",
        "Now we can proceed to assemble our transformer layer. A single layer of transformer is as follows:\n",
        "\n",
        "<div align=\"center\"><br/>\n",
        "    <img src=\"https://i.imgur.com/V17XykP.png\" width=450px/>\n",
        "<br/></div>\n",
        "\n",
        "Among the existing transformer models, there are two ways of normalization:\n",
        "* the traditional post-norm: normalize after adding residual connections to MHA outputs or feed-forward outputs, or\n",
        "* normalize before passing the inputs to the MHA module or feed-forward module and then add the residual connection to the output of the module.\n",
        "\n",
        "While post-norm was the traditional normalization strategy in transformers, [research has indicated that pre-normalization facilitates \"nice\" behavior of gradients at initialization](https://arxiv.org/pdf/2002.04745.pdf). Our transformer layer will be more generic, in that we will treat the normalization strategy (`self.layer_norm_mode`) as an argument to the `TransformerLayer` layer class.\n",
        "\n",
        "Fill out the `forward()` function of `TransformerLayer` corresponding to <font color=\"orange\">`TODO-6.1`</font> as described in the above figure. The stack would be as follows:\n",
        "\n",
        "```python\n",
        "self.maybe_apply_layer_norm(..., current_layer_norm_application=\"pre\")   # MHA \"pre\"\n",
        "self.mha(..., use_kv_cache=use_kv_cache)\n",
        "# TODO: perform appropriate \"residual add\".\n",
        "self.maybe_apply_layer_norm(..., current_layer_norm_application=\"post\")  # MHA \"post\"\n",
        "\n",
        "self.maybe_apply_layer_norm(..., current_layer_norm_application=\"pre\")   # FFN \"pre\"\n",
        "self.ffn(...)\n",
        "# TODO: perform appropriate \"residual add\".\n",
        "self.maybe_apply_layer_norm(..., current_layer_norm_application=\"post\")  # FFN \"post\"\n",
        "```\n",
        "\n",
        "A few important things to note from the above stack:\n",
        "* observe how `current_layer_norm_application` argument of `self.maybe_apply_layer_norm()` changes,\n",
        "* be sure to pass `use_kv_cache` argument while calling `self.mha`; without getting into specifics, [KV cache](https://kipp.ly/transformer-inference-arithmetic/) is a common optimization trick employed by several (recent) large language models to facilitate fast decoding at inference time.\n",
        "\n",
        "> __A tip from the impending future!__ We \"reveal\" in [section 7](#sec7) the final Seagull model configuration involves using a pre-norm (as opposed to a post-norm). So, if you're crunched for time, ignore the \"post-norm\" components in the above figure.\n",
        ">\n",
        "> That said, we expect you to enable the full functionality of `TransformerLayer.forward()` (as described above) before the final submission.\n",
        "\n",
        "As noted earlier in the [section on multi-head attention](#sec4), the `forward()` function of MHA returns a tuple of output from the attention layer and masked attention probabilities. The masked attention probabilities can be extremely helpful in understanding how the model thinks!—to this end, the `forward()` function of `TransformerLayer` must return a tuple of layer output (the output of the stack) and the masked attention probabilities, __in that order__.\n",
        "\n",
        "> __Observation.__ You may have realized this: the input to any layer in the transformer stack is `(batch_size, max_length, embedding_dim)` and the output of that layer is _also_ `(batch_size, max_length, embedding_dim)`!\n",
        "\n",
        "Once you've completed `TODO-6.1`, run the cell below to ensure everything runs as expected."
      ],
      "metadata": {
        "id": "iEU5xHen3pqt"
      },
      "id": "iEU5xHen3pqt"
    },
    {
      "cell_type": "code",
      "source": [
        "# Change the following hyperparams as needed.\n",
        "batch_size, max_length = 64, 128\n",
        "embedding_dim, intermediate_dim = 768, 2048\n",
        "num_heads = 12\n",
        "layer_norm_mode = \"pre\"\n",
        "\n",
        "test_layer = TransformerLayer(\n",
        "    embedding_dim=embedding_dim,\n",
        "    intermediate_dim=intermediate_dim,\n",
        "    max_positions=max_length,\n",
        "    num_heads=num_heads,\n",
        "    layer_norm_mode=layer_norm_mode,\n",
        ")\n",
        "# Observe the number of params in a single layer; this count doesn't include embedding.\n",
        "test_layer.print_params()\n",
        "\n",
        "test_embeddings = torch.randn(batch_size, max_length, embedding_dim)\n",
        "assert test_embeddings.shape == test_layer(test_embeddings)[0].shape"
      ],
      "metadata": {
        "id": "JL25x8Wb42vo"
      },
      "id": "JL25x8Wb42vo",
      "execution_count": null,
      "outputs": []
    },
    {
      "cell_type": "markdown",
      "source": [
        "Okay, now that you've implemented a single transformer layer, we can stack $N$ such `TransformerLayer`s to form our Seagull: we provide the complete Seagull transformer at: `seagull/model/seagull_transformer.py`. Take a moment to go through the `Seagull` class in `seagull_transformer.py` file; specifically the `forward()` function. Here's the complete Seagull transformer:\n",
        "\n",
        "<div align=\"center\"><br/>\n",
        "    <img src=\"https://i.imgur.com/SalOV6n.png\" width=800px/>\n",
        "<br/></div>\n",
        "\n",
        "The `Seagull` takes `input_ids` (and `position_ids`, `padding_mask`) of shape: `(batch_size, max_length)` and:\n",
        "* computes token and possibly (depending on if we're using RoPE encodings or not) position embeddings,\n",
        "* passes the embeddings through $N$ transformer layers, each with a multi-head attention module and pointwise feed-forward net, and\n",
        "* finally returns embeddings of shape `(batch_size, max_length, embedding_dim)` and associated attention probabilities of shape `(batch_size, num_heads, max_length, max_length)`.\n",
        "\n",
        "As a final note, pay attention to the flags in the `forward()` function arguments: `return_output_at_all_layers` and `return_attentions`—what functionality do these flags offer? Let's create a \"sample\" Seagull to inspect the whole model architecture:\n",
        "\n"
      ],
      "metadata": {
        "id": "tsTUpdDHN9VN"
      },
      "id": "tsTUpdDHN9VN"
    },
    {
      "cell_type": "code",
      "source": [
        "# Change the following hyperparams as needed.\n",
        "vocab_size = 3000\n",
        "batch_size, max_length = 32, 128\n",
        "embedding_dim, intermediate_dim = 768, 1024\n",
        "num_heads = 12\n",
        "num_layers = 3\n",
        "layer_norm_mode = \"pre\"\n",
        "\n",
        "test_model = Seagull(\n",
        "    vocab_size=vocab_size,\n",
        "    embedding_dim=embedding_dim,\n",
        "    intermediate_dim=intermediate_dim,\n",
        "    max_positions=max_length,\n",
        "    num_heads=num_heads,\n",
        "    num_layers=num_layers,\n",
        "    layer_norm_mode=layer_norm_mode,\n",
        ")\n",
        "test_model.print_params()\n",
        "\n",
        "test_input_ids = torch.randint(0, vocab_size, (batch_size, max_length))\n",
        "test_outputs = test_model(test_input_ids, return_output_at_all_layers=False)[0]\n",
        "assert test_outputs.shape == (batch_size, max_length, embedding_dim)"
      ],
      "metadata": {
        "id": "VYeMUWjJduCw"
      },
      "id": "VYeMUWjJduCw",
      "execution_count": null,
      "outputs": []
    },
    {
      "cell_type": "markdown",
      "source": [
        "<a name=\"sec62\"></a>\n",
        "#### [6.2] Final touches: Adding a language modeling head <small>[↩︎](#outline)</small>\n",
        "\n",
        "> <font color=\"orange\">File to be modified: `seagull/model/heads/seagull_lm.py`.</font>\n",
        "\n",
        "We now have a Seagull transformer that generates causal, contextual embeddings for the tokens in a given input sequence. Given the autoregressive modeling task of predicting the next token, the only part left now is to transform the output embeddings into tokens—this is what is often referred to adding a (language modeling) transformer head.\n",
        "\n",
        "Note: apart from the language modeling head of the SeagullLM transformer (Seagull with a language modeling head), there's nothing tying the transformer model to a specific task—language modeling, next sentence prediction, question/answering, etc. can all be performed by simply swapping out the transformer head with a suitable one, involving finetuning the head (and body, when layers are not frozen), while retaining the benefits of the pretrained transformer body. The unparalleled success of transformer models on numerous language tasks stems from this very property of adaptability, i.e., [these models are multitask learners](https://d4mucfpksywv.cloudfront.net/better-language-models/language_models_are_unsupervised_multitask_learners.pdf)!\n",
        "\n",
        "Back to our language modeling task, we need to transform the output embeddings output from our Seagull transformer into tokens. A standard way of doing this is to use a projection from embedding dimension on to the vocabulary (we've seen this in HW3). While this is convenient, it adds more trainable parameters to an already large model. A quick observation here: the transformer has a token embedding layer that converts `input_ids` to `token_embeddings`; what if we used the transposed weights of the token embedding layer to retrieve the distribution of possibly associated `input_ids`? This idea of sharing weights across embedding and softmax layers is what is often referred to as \"[weight tying](https://paperswithcode.com/method/weight-tying),\" and is the common practice is most (large) language models.\n",
        "\n",
        "Now let's proceed to implement <font color=\"orange\">`TODO-6.2`</font> in the `forward()` function of `SeagullLM`:\n",
        "* obtain the output embeddings of the _final_ `TransformerLayer` (discard attention probabilities) by invoking the Seagull using `input_ids`, `position_ids` `padding_mask`, `use_kv_cache`, `return_output_at_all_layers`, and `return_attentions`; be sure to pass in all the arguments—there are several optimizations and tricks at play (e.g, KV cache), and they expect all the involved variables to be set properly,\n",
        "* check if `self.weight_tying` is set to `True`, in which case use the token embedding weights, accessible via `self.seagull.embedding.token_embedding.weight.data`, to project from embedding dimension to the vocabulary; this is simply a matrix multiplication with the transposed weights! [= logits], and finally\n",
        "* return a tuple of logits and the complete output from obtained from invoking `self.seagull`.\n",
        "\n",
        "With that, we've pieced together the whole Seagull language model! Recalling our goals from before: we now have multi-head attention and positional embeddings (or RoPE encodings) to capture the essence of \"an evolving hidden state\" in a recurrent net, and causal masking to ensure autoregressive modeling. In the next section, we will finetune our Seagull to understand humor.\n",
        "\n",
        "For now, upon code completion, run the cell below to assert that all the\n",
        "dimensions are as expected:\n",
        "\n",
        "\n",
        "\n"
      ],
      "metadata": {
        "id": "B_0yuLB4Lvz_"
      },
      "id": "B_0yuLB4Lvz_"
    },
    {
      "cell_type": "code",
      "source": [
        "# Change the following hyperparams as needed.\n",
        "vocab_size = 3000\n",
        "batch_size, max_length = 32, 128\n",
        "embedding_dim, intermediate_dim = 768, 1024\n",
        "num_heads = 12\n",
        "num_layers = 3\n",
        "layer_norm_mode = \"pre\"\n",
        "weight_tying = True\n",
        "\n",
        "test_lm = SeagullLM(\n",
        "    vocab_size=vocab_size,\n",
        "    embedding_dim=embedding_dim,\n",
        "    intermediate_dim=intermediate_dim,\n",
        "    max_positions=max_length,\n",
        "    num_heads=num_heads,\n",
        "    num_layers=num_layers,\n",
        "    layer_norm_mode=layer_norm_mode,\n",
        "    weight_tying=weight_tying,\n",
        ")\n",
        "print(f\"note: with {weight_tying=}, {'no ' if weight_tying else ''}`lm_head` is created in the model!\")\n",
        "test_lm.print_params()\n",
        "\n",
        "test_input_ids = torch.randint(0, vocab_size, (batch_size, max_length))\n",
        "test_outputs = test_lm(test_input_ids, return_output_at_all_layers=False)[0]\n",
        "assert test_outputs.shape == (batch_size, max_length, vocab_size)"
      ],
      "metadata": {
        "id": "-7GSS-ADy1Oi"
      },
      "id": "-7GSS-ADy1Oi",
      "execution_count": null,
      "outputs": []
    },
    {
      "cell_type": "markdown",
      "source": [
        "---\n",
        "<font color=\"orange\">__Q6.2.__ Explain how the training/validation differs from test inference. At inference time, can we benefit from the parallel processing abilities of our Seagull transformer model, i.e., pass all inputs at once and retrieve the associated outputs in one go? (Answer in no more than three sentences in total.) <br/>\n",
        "\n",
        "_Hint. What property of autoregressive language modeling (predicting next token) may/may not affect how the test inference is run._\n",
        "</font>"
      ],
      "metadata": {
        "id": "w1azbok7z9xz"
      },
      "id": "w1azbok7z9xz"
    },
    {
      "cell_type": "markdown",
      "source": [
        "__Answer.__\n",
        "\n",
        "---"
      ],
      "metadata": {
        "id": "7jun3yyx0bhb"
      },
      "id": "7jun3yyx0bhb"
    },
    {
      "cell_type": "markdown",
      "source": [
        "Before proceeding to finetuning and generating possibly humorous captions, we'd like to draw your attention to the `talk()` function in the `SeagullLM` class, which offers random (with temperature) and top-$k$ decoding strategies. The function allows for our Seagull model to \"speak\": given a tensor of `input_ids`, the model produces up to `max_new_tokens` number of tokens that the model thinks is a likely continuation of the ongoing sequence (based on the context from the input `input_ids`).\n",
        "\n",
        "The way the model speaks is significantly influenced by the `temperature` and `top_k` settings. As a thought exercise:\n",
        "* Does the model generate less/more diverse samples when the temperature is high (say, 47.40)? What happens when the temperature is low (e.g., 0.1)?\n",
        "* What unintended consequences can the model's generative abilities have if the chosen $k$ in top-$k$ is too large?\n",
        "\n",
        "To understand more about the state-of-the-art decoding strategies, we strongly recommend reading: [The Curious Case of Neural Text Degeneration](https://arxiv.org/pdf/1904.09751.pdf) by Ari Holtzman, Jan Buys, Li Du, Maxwell Forbes, and Yejin Choi."
      ],
      "metadata": {
        "id": "Xf8dfRcv3wBm"
      },
      "id": "Xf8dfRcv3wBm"
    },
    {
      "cell_type": "markdown",
      "source": [
        "---\n",
        "<a name=\"sec7\"></a>\n",
        "### [7] Hey Seagull, tell me a joke! <small>[↩︎](#outline)</small>\n",
        "\n",
        "With all components of our Seagull assembled, we can finally train/finetune our Seagull model to understand contextual humor, i.e., generate humorous captions for a given scene and uncanny description. Though empirical evaluation and evidence from past works (including PALM, LLaMA-2, MAMBA, Transformer++, etc.), we finalized the Seagull model configuration as follows:\n",
        "* an embedding dimension of 768, divisible by 12, the number of heads,\n",
        "* RoPE rotary encodings, instead of learned (or even absolute) positional embeddings,\n",
        "* pre-normalization using RMS norm, as opposed to post-normalization using `nn.LayerNorm`, and\n",
        "* the feed-forward net with: swish activation with GLU (SwiGLU) and a linear projection with intermediate dimension of 2,048, instead of two linear layers with intermediate dimension of 3,072.\n",
        "\n",
        "The resultant Seagull transformer with 110.53 million trainable parameters\n",
        "(for comparison: GPT-2 small has 117 million parameters) is shown below (for other model config information, please view `scripts/configs/train_model.yml`):\n",
        "\n",
        "<div align=\"center\"><br/>\n",
        "    <img src=\"https://i.imgur.com/3bJ3V7D.png\", width=800px/>\n",
        "<br/></div>\n",
        "\n",
        "We then pretrained the Seagull transformer on autoregressive language modeling using `torch.optim.AdamW` and a cosine learning rate scheduler (more information in `scripts/configs/train_model.yml`) to minimize unweighted cross-entropy loss on (_in the order of pretraining_; each time resetting the optimizer/scheduler state):\n",
        "* [Wikitext-103 (for 16 epochs)](https://paperswithcode.com/dataset/wikitext-103): `pretrained_artefacts/model/wikitext103_epochs=16_model.pt`,\n",
        "* [Reddit Clean (for 21 epochs)](https://huggingface.co/datasets/SophieTr/reddit_clean): `pretrained_artefacts/model/reddit_epochs=21_model.pt`,\n",
        "* [English Wikipedia dumps (for 11 epochs)](https://huggingface.co/datasets/wikipedia), sampled: `pretrained_artefacts/model/wikipedia_epochs=11_model.pt`,\n",
        "* [ColBERT short texts for humor (for 11 epochs)](https://ieee-dataport.org/documents/colbert-dataset-200k-short-texts-humor-detection): `pretrained_artefacts/model/colbert_humor_epochs=11_model.pt` and,\n",
        "* [OpenWebText (for 11 epochs)](), sampled: `pretrained_artefacts/model/openwebtext_epochs=11_model.pt`\n",
        "\n",
        "You're free to use any of the above pretrained models to finetune your Seagull model for the task of generating humorous captions; that said, we strongly recommend using the OpenWebText pretrained model: `openwebtext_epochs=11_model.pt`, since that is the final model in the pretraining cycle.\n",
        "\n",
        "We will mainly use the auxiliary script: `train_model.py` to finetune the model; you should familiarize yourself with the arguments to these commands.\n",
        "\n",
        "> __Logging.__ We now offer [Weights & Biases](https://wandb.ai/site) logging support for the ease of experimental tracking; if you're familiar with the platform and/or wish to explore, please use the `--wandb-entity-name` argument with `train_model.py`.\n",
        "\n",
        "If you wish to install wandb for your experiments, please run the cell below (skip otherwise)."
      ],
      "metadata": {
        "id": "10R8A88c7_z6"
      },
      "id": "10R8A88c7_z6"
    },
    {
      "cell_type": "code",
      "source": [
        "pip_install(\"wandb\")"
      ],
      "metadata": {
        "id": "_riLqxyCBLt_"
      },
      "id": "_riLqxyCBLt_",
      "execution_count": null,
      "outputs": []
    },
    {
      "cell_type": "markdown",
      "source": [
        "<a name=\"sec71\"></a>\n",
        "#### [7.1] Random Seagulls vs. pretrained Seagulls <small>[↩︎](#outline)</small>\n",
        "\n",
        "To understand the effect of pretraining, let us compare the generative capabilities of a randomly-initialized, untrained model with those of a pretrained model.\n",
        "\n",
        "To this end, we need to download the pretrained checkpoint from Git LFS (the files are not automatically downloaded to preserve storage space). We offer a `get_lfs_files()` utility function that can fetch the model files for specified filepaths.\n",
        "\n",
        "> __Note.__ Using `get_lfs_files()` downloads only a pointer file to the actual model file, which can get corrupted. Should that happen, please delete the model file from your drive and re-download it using `get_lfs_files()`. Alternatively, you can just download the file manually from GitHub (using the \"Download\" button) and upload it to Drive at `pretrained_artefacts/model`.\n",
        "\n",
        "Running `get_lfs_files()` takes about a minute to fetch a single pretrained model file."
      ],
      "metadata": {
        "id": "ENKK5z82nnW3"
      },
      "id": "ENKK5z82nnW3"
    },
    {
      "cell_type": "code",
      "source": [
        "# Change if you need a different pretrained model.\n",
        "pretrained_filename = \"openwebtext_epochs=11_model.pt\"\n",
        "get_lfs_files(filepaths=[f\"pretrained_artefacts/model/{pretrained_filename}\"])"
      ],
      "metadata": {
        "id": "RTqy9XYtz89z"
      },
      "id": "RTqy9XYtz89z",
      "execution_count": null,
      "outputs": []
    },
    {
      "cell_type": "markdown",
      "source": [
        "Let's initialize a new Seagull language model (`SeagullLM`; weights initialized using Xavier normal distribution: see `SeagullLM._init_weights`) using the pretrained model config."
      ],
      "metadata": {
        "id": "psWYnBFGudAa"
      },
      "id": "psWYnBFGudAa"
    },
    {
      "cell_type": "code",
      "source": [
        "bbpe_tokenizer = BBPETokenizer()\n",
        "bbpe_tokenizer.from_file(os.path.join(PRETRAINED_ARTEFACTS_DIR, \"tokenizer\"))\n",
        "print(bbpe_tokenizer)\n",
        "\n",
        "device = torch.device(\"cuda\") if torch.cuda.is_available() else torch.device(\"cpu\")\n",
        "with open(os.path.join(CONFIGS_DIR, \"train_model.yml\"), \"r\") as fp:\n",
        "    config = yaml.safe_load(fp)\n",
        "seagull_lm = SeagullLM(\n",
        "    vocab_size=bbpe_tokenizer.vocab_size,\n",
        "    padding_idx=bbpe_tokenizer.token2id(bbpe_tokenizer.pad_token),\n",
        "    **config[\"model\"],\n",
        ").to(device)\n",
        "\n",
        "seagull_lm.print_params()"
      ],
      "metadata": {
        "id": "3opPk4Paqfcz"
      },
      "id": "3opPk4Paqfcz",
      "execution_count": null,
      "outputs": []
    },
    {
      "cell_type": "markdown",
      "source": [
        "Now that we've initialized our \"random\" model, let's try to generate text continuations for some random input sequence using `SeagullLM.talk()` function introduced in the [previous section](#sec62); model-generated text is in <font color=\"blue\">blue</font>. (Please feel free to change the `prompt` or any associated generation parameters in the code cell below.)"
      ],
      "metadata": {
        "id": "ENioyJAWvZPp"
      },
      "id": "ENioyJAWvZPp"
    },
    {
      "cell_type": "code",
      "source": [
        "prompt = \"I was going to the store and\"\n",
        "\n",
        "max_new_tokens = 100\n",
        "num_samples = 3\n",
        "top_k = None\n",
        "temperature = 0.7"
      ],
      "metadata": {
        "id": "lEYLPCR3vfDw"
      },
      "id": "lEYLPCR3vfDw",
      "execution_count": null,
      "outputs": []
    },
    {
      "cell_type": "code",
      "source": [
        "make_seagull_talk(\n",
        "    model=seagull_lm,\n",
        "    bbpe_tokenizer=bbpe_tokenizer,\n",
        "    prompt=prompt,\n",
        "    max_new_tokens=max_new_tokens,\n",
        "    num_samples=num_samples,\n",
        "    temperature=temperature,\n",
        "    top_k=top_k,\n",
        ")"
      ],
      "metadata": {
        "id": "zY5tfWIHvXq1"
      },
      "id": "zY5tfWIHvXq1",
      "execution_count": null,
      "outputs": []
    },
    {
      "cell_type": "markdown",
      "source": [
        "Okay, clearly the generations are just random noise. Now let's load the pretrained model weights and see if the model's generative capabilities for the same input prompt differ (we expect them to be much better)."
      ],
      "metadata": {
        "id": "B9WOoee8yDXP"
      },
      "id": "B9WOoee8yDXP"
    },
    {
      "cell_type": "code",
      "source": [
        "seagull_lm.from_pretrained(model_filepath=os.path.join(PRETRAINED_ARTEFACTS_DIR, f\"model/{pretrained_filename}\"))\n",
        "print(f\"model weights loaded using: {colored(pretrained_filename, 'blue')}\")"
      ],
      "metadata": {
        "id": "Kd-bD4wvys2m"
      },
      "id": "Kd-bD4wvys2m",
      "execution_count": null,
      "outputs": []
    },
    {
      "cell_type": "code",
      "source": [
        "make_seagull_talk(\n",
        "    model=seagull_lm,\n",
        "    bbpe_tokenizer=bbpe_tokenizer,\n",
        "    prompt=prompt,\n",
        "    max_new_tokens=max_new_tokens,\n",
        "    num_samples=num_samples,\n",
        "    temperature=temperature,\n",
        "    top_k=top_k,\n",
        ")"
      ],
      "metadata": {
        "id": "euL-Q3Z9yDH0"
      },
      "id": "euL-Q3Z9yDH0",
      "execution_count": null,
      "outputs": []
    },
    {
      "cell_type": "markdown",
      "source": [
        "Clearly, the model's generative abilities have been drastically improved! This informs us that our pretrained model is capable of understanding language, but what about humor? Let's choose a random sample from our dataset and see if the model can generate a humorous caption. (Feel free to change the sample index below.)"
      ],
      "metadata": {
        "id": "mBpnRgOA0WM2"
      },
      "id": "mBpnRgOA0WM2"
    },
    {
      "cell_type": "code",
      "source": [
        "tokenized_dataset = datasets.load_from_disk(os.path.join(ARTEFACTS_DIR, \"dataset/tokenized_dataset\"))\n",
        "tokenized_dataset"
      ],
      "metadata": {
        "id": "kEWYoYdYwwY-"
      },
      "id": "kEWYoYdYwwY-",
      "execution_count": null,
      "outputs": []
    },
    {
      "cell_type": "code",
      "source": [
        "sample_idx = 100  # change as needed\n",
        "\n",
        "# Choose from the test set to ensure captions are not included.\n",
        "prompt = tokenized_dataset[\"test\"][sample_idx][\"text\"]\n",
        "print(\"\\n\".join(text_wrapper.wrap(prompt)))"
      ],
      "metadata": {
        "id": "RHwhozFL0V7C"
      },
      "id": "RHwhozFL0V7C",
      "execution_count": null,
      "outputs": []
    },
    {
      "cell_type": "code",
      "source": [
        "make_seagull_talk(\n",
        "    model=seagull_lm,\n",
        "    bbpe_tokenizer=bbpe_tokenizer,\n",
        "    prompt=prompt,\n",
        "    max_new_tokens=max_new_tokens,\n",
        "    num_samples=num_samples,\n",
        "    temperature=temperature,\n",
        "    top_k=top_k,\n",
        ")"
      ],
      "metadata": {
        "id": "_gWZNJ231nWB"
      },
      "id": "_gWZNJ231nWB",
      "execution_count": null,
      "outputs": []
    },
    {
      "cell_type": "markdown",
      "source": [
        "As expected, the model isn't picking up on the nature of the task, i.e., the objective of generating humorous captions; this could simply be because it is unlikely that the model is attuned to our template processing using control codes. Other than that, a few quick observations here:\n",
        "* the model doesn't generate `<|endoftext|>` token anywhere in the 100 new tokens (think why this is unsurprising)—this is a potential problem for us for two reasons: 1) our task is to generate relatively short captions, and 2) our model has a maximum context length of 128;\n",
        "* despite being trained on humor short texts, the model struggles with even understanding humor.\n",
        "\n",
        "In the next subsection, we will proceed to finetune the pretrained model on our captions dataset, and analyze the finetuned model's generative capabilities."
      ],
      "metadata": {
        "id": "loZMRpQO3Rwx"
      },
      "id": "loZMRpQO3Rwx"
    },
    {
      "cell_type": "markdown",
      "source": [
        "<a name=\"sec72\"></a>\n",
        "#### [7.2] Finetuning the Seagull to \"understand\" humor <small>[↩︎](#outline)</small>\n",
        "\n",
        "Let us use `train_model.py` script to finetune the pretrained model. Given that the model already seems to have adequate language generation abilities, in theory, it should be sufficient to finetune the pretrained model for just 1-2 epochs.\n",
        "\n",
        "__Additional notes.__ The optimizer and learning rate hyper-hyperparameters are in `scripts/configs/train_model.yml`, see keys: `optimizer/finetuning` and `lr_scheduler/finetuning` respectively; the training hyperparameters are in the same config file, see keys: `trainer/finetuning` and `train_and_eval/finetuning`. Feel free to experiment with any of these.\n",
        "\n",
        "> As noted earlier, you're free to specify your Weights & Biases entity name using `--wandb-entity-name`. And, if you wish to using distributed training, we support [DDP training](https://pytorch.org/tutorials/intermediate/ddp_tutorial.html); specify your backend using `--ddp-backend`.\n",
        "\n",
        "We provide a default setting of 16 batch size and 1 epoch for finetuning; feel free to adjust these as needed. Under this setting, it takes about ~22mins to finetune the model and ~3mins to run validation on a T4 (Colab-default) GPU."
      ],
      "metadata": {
        "id": "a6c_Y6nh6Efw"
      },
      "id": "a6c_Y6nh6Efw"
    },
    {
      "cell_type": "code",
      "source": [
        "# Adjust the following if and as needed.\n",
        "batch_size = 16\n",
        "num_epochs = 1\n",
        "\n",
        "# Change if you need a different pretrained model (available models noted in section 7).\n",
        "pretrained_filename = \"openwebtext_epochs=11_model.pt\"\n",
        "get_lfs_files(filepaths=[f\"pretrained_artefacts/model/{pretrained_filename}\"])\n",
        "print(f\"pretraining using: {colored(pretrained_filename, 'blue')}\")"
      ],
      "metadata": {
        "id": "Wz3PaHDl8z9J"
      },
      "id": "Wz3PaHDl8z9J",
      "execution_count": null,
      "outputs": []
    },
    {
      "cell_type": "markdown",
      "source": [
        "> __Tip.__ If your training process appears to be \"frozen\", this could be because the `num_workers` used in `DataLoader` are more than those offered by Colab. Try to change the value of `num_workers` from 4 → 2 (or even 1) in `scripts/configs/train_model.yml`."
      ],
      "metadata": {
        "id": "temoadNSpX5h"
      },
      "id": "temoadNSpX5h"
    },
    {
      "cell_type": "code",
      "source": [
        "pretrained_model_filepath = os.path.join(PRETRAINED_ARTEFACTS_DIR, f\"model/{pretrained_filename}\")\n",
        "experiment_name = f\"seagull_captions_batch-size={batch_size}_epochs={num_epochs}\"\n",
        "\n",
        "!train_model.py \\\n",
        "    --config-path={os.path.join(CONFIGS_DIR, \"train_model.yml\")} \\\n",
        "    --basepath-to-tokenized-dataset={os.path.join(ARTEFACTS_DIR, \"dataset/tokenized_dataset\")} \\\n",
        "    --tokenizer-basepath={os.path.join(PRETRAINED_ARTEFACTS_DIR, \"tokenizer\")} \\\n",
        "    --basepath-to-store-results={os.path.join(ARTEFACTS_DIR, \"experiments\")} \\\n",
        "    --batch-size={batch_size} \\\n",
        "    --num-epochs={num_epochs} \\\n",
        "    --pretrained-checkpoint-or-model-filepath={pretrained_model_filepath} \\\n",
        "    --experiment-name={experiment_name}"
      ],
      "metadata": {
        "id": "jM-yoSqY3Q0P"
      },
      "id": "jM-yoSqY3Q0P",
      "execution_count": null,
      "outputs": []
    },
    {
      "cell_type": "markdown",
      "source": [
        "Once the model finetuning completes running, load the best model (or the only model) based on the observed validation performance measured through loss or perplexity. Set the `best_epoch` below to reflect the epoch (zero-indexed) that resulted in the best model.\n",
        "\n",
        "> __Tip.__ Step and epoch-level metrics for both training/finetuning and validation, and model checkpoints are written to `hw4-fa23/artefacts/experiments/<experiment-name>`. Also, if you wish to continue finetuning from an already finetuned checkpoint, modify the value of `--pretrained-checkpoint-or-model-filepath` in the above command above accordingly."
      ],
      "metadata": {
        "id": "llvfgaqhOFds"
      },
      "id": "llvfgaqhOFds"
    },
    {
      "cell_type": "code",
      "source": [
        "# Change the best epoch value.\n",
        "best_epoch = 0"
      ],
      "metadata": {
        "id": "0xh55Bcvmvnc"
      },
      "id": "0xh55Bcvmvnc",
      "execution_count": null,
      "outputs": []
    },
    {
      "cell_type": "code",
      "source": [
        "bbpe_tokenizer = BBPETokenizer()\n",
        "bbpe_tokenizer.from_file(os.path.join(PRETRAINED_ARTEFACTS_DIR, \"tokenizer\"))\n",
        "\n",
        "checkpoint_path = f\"seagull_captions_batch-size={batch_size}_epochs={num_epochs}/checkpoints/checkpoint_{best_epoch}.ckpt\"\n",
        "print(f\"loading model from: {colored(checkpoint_path, 'blue')}\")\n",
        "\n",
        "device = torch.device(\"cuda\") if torch.cuda.is_available() else torch.device(\"cpu\")\n",
        "with open(os.path.join(CONFIGS_DIR, \"train_model.yml\"), \"r\") as fp:\n",
        "    config = yaml.safe_load(fp)\n",
        "seagull_lm = SeagullLM(\n",
        "    vocab_size=bbpe_tokenizer.vocab_size,\n",
        "    padding_idx=bbpe_tokenizer.token2id(bbpe_tokenizer.pad_token),\n",
        "    **config[\"model\"],\n",
        ").to(device)\n",
        "seagull_lm.from_pretrained_or_checkpoint(os.path.join(ARTEFACTS_DIR, f\"experiments/{checkpoint_path}\"))\n",
        "\n",
        "seagull_lm.print_params()"
      ],
      "metadata": {
        "id": "-MUy598om3Ke"
      },
      "id": "-MUy598om3Ke",
      "execution_count": null,
      "outputs": []
    },
    {
      "cell_type": "markdown",
      "source": [
        "Let's now check if the finetuned model has unlocked the superpower of contextual humor, in that, is the model now capable of generating humorous captions for a given scene and uncanny description.\n",
        "\n",
        "Same as before, let's load a random test sample and see how the model captions it. Change the `sample_idx` below to load a different sample and the cell below that stores the values for generation hyperparameters (e.g., `temperature`, `num_samples`), you're free to change those too."
      ],
      "metadata": {
        "id": "TMt8KGnfx_gL"
      },
      "id": "TMt8KGnfx_gL"
    },
    {
      "cell_type": "code",
      "source": [
        "sample_idx = 10  # change as needed\n",
        "\n",
        "# Choose from the test set to ensure captions are not included.\n",
        "prompt = tokenized_dataset[\"test\"][sample_idx][\"text\"]\n",
        "print(\"\\n\".join(text_wrapper.wrap(prompt)))"
      ],
      "metadata": {
        "id": "FoyMfYNSsYee"
      },
      "id": "FoyMfYNSsYee",
      "execution_count": null,
      "outputs": []
    },
    {
      "cell_type": "code",
      "source": [
        "max_new_tokens = 100\n",
        "num_samples = 3\n",
        "top_k = None\n",
        "temperature = 0.7"
      ],
      "metadata": {
        "id": "hxoXv1BvxRAK"
      },
      "id": "hxoXv1BvxRAK",
      "execution_count": null,
      "outputs": []
    },
    {
      "cell_type": "code",
      "source": [
        "make_seagull_talk(\n",
        "    model=seagull_lm,\n",
        "    bbpe_tokenizer=bbpe_tokenizer,\n",
        "    prompt=prompt,\n",
        "    max_new_tokens=max_new_tokens,\n",
        "    num_samples=num_samples,\n",
        "    temperature=temperature,\n",
        "    top_k=top_k,\n",
        ")"
      ],
      "metadata": {
        "id": "TiH8EpwVxK2H"
      },
      "id": "TiH8EpwVxK2H",
      "execution_count": null,
      "outputs": []
    },
    {
      "cell_type": "markdown",
      "source": [
        "Okay, has the model improved in its humor understanding? Is it able to generate context-specific, meaningful captions? We've also had the problem of the model not generating an `<|endofcaption|>` or `<|endoftext|>` token—has this been resolved with finetuning?\n",
        "\n",
        "> __Note.__ The function `make_seagull_talk()` stops generating further after the generation of an `<|endofcaption|>` token; so if the above captions appear to be shorter than the specified `max_new_tokens`, then the model has learned to associate captions as being short-length sequences ending in an `<|endofcaption|>` token."
      ],
      "metadata": {
        "id": "oheVSQvnx51_"
      },
      "id": "oheVSQvnx51_"
    },
    {
      "cell_type": "markdown",
      "source": [
        "---\n",
        "<font color=\"orange\">__Q7.2.__ Using your finetuned model, generate captions for some random test samples from the captions dataset and note down two/three of the most humorous ones below; format: scene, uncanny description, and the model-generated caption. (Maximum score: 2 points.) <br/>\n",
        "\n",
        "This question is intended to have you inspect the generative and humor understanding abilities of the model, and to understand the impact of generation hyperparameters (e.g., `temperature`, `top_k`) on the generation diversity/quality.\n",
        "</font>"
      ],
      "metadata": {
        "id": "UNo7Nkfs0K-p"
      },
      "id": "UNo7Nkfs0K-p"
    },
    {
      "cell_type": "markdown",
      "source": [
        "__Answer.__\n",
        "\n",
        "---"
      ],
      "metadata": {
        "id": "CsmK5pI-2Jyr"
      },
      "id": "CsmK5pI-2Jyr"
    },
    {
      "cell_type": "markdown",
      "source": [
        "<a name=\"sec73\"></a>\n",
        "#### [7.3] Notes on model evaluation <small>[↩︎](#outline)</small>\n",
        "\n",
        "The main motivation and goal of this assignment was to build your own transformer, a humorous one at that! To that end, your finetuned models are not evaluated on how well they score on the held out test set, but instead, we evaluate the model alignment between your finetuned version and ours!\n",
        "\n",
        "> We will be using the scoring module: `SeagullScorer` (see `utils/seagull_scorer.py`) in this assignment.\n",
        "\n",
        "So, what does it mean to measure model alignment between your finetuned model and our finetuned model? We expect both your finetuned model (if all is implemented as expected) and our finetuned model [= reference model] to \"learn\" similar things, given that both started off from the same checkpoint; we wish to quantify this.\n",
        "\n",
        "For a given scene and uncanny description, let your model-generated caption be $C_\\text{cand}$, and the true caption be $C_\\text{true}$. We then use our finetuned model, i.e., the reference model, to compute the ratio of log-likelihood [read: \"what's the probability\"] of generating $C_\\text{cand}$ to the log-likelihood of generating $C_\\text{true}$. Simply put:\n",
        "\n",
        "$$\n",
        "\\text{score}_{\\theta^\\ast}(C_\\text{cand}, C_\\text{true}) = \\frac{\\log(P(C_\\text{cand}))}{\\log(P(C_\\text{true}))},\n",
        "$$\n",
        "where $\\theta^\\ast$ is the reference model. One thing to note here: log probability is closer to 0 when the associated probability value is close to 1. And, if our model is more likely to generate $C_\\text{cand}$ than $C_\\text{true}$, then the model that generated $C_\\text{cand}$ (your finetuned model) is aligned with ours; this results in a score below 1. On the contrary, if our model is more likely to generate $C_\\text{true}$, then the score is above 1.\n",
        "\n",
        "For this task, <font color=\"red\">we expect your finetuned model to achieve a score below 0.70 on average</font>—you can your model's alignment by making a leaderboard submission (instructions [below](#final)). To account for generation diversity, we allow you to submit up to 8 caption candidates (each up to 100 `max_new_tokens`) per test sample, and we choose the minimum log probability across the submitted candidates.\n",
        "\n",
        "__Acknowledgments.__ This idea for measuing model alignment scores (instead of a more standard token-level perplexity) was a result of some late Friday napkin discussions between Tushaar Gangavarapu and Lillian Lee."
      ],
      "metadata": {
        "id": "KCVm_yY22eS-"
      },
      "id": "KCVm_yY22eS-"
    },
    {
      "cell_type": "markdown",
      "source": [
        "---\n",
        "\n",
        "<a name=\"final\"></a>\n",
        "### [$\\ast$] Final/leaderboard submission <small>[↩︎](#outline)</small>\n",
        "\n",
        "Yay! Now that we've successfully finetuned our Seagull to generate short, humorous captions, let's bundle everything that's needed to make a submission on the submission site(s).\n",
        "\n",
        "> __Leaderboard as a service.__ A private leaderboard will be made available and you will be able to measure your model's alignment scores; to do so, please run the `make_submission.py` script below with a `--leaderboard-submission` flag. (This step is optional.)\n",
        "\n",
        "Running the cell below generates a `hw4_submission.zip` file (or `leaderboard_submission.zip` file when `--leaderboard-submission` flag is passed) in `hw4-fa23/artefacts` folder. <font color=\"red\">Caution: the script will overwrite files with the same name existing in `hw4-fa23/artefacts` folder.</font>\n",
        "\n",
        "Before running the cells below, set the following parameters:\n",
        "* `best_epoch`: the model corresponding to this epoch will be used for text generation\n",
        "* `max_new_tokens`: maximum number of new tokens to be generated per test instance (the sample generation ends when the model encounters `<|endofcaption|>` special token) <font color=\"red\">← must be below 100</font>\n",
        "* `num_samples`: the maximum number of caption candidates to generate per test sample <font color=\"red\">← must be below 8</font>\n",
        "* `temperature` and `top_k`: generation hyperparameters <font color=\"blue\">← if you wish to set `top_k` to `None`, __remove__ the `--top-k` argument; argparse can't parse `None` arguments</font>\n",
        "\n",
        "For your final submission, you will need to submit the `hw4_submission.zip` __and a .pdf of this notebook file__ (or a separate file containing answers to your written questions; don't forget to attribute!) on the submission site(s). Note: this notebook will only be used to grade your answers to the written questions; you will not be graded on any code in this notebook file.\n",
        "\n",
        "> __Time check.__ The `make_submission.py` script takes ~14mins to run; while you wait, can you reason why test inference is taking ~14mins to process just 986 samples?"
      ],
      "metadata": {
        "id": "xfU1BLok2RvE"
      },
      "id": "xfU1BLok2RvE"
    },
    {
      "cell_type": "code",
      "source": [
        "# Set the best epoch.\n",
        "best_epoch = 0\n",
        "\n",
        "# Change values as needed.\n",
        "max_new_tokens = 30\n",
        "num_samples = 3\n",
        "temperature = 0.7\n",
        "top_k = 1000"
      ],
      "metadata": {
        "id": "SgyaPs-Eno9J"
      },
      "id": "SgyaPs-Eno9J",
      "execution_count": null,
      "outputs": []
    },
    {
      "cell_type": "code",
      "source": [
        "submission_filepath = f\"{ARTEFACTS_DIR}\"\n",
        "\n",
        "experiment_name = f\"experiments/seagull_captions_batch-size={batch_size}_epochs={num_epochs}\"\n",
        "config_filename = f\"{experiment_name}/config.json\"\n",
        "checkpoint_path = f\"{experiment_name}/checkpoints/checkpoint_{best_epoch}.ckpt\"\n",
        "print(f\"loading model from: {colored(checkpoint_path, 'blue')}\")\n",
        "\n",
        "!make_submission.py \\\n",
        "    --basepath-to-store-submission={os.path.join(ARTEFACTS_DIR, submission_filepath)} \\\n",
        "    --basepath-to-tokenized-dataset={os.path.join(ARTEFACTS_DIR, \"dataset/tokenized_dataset\")} \\\n",
        "    --tokenizer-basepath={os.path.join(PRETRAINED_ARTEFACTS_DIR, \"tokenizer\")} \\\n",
        "    --config-path={os.path.join(ARTEFACTS_DIR, config_filename)} \\\n",
        "    --pretrained-checkpoint-or-model-filepath={os.path.join(ARTEFACTS_DIR, checkpoint_path)} \\\n",
        "    --max-new-tokens={max_new_tokens} \\\n",
        "    --num-samples={num_samples} \\\n",
        "    --temperature={temperature} \\\n",
        "    --top-k={top_k} \\\n",
        "    --net-ids={net_ids}"
      ],
      "metadata": {
        "id": "EsuyRcYFd5li"
      },
      "id": "EsuyRcYFd5li",
      "execution_count": null,
      "outputs": []
    },
    {
      "cell_type": "code",
      "source": [],
      "metadata": {
        "id": "h-ru_r7Icj9m"
      },
      "id": "h-ru_r7Icj9m",
      "execution_count": null,
      "outputs": []
    }
  ],
  "metadata": {
    "kernelspec": {
      "display_name": "Python 3",
      "name": "python3"
    },
    "language_info": {
      "codemirror_mode": {
        "name": "ipython",
        "version": 3
      },
      "file_extension": ".py",
      "mimetype": "text/x-python",
      "name": "python",
      "nbconvert_exporter": "python",
      "pygments_lexer": "ipython3",
      "version": "3.11.5"
    },
    "colab": {
      "provenance": [],
      "gpuType": "T4",
      "include_colab_link": true
    },
    "accelerator": "GPU",
    "widgets": {
      "application/vnd.jupyter.widget-state+json": {
        "7ab01c61b8034f1d9e123f98c6b66944": {
          "model_module": "@jupyter-widgets/controls",
          "model_name": "HBoxModel",
          "model_module_version": "1.5.0",
          "state": {
            "_dom_classes": [],
            "_model_module": "@jupyter-widgets/controls",
            "_model_module_version": "1.5.0",
            "_model_name": "HBoxModel",
            "_view_count": null,
            "_view_module": "@jupyter-widgets/controls",
            "_view_module_version": "1.5.0",
            "_view_name": "HBoxView",
            "box_style": "",
            "children": [
              "IPY_MODEL_232247d6ea8d4bac9825a92affa48b4e",
              "IPY_MODEL_093365d6ee134bc2bcc265725a974617",
              "IPY_MODEL_f608f2f06b4e46c8ad633466f28beae7"
            ],
            "layout": "IPY_MODEL_da23d22818254ce1baf1e4befb47d8d0"
          }
        },
        "232247d6ea8d4bac9825a92affa48b4e": {
          "model_module": "@jupyter-widgets/controls",
          "model_name": "HTMLModel",
          "model_module_version": "1.5.0",
          "state": {
            "_dom_classes": [],
            "_model_module": "@jupyter-widgets/controls",
            "_model_module_version": "1.5.0",
            "_model_name": "HTMLModel",
            "_view_count": null,
            "_view_module": "@jupyter-widgets/controls",
            "_view_module_version": "1.5.0",
            "_view_name": "HTMLView",
            "description": "",
            "description_tooltip": null,
            "layout": "IPY_MODEL_e5fa7917d6894107a1aea8797eb4ee1e",
            "placeholder": "​",
            "style": "IPY_MODEL_adb985c00680401990d034606cf72cc7",
            "value": "Saving the dataset (1/1 shards): 100%"
          }
        },
        "093365d6ee134bc2bcc265725a974617": {
          "model_module": "@jupyter-widgets/controls",
          "model_name": "FloatProgressModel",
          "model_module_version": "1.5.0",
          "state": {
            "_dom_classes": [],
            "_model_module": "@jupyter-widgets/controls",
            "_model_module_version": "1.5.0",
            "_model_name": "FloatProgressModel",
            "_view_count": null,
            "_view_module": "@jupyter-widgets/controls",
            "_view_module_version": "1.5.0",
            "_view_name": "ProgressView",
            "bar_style": "success",
            "description": "",
            "description_tooltip": null,
            "layout": "IPY_MODEL_a4bd09b42ab245e3b2a5447a67ed46ad",
            "max": 79180,
            "min": 0,
            "orientation": "horizontal",
            "style": "IPY_MODEL_d0b6905c4c2f4c1db8edc7f476c55e0f",
            "value": 79180
          }
        },
        "f608f2f06b4e46c8ad633466f28beae7": {
          "model_module": "@jupyter-widgets/controls",
          "model_name": "HTMLModel",
          "model_module_version": "1.5.0",
          "state": {
            "_dom_classes": [],
            "_model_module": "@jupyter-widgets/controls",
            "_model_module_version": "1.5.0",
            "_model_name": "HTMLModel",
            "_view_count": null,
            "_view_module": "@jupyter-widgets/controls",
            "_view_module_version": "1.5.0",
            "_view_name": "HTMLView",
            "description": "",
            "description_tooltip": null,
            "layout": "IPY_MODEL_f31df5c6c8b14cb79694cb69826a2733",
            "placeholder": "​",
            "style": "IPY_MODEL_1f018815f526423eb6218624c0096acb",
            "value": " 79180/79180 [00:00&lt;00:00, 309754.11 examples/s]"
          }
        },
        "da23d22818254ce1baf1e4befb47d8d0": {
          "model_module": "@jupyter-widgets/base",
          "model_name": "LayoutModel",
          "model_module_version": "1.2.0",
          "state": {
            "_model_module": "@jupyter-widgets/base",
            "_model_module_version": "1.2.0",
            "_model_name": "LayoutModel",
            "_view_count": null,
            "_view_module": "@jupyter-widgets/base",
            "_view_module_version": "1.2.0",
            "_view_name": "LayoutView",
            "align_content": null,
            "align_items": null,
            "align_self": null,
            "border": null,
            "bottom": null,
            "display": null,
            "flex": null,
            "flex_flow": null,
            "grid_area": null,
            "grid_auto_columns": null,
            "grid_auto_flow": null,
            "grid_auto_rows": null,
            "grid_column": null,
            "grid_gap": null,
            "grid_row": null,
            "grid_template_areas": null,
            "grid_template_columns": null,
            "grid_template_rows": null,
            "height": null,
            "justify_content": null,
            "justify_items": null,
            "left": null,
            "margin": null,
            "max_height": null,
            "max_width": null,
            "min_height": null,
            "min_width": null,
            "object_fit": null,
            "object_position": null,
            "order": null,
            "overflow": null,
            "overflow_x": null,
            "overflow_y": null,
            "padding": null,
            "right": null,
            "top": null,
            "visibility": null,
            "width": null
          }
        },
        "e5fa7917d6894107a1aea8797eb4ee1e": {
          "model_module": "@jupyter-widgets/base",
          "model_name": "LayoutModel",
          "model_module_version": "1.2.0",
          "state": {
            "_model_module": "@jupyter-widgets/base",
            "_model_module_version": "1.2.0",
            "_model_name": "LayoutModel",
            "_view_count": null,
            "_view_module": "@jupyter-widgets/base",
            "_view_module_version": "1.2.0",
            "_view_name": "LayoutView",
            "align_content": null,
            "align_items": null,
            "align_self": null,
            "border": null,
            "bottom": null,
            "display": null,
            "flex": null,
            "flex_flow": null,
            "grid_area": null,
            "grid_auto_columns": null,
            "grid_auto_flow": null,
            "grid_auto_rows": null,
            "grid_column": null,
            "grid_gap": null,
            "grid_row": null,
            "grid_template_areas": null,
            "grid_template_columns": null,
            "grid_template_rows": null,
            "height": null,
            "justify_content": null,
            "justify_items": null,
            "left": null,
            "margin": null,
            "max_height": null,
            "max_width": null,
            "min_height": null,
            "min_width": null,
            "object_fit": null,
            "object_position": null,
            "order": null,
            "overflow": null,
            "overflow_x": null,
            "overflow_y": null,
            "padding": null,
            "right": null,
            "top": null,
            "visibility": null,
            "width": null
          }
        },
        "adb985c00680401990d034606cf72cc7": {
          "model_module": "@jupyter-widgets/controls",
          "model_name": "DescriptionStyleModel",
          "model_module_version": "1.5.0",
          "state": {
            "_model_module": "@jupyter-widgets/controls",
            "_model_module_version": "1.5.0",
            "_model_name": "DescriptionStyleModel",
            "_view_count": null,
            "_view_module": "@jupyter-widgets/base",
            "_view_module_version": "1.2.0",
            "_view_name": "StyleView",
            "description_width": ""
          }
        },
        "a4bd09b42ab245e3b2a5447a67ed46ad": {
          "model_module": "@jupyter-widgets/base",
          "model_name": "LayoutModel",
          "model_module_version": "1.2.0",
          "state": {
            "_model_module": "@jupyter-widgets/base",
            "_model_module_version": "1.2.0",
            "_model_name": "LayoutModel",
            "_view_count": null,
            "_view_module": "@jupyter-widgets/base",
            "_view_module_version": "1.2.0",
            "_view_name": "LayoutView",
            "align_content": null,
            "align_items": null,
            "align_self": null,
            "border": null,
            "bottom": null,
            "display": null,
            "flex": null,
            "flex_flow": null,
            "grid_area": null,
            "grid_auto_columns": null,
            "grid_auto_flow": null,
            "grid_auto_rows": null,
            "grid_column": null,
            "grid_gap": null,
            "grid_row": null,
            "grid_template_areas": null,
            "grid_template_columns": null,
            "grid_template_rows": null,
            "height": null,
            "justify_content": null,
            "justify_items": null,
            "left": null,
            "margin": null,
            "max_height": null,
            "max_width": null,
            "min_height": null,
            "min_width": null,
            "object_fit": null,
            "object_position": null,
            "order": null,
            "overflow": null,
            "overflow_x": null,
            "overflow_y": null,
            "padding": null,
            "right": null,
            "top": null,
            "visibility": null,
            "width": null
          }
        },
        "d0b6905c4c2f4c1db8edc7f476c55e0f": {
          "model_module": "@jupyter-widgets/controls",
          "model_name": "ProgressStyleModel",
          "model_module_version": "1.5.0",
          "state": {
            "_model_module": "@jupyter-widgets/controls",
            "_model_module_version": "1.5.0",
            "_model_name": "ProgressStyleModel",
            "_view_count": null,
            "_view_module": "@jupyter-widgets/base",
            "_view_module_version": "1.2.0",
            "_view_name": "StyleView",
            "bar_color": null,
            "description_width": ""
          }
        },
        "f31df5c6c8b14cb79694cb69826a2733": {
          "model_module": "@jupyter-widgets/base",
          "model_name": "LayoutModel",
          "model_module_version": "1.2.0",
          "state": {
            "_model_module": "@jupyter-widgets/base",
            "_model_module_version": "1.2.0",
            "_model_name": "LayoutModel",
            "_view_count": null,
            "_view_module": "@jupyter-widgets/base",
            "_view_module_version": "1.2.0",
            "_view_name": "LayoutView",
            "align_content": null,
            "align_items": null,
            "align_self": null,
            "border": null,
            "bottom": null,
            "display": null,
            "flex": null,
            "flex_flow": null,
            "grid_area": null,
            "grid_auto_columns": null,
            "grid_auto_flow": null,
            "grid_auto_rows": null,
            "grid_column": null,
            "grid_gap": null,
            "grid_row": null,
            "grid_template_areas": null,
            "grid_template_columns": null,
            "grid_template_rows": null,
            "height": null,
            "justify_content": null,
            "justify_items": null,
            "left": null,
            "margin": null,
            "max_height": null,
            "max_width": null,
            "min_height": null,
            "min_width": null,
            "object_fit": null,
            "object_position": null,
            "order": null,
            "overflow": null,
            "overflow_x": null,
            "overflow_y": null,
            "padding": null,
            "right": null,
            "top": null,
            "visibility": null,
            "width": null
          }
        },
        "1f018815f526423eb6218624c0096acb": {
          "model_module": "@jupyter-widgets/controls",
          "model_name": "DescriptionStyleModel",
          "model_module_version": "1.5.0",
          "state": {
            "_model_module": "@jupyter-widgets/controls",
            "_model_module_version": "1.5.0",
            "_model_name": "DescriptionStyleModel",
            "_view_count": null,
            "_view_module": "@jupyter-widgets/base",
            "_view_module_version": "1.2.0",
            "_view_name": "StyleView",
            "description_width": ""
          }
        },
        "8991d31d2ac8483e8e3a875482d5fb52": {
          "model_module": "@jupyter-widgets/controls",
          "model_name": "HBoxModel",
          "model_module_version": "1.5.0",
          "state": {
            "_dom_classes": [],
            "_model_module": "@jupyter-widgets/controls",
            "_model_module_version": "1.5.0",
            "_model_name": "HBoxModel",
            "_view_count": null,
            "_view_module": "@jupyter-widgets/controls",
            "_view_module_version": "1.5.0",
            "_view_name": "HBoxView",
            "box_style": "",
            "children": [
              "IPY_MODEL_c29bdde6d9964411b6181088ca64d8dd",
              "IPY_MODEL_9b373e743fd148acab1380cbf037955d",
              "IPY_MODEL_9509247a839b4aa8b501e920463e8ec5"
            ],
            "layout": "IPY_MODEL_c2aebb74fc4c4a7aad338672ea6c3d58"
          }
        },
        "c29bdde6d9964411b6181088ca64d8dd": {
          "model_module": "@jupyter-widgets/controls",
          "model_name": "HTMLModel",
          "model_module_version": "1.5.0",
          "state": {
            "_dom_classes": [],
            "_model_module": "@jupyter-widgets/controls",
            "_model_module_version": "1.5.0",
            "_model_name": "HTMLModel",
            "_view_count": null,
            "_view_module": "@jupyter-widgets/controls",
            "_view_module_version": "1.5.0",
            "_view_name": "HTMLView",
            "description": "",
            "description_tooltip": null,
            "layout": "IPY_MODEL_cd8d2829b9a644efa66e4cce303572e8",
            "placeholder": "​",
            "style": "IPY_MODEL_4de8db59241c439e947cafa28503bd71",
            "value": "Saving the dataset (1/1 shards): 100%"
          }
        },
        "9b373e743fd148acab1380cbf037955d": {
          "model_module": "@jupyter-widgets/controls",
          "model_name": "FloatProgressModel",
          "model_module_version": "1.5.0",
          "state": {
            "_dom_classes": [],
            "_model_module": "@jupyter-widgets/controls",
            "_model_module_version": "1.5.0",
            "_model_name": "FloatProgressModel",
            "_view_count": null,
            "_view_module": "@jupyter-widgets/controls",
            "_view_module_version": "1.5.0",
            "_view_name": "ProgressView",
            "bar_style": "success",
            "description": "",
            "description_tooltip": null,
            "layout": "IPY_MODEL_153f74bb89a84aaebe0cbbcf7e3eb107",
            "max": 10783,
            "min": 0,
            "orientation": "horizontal",
            "style": "IPY_MODEL_06f2a82cdfc5464a8939399a303091ab",
            "value": 10783
          }
        },
        "9509247a839b4aa8b501e920463e8ec5": {
          "model_module": "@jupyter-widgets/controls",
          "model_name": "HTMLModel",
          "model_module_version": "1.5.0",
          "state": {
            "_dom_classes": [],
            "_model_module": "@jupyter-widgets/controls",
            "_model_module_version": "1.5.0",
            "_model_name": "HTMLModel",
            "_view_count": null,
            "_view_module": "@jupyter-widgets/controls",
            "_view_module_version": "1.5.0",
            "_view_name": "HTMLView",
            "description": "",
            "description_tooltip": null,
            "layout": "IPY_MODEL_28532d80c2d54243928578752cee1829",
            "placeholder": "​",
            "style": "IPY_MODEL_50e3acc5ef7a4bf78355bc5ce131bc74",
            "value": " 10783/10783 [00:00&lt;00:00, 148197.40 examples/s]"
          }
        },
        "c2aebb74fc4c4a7aad338672ea6c3d58": {
          "model_module": "@jupyter-widgets/base",
          "model_name": "LayoutModel",
          "model_module_version": "1.2.0",
          "state": {
            "_model_module": "@jupyter-widgets/base",
            "_model_module_version": "1.2.0",
            "_model_name": "LayoutModel",
            "_view_count": null,
            "_view_module": "@jupyter-widgets/base",
            "_view_module_version": "1.2.0",
            "_view_name": "LayoutView",
            "align_content": null,
            "align_items": null,
            "align_self": null,
            "border": null,
            "bottom": null,
            "display": null,
            "flex": null,
            "flex_flow": null,
            "grid_area": null,
            "grid_auto_columns": null,
            "grid_auto_flow": null,
            "grid_auto_rows": null,
            "grid_column": null,
            "grid_gap": null,
            "grid_row": null,
            "grid_template_areas": null,
            "grid_template_columns": null,
            "grid_template_rows": null,
            "height": null,
            "justify_content": null,
            "justify_items": null,
            "left": null,
            "margin": null,
            "max_height": null,
            "max_width": null,
            "min_height": null,
            "min_width": null,
            "object_fit": null,
            "object_position": null,
            "order": null,
            "overflow": null,
            "overflow_x": null,
            "overflow_y": null,
            "padding": null,
            "right": null,
            "top": null,
            "visibility": null,
            "width": null
          }
        },
        "cd8d2829b9a644efa66e4cce303572e8": {
          "model_module": "@jupyter-widgets/base",
          "model_name": "LayoutModel",
          "model_module_version": "1.2.0",
          "state": {
            "_model_module": "@jupyter-widgets/base",
            "_model_module_version": "1.2.0",
            "_model_name": "LayoutModel",
            "_view_count": null,
            "_view_module": "@jupyter-widgets/base",
            "_view_module_version": "1.2.0",
            "_view_name": "LayoutView",
            "align_content": null,
            "align_items": null,
            "align_self": null,
            "border": null,
            "bottom": null,
            "display": null,
            "flex": null,
            "flex_flow": null,
            "grid_area": null,
            "grid_auto_columns": null,
            "grid_auto_flow": null,
            "grid_auto_rows": null,
            "grid_column": null,
            "grid_gap": null,
            "grid_row": null,
            "grid_template_areas": null,
            "grid_template_columns": null,
            "grid_template_rows": null,
            "height": null,
            "justify_content": null,
            "justify_items": null,
            "left": null,
            "margin": null,
            "max_height": null,
            "max_width": null,
            "min_height": null,
            "min_width": null,
            "object_fit": null,
            "object_position": null,
            "order": null,
            "overflow": null,
            "overflow_x": null,
            "overflow_y": null,
            "padding": null,
            "right": null,
            "top": null,
            "visibility": null,
            "width": null
          }
        },
        "4de8db59241c439e947cafa28503bd71": {
          "model_module": "@jupyter-widgets/controls",
          "model_name": "DescriptionStyleModel",
          "model_module_version": "1.5.0",
          "state": {
            "_model_module": "@jupyter-widgets/controls",
            "_model_module_version": "1.5.0",
            "_model_name": "DescriptionStyleModel",
            "_view_count": null,
            "_view_module": "@jupyter-widgets/base",
            "_view_module_version": "1.2.0",
            "_view_name": "StyleView",
            "description_width": ""
          }
        },
        "153f74bb89a84aaebe0cbbcf7e3eb107": {
          "model_module": "@jupyter-widgets/base",
          "model_name": "LayoutModel",
          "model_module_version": "1.2.0",
          "state": {
            "_model_module": "@jupyter-widgets/base",
            "_model_module_version": "1.2.0",
            "_model_name": "LayoutModel",
            "_view_count": null,
            "_view_module": "@jupyter-widgets/base",
            "_view_module_version": "1.2.0",
            "_view_name": "LayoutView",
            "align_content": null,
            "align_items": null,
            "align_self": null,
            "border": null,
            "bottom": null,
            "display": null,
            "flex": null,
            "flex_flow": null,
            "grid_area": null,
            "grid_auto_columns": null,
            "grid_auto_flow": null,
            "grid_auto_rows": null,
            "grid_column": null,
            "grid_gap": null,
            "grid_row": null,
            "grid_template_areas": null,
            "grid_template_columns": null,
            "grid_template_rows": null,
            "height": null,
            "justify_content": null,
            "justify_items": null,
            "left": null,
            "margin": null,
            "max_height": null,
            "max_width": null,
            "min_height": null,
            "min_width": null,
            "object_fit": null,
            "object_position": null,
            "order": null,
            "overflow": null,
            "overflow_x": null,
            "overflow_y": null,
            "padding": null,
            "right": null,
            "top": null,
            "visibility": null,
            "width": null
          }
        },
        "06f2a82cdfc5464a8939399a303091ab": {
          "model_module": "@jupyter-widgets/controls",
          "model_name": "ProgressStyleModel",
          "model_module_version": "1.5.0",
          "state": {
            "_model_module": "@jupyter-widgets/controls",
            "_model_module_version": "1.5.0",
            "_model_name": "ProgressStyleModel",
            "_view_count": null,
            "_view_module": "@jupyter-widgets/base",
            "_view_module_version": "1.2.0",
            "_view_name": "StyleView",
            "bar_color": null,
            "description_width": ""
          }
        },
        "28532d80c2d54243928578752cee1829": {
          "model_module": "@jupyter-widgets/base",
          "model_name": "LayoutModel",
          "model_module_version": "1.2.0",
          "state": {
            "_model_module": "@jupyter-widgets/base",
            "_model_module_version": "1.2.0",
            "_model_name": "LayoutModel",
            "_view_count": null,
            "_view_module": "@jupyter-widgets/base",
            "_view_module_version": "1.2.0",
            "_view_name": "LayoutView",
            "align_content": null,
            "align_items": null,
            "align_self": null,
            "border": null,
            "bottom": null,
            "display": null,
            "flex": null,
            "flex_flow": null,
            "grid_area": null,
            "grid_auto_columns": null,
            "grid_auto_flow": null,
            "grid_auto_rows": null,
            "grid_column": null,
            "grid_gap": null,
            "grid_row": null,
            "grid_template_areas": null,
            "grid_template_columns": null,
            "grid_template_rows": null,
            "height": null,
            "justify_content": null,
            "justify_items": null,
            "left": null,
            "margin": null,
            "max_height": null,
            "max_width": null,
            "min_height": null,
            "min_width": null,
            "object_fit": null,
            "object_position": null,
            "order": null,
            "overflow": null,
            "overflow_x": null,
            "overflow_y": null,
            "padding": null,
            "right": null,
            "top": null,
            "visibility": null,
            "width": null
          }
        },
        "50e3acc5ef7a4bf78355bc5ce131bc74": {
          "model_module": "@jupyter-widgets/controls",
          "model_name": "DescriptionStyleModel",
          "model_module_version": "1.5.0",
          "state": {
            "_model_module": "@jupyter-widgets/controls",
            "_model_module_version": "1.5.0",
            "_model_name": "DescriptionStyleModel",
            "_view_count": null,
            "_view_module": "@jupyter-widgets/base",
            "_view_module_version": "1.2.0",
            "_view_name": "StyleView",
            "description_width": ""
          }
        },
        "0d3a066f204b4c768aec1924b1857f5f": {
          "model_module": "@jupyter-widgets/controls",
          "model_name": "HBoxModel",
          "model_module_version": "1.5.0",
          "state": {
            "_dom_classes": [],
            "_model_module": "@jupyter-widgets/controls",
            "_model_module_version": "1.5.0",
            "_model_name": "HBoxModel",
            "_view_count": null,
            "_view_module": "@jupyter-widgets/controls",
            "_view_module_version": "1.5.0",
            "_view_name": "HBoxView",
            "box_style": "",
            "children": [
              "IPY_MODEL_067234cc004c49699e2f0c1b0f14f55d",
              "IPY_MODEL_f186a98918fe4d4fbb8eaf4eeec518b8",
              "IPY_MODEL_3e3c54c263af417c9c1d4bf5eed59f48"
            ],
            "layout": "IPY_MODEL_b75ecb34c60641f2af7a8ec4bdf602e6"
          }
        },
        "067234cc004c49699e2f0c1b0f14f55d": {
          "model_module": "@jupyter-widgets/controls",
          "model_name": "HTMLModel",
          "model_module_version": "1.5.0",
          "state": {
            "_dom_classes": [],
            "_model_module": "@jupyter-widgets/controls",
            "_model_module_version": "1.5.0",
            "_model_name": "HTMLModel",
            "_view_count": null,
            "_view_module": "@jupyter-widgets/controls",
            "_view_module_version": "1.5.0",
            "_view_name": "HTMLView",
            "description": "",
            "description_tooltip": null,
            "layout": "IPY_MODEL_4a4985702f0c484caba105972b3f6539",
            "placeholder": "​",
            "style": "IPY_MODEL_7a2029da7ff84618a5a1a5461d56b06f",
            "value": "Saving the dataset (1/1 shards): 100%"
          }
        },
        "f186a98918fe4d4fbb8eaf4eeec518b8": {
          "model_module": "@jupyter-widgets/controls",
          "model_name": "FloatProgressModel",
          "model_module_version": "1.5.0",
          "state": {
            "_dom_classes": [],
            "_model_module": "@jupyter-widgets/controls",
            "_model_module_version": "1.5.0",
            "_model_name": "FloatProgressModel",
            "_view_count": null,
            "_view_module": "@jupyter-widgets/controls",
            "_view_module_version": "1.5.0",
            "_view_name": "ProgressView",
            "bar_style": "success",
            "description": "",
            "description_tooltip": null,
            "layout": "IPY_MODEL_8f5124aa7b944f92984d0871ddb9df55",
            "max": 986,
            "min": 0,
            "orientation": "horizontal",
            "style": "IPY_MODEL_7dac64b63771492bb27b8885ade5d585",
            "value": 986
          }
        },
        "3e3c54c263af417c9c1d4bf5eed59f48": {
          "model_module": "@jupyter-widgets/controls",
          "model_name": "HTMLModel",
          "model_module_version": "1.5.0",
          "state": {
            "_dom_classes": [],
            "_model_module": "@jupyter-widgets/controls",
            "_model_module_version": "1.5.0",
            "_model_name": "HTMLModel",
            "_view_count": null,
            "_view_module": "@jupyter-widgets/controls",
            "_view_module_version": "1.5.0",
            "_view_name": "HTMLView",
            "description": "",
            "description_tooltip": null,
            "layout": "IPY_MODEL_ac0a9a49d99c430a8ed5d6320628dc98",
            "placeholder": "​",
            "style": "IPY_MODEL_3a4cdaa47cd443f6aed3ec6321012841",
            "value": " 986/986 [00:00&lt;00:00, 27791.97 examples/s]"
          }
        },
        "b75ecb34c60641f2af7a8ec4bdf602e6": {
          "model_module": "@jupyter-widgets/base",
          "model_name": "LayoutModel",
          "model_module_version": "1.2.0",
          "state": {
            "_model_module": "@jupyter-widgets/base",
            "_model_module_version": "1.2.0",
            "_model_name": "LayoutModel",
            "_view_count": null,
            "_view_module": "@jupyter-widgets/base",
            "_view_module_version": "1.2.0",
            "_view_name": "LayoutView",
            "align_content": null,
            "align_items": null,
            "align_self": null,
            "border": null,
            "bottom": null,
            "display": null,
            "flex": null,
            "flex_flow": null,
            "grid_area": null,
            "grid_auto_columns": null,
            "grid_auto_flow": null,
            "grid_auto_rows": null,
            "grid_column": null,
            "grid_gap": null,
            "grid_row": null,
            "grid_template_areas": null,
            "grid_template_columns": null,
            "grid_template_rows": null,
            "height": null,
            "justify_content": null,
            "justify_items": null,
            "left": null,
            "margin": null,
            "max_height": null,
            "max_width": null,
            "min_height": null,
            "min_width": null,
            "object_fit": null,
            "object_position": null,
            "order": null,
            "overflow": null,
            "overflow_x": null,
            "overflow_y": null,
            "padding": null,
            "right": null,
            "top": null,
            "visibility": null,
            "width": null
          }
        },
        "4a4985702f0c484caba105972b3f6539": {
          "model_module": "@jupyter-widgets/base",
          "model_name": "LayoutModel",
          "model_module_version": "1.2.0",
          "state": {
            "_model_module": "@jupyter-widgets/base",
            "_model_module_version": "1.2.0",
            "_model_name": "LayoutModel",
            "_view_count": null,
            "_view_module": "@jupyter-widgets/base",
            "_view_module_version": "1.2.0",
            "_view_name": "LayoutView",
            "align_content": null,
            "align_items": null,
            "align_self": null,
            "border": null,
            "bottom": null,
            "display": null,
            "flex": null,
            "flex_flow": null,
            "grid_area": null,
            "grid_auto_columns": null,
            "grid_auto_flow": null,
            "grid_auto_rows": null,
            "grid_column": null,
            "grid_gap": null,
            "grid_row": null,
            "grid_template_areas": null,
            "grid_template_columns": null,
            "grid_template_rows": null,
            "height": null,
            "justify_content": null,
            "justify_items": null,
            "left": null,
            "margin": null,
            "max_height": null,
            "max_width": null,
            "min_height": null,
            "min_width": null,
            "object_fit": null,
            "object_position": null,
            "order": null,
            "overflow": null,
            "overflow_x": null,
            "overflow_y": null,
            "padding": null,
            "right": null,
            "top": null,
            "visibility": null,
            "width": null
          }
        },
        "7a2029da7ff84618a5a1a5461d56b06f": {
          "model_module": "@jupyter-widgets/controls",
          "model_name": "DescriptionStyleModel",
          "model_module_version": "1.5.0",
          "state": {
            "_model_module": "@jupyter-widgets/controls",
            "_model_module_version": "1.5.0",
            "_model_name": "DescriptionStyleModel",
            "_view_count": null,
            "_view_module": "@jupyter-widgets/base",
            "_view_module_version": "1.2.0",
            "_view_name": "StyleView",
            "description_width": ""
          }
        },
        "8f5124aa7b944f92984d0871ddb9df55": {
          "model_module": "@jupyter-widgets/base",
          "model_name": "LayoutModel",
          "model_module_version": "1.2.0",
          "state": {
            "_model_module": "@jupyter-widgets/base",
            "_model_module_version": "1.2.0",
            "_model_name": "LayoutModel",
            "_view_count": null,
            "_view_module": "@jupyter-widgets/base",
            "_view_module_version": "1.2.0",
            "_view_name": "LayoutView",
            "align_content": null,
            "align_items": null,
            "align_self": null,
            "border": null,
            "bottom": null,
            "display": null,
            "flex": null,
            "flex_flow": null,
            "grid_area": null,
            "grid_auto_columns": null,
            "grid_auto_flow": null,
            "grid_auto_rows": null,
            "grid_column": null,
            "grid_gap": null,
            "grid_row": null,
            "grid_template_areas": null,
            "grid_template_columns": null,
            "grid_template_rows": null,
            "height": null,
            "justify_content": null,
            "justify_items": null,
            "left": null,
            "margin": null,
            "max_height": null,
            "max_width": null,
            "min_height": null,
            "min_width": null,
            "object_fit": null,
            "object_position": null,
            "order": null,
            "overflow": null,
            "overflow_x": null,
            "overflow_y": null,
            "padding": null,
            "right": null,
            "top": null,
            "visibility": null,
            "width": null
          }
        },
        "7dac64b63771492bb27b8885ade5d585": {
          "model_module": "@jupyter-widgets/controls",
          "model_name": "ProgressStyleModel",
          "model_module_version": "1.5.0",
          "state": {
            "_model_module": "@jupyter-widgets/controls",
            "_model_module_version": "1.5.0",
            "_model_name": "ProgressStyleModel",
            "_view_count": null,
            "_view_module": "@jupyter-widgets/base",
            "_view_module_version": "1.2.0",
            "_view_name": "StyleView",
            "bar_color": null,
            "description_width": ""
          }
        },
        "ac0a9a49d99c430a8ed5d6320628dc98": {
          "model_module": "@jupyter-widgets/base",
          "model_name": "LayoutModel",
          "model_module_version": "1.2.0",
          "state": {
            "_model_module": "@jupyter-widgets/base",
            "_model_module_version": "1.2.0",
            "_model_name": "LayoutModel",
            "_view_count": null,
            "_view_module": "@jupyter-widgets/base",
            "_view_module_version": "1.2.0",
            "_view_name": "LayoutView",
            "align_content": null,
            "align_items": null,
            "align_self": null,
            "border": null,
            "bottom": null,
            "display": null,
            "flex": null,
            "flex_flow": null,
            "grid_area": null,
            "grid_auto_columns": null,
            "grid_auto_flow": null,
            "grid_auto_rows": null,
            "grid_column": null,
            "grid_gap": null,
            "grid_row": null,
            "grid_template_areas": null,
            "grid_template_columns": null,
            "grid_template_rows": null,
            "height": null,
            "justify_content": null,
            "justify_items": null,
            "left": null,
            "margin": null,
            "max_height": null,
            "max_width": null,
            "min_height": null,
            "min_width": null,
            "object_fit": null,
            "object_position": null,
            "order": null,
            "overflow": null,
            "overflow_x": null,
            "overflow_y": null,
            "padding": null,
            "right": null,
            "top": null,
            "visibility": null,
            "width": null
          }
        },
        "3a4cdaa47cd443f6aed3ec6321012841": {
          "model_module": "@jupyter-widgets/controls",
          "model_name": "DescriptionStyleModel",
          "model_module_version": "1.5.0",
          "state": {
            "_model_module": "@jupyter-widgets/controls",
            "_model_module_version": "1.5.0",
            "_model_name": "DescriptionStyleModel",
            "_view_count": null,
            "_view_module": "@jupyter-widgets/base",
            "_view_module_version": "1.2.0",
            "_view_name": "StyleView",
            "description_width": ""
          }
        }
      }
    }
  },
  "nbformat": 4,
  "nbformat_minor": 5
}